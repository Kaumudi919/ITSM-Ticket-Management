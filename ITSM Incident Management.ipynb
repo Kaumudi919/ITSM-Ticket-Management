{
 "cells": [
  {
   "cell_type": "markdown",
   "id": "c3d988c5",
   "metadata": {},
   "source": [
    "## Business Case:"
   ]
  },
  {
   "cell_type": "markdown",
   "id": "7bcfe8ce",
   "metadata": {},
   "source": [
    "ABC Tech is an mid-size organisation operation in IT-enabled business segment over a decade. On an average ABC Tech receives 22-25k ITincidents/tickets , which were handled to best practice ITIL framework with incident management , problem management, change managementand configuration management processes. These ITIL practices attained matured process level and a recent audit confirmed that further improvement initiatives may not yield return of investment. ABC Tech management is looking for ways to improve the incident management process as recent customer survey results shows that incident management is rated as poor."
   ]
  },
  {
   "cell_type": "markdown",
   "id": "218741e8",
   "metadata": {},
   "source": [
    "Machine Learning as way to improve ITSM processes:<br>\n",
    "ABC Tech management recently attended Machine Learning conference on ML for ITSM.<br>\n",
    "Machine learning looks prospective to improve ITSM processes through prediction and automation. They came up with 4 key areas, where ML can help ITSM process in ABC Tech.<br>\n",
    "1. Predicting High Priority Tickets: To predict priority 1 & 2 tickets, so that they can take preventive measures or fix the problem before it surfaces.\n",
    "2. Forecast the incident volume in different fields , quarterly and annual. So that they can be better prepared with resources and technology planning.\n",
    "3. Auto tag the tickets with right priorities and right departments so that reassigning and related delay can be reduced.\n",
    "4. Predict RFC (Request for change) and possible failure / misconfiguration of ITSM assets."
   ]
  },
  {
   "cell_type": "code",
   "execution_count": 1,
   "id": "4ee96b2f",
   "metadata": {},
   "outputs": [],
   "source": [
    "import os\n",
    "import mysql.connector\n",
    "import pandas as pd\n",
    "import numpy as np\n",
    "from sklearn.preprocessing import LabelEncoder\n",
    "from sklearn.model_selection import train_test_split\n",
    "from imblearn.over_sampling import SMOTE\n",
    "from sklearn.metrics import accuracy_score, classification_report, confusion_matrix\n",
    "from prettytable import PrettyTable\n",
    "import warnings\n",
    "warnings.filterwarnings('ignore')"
   ]
  },
  {
   "cell_type": "code",
   "execution_count": 2,
   "id": "6a503cbc",
   "metadata": {},
   "outputs": [
    {
     "name": "stdout",
     "output_type": "stream",
     "text": [
      "Collecting pymysql\n",
      "  Downloading PyMySQL-1.1.0-py3-none-any.whl (44 kB)\n",
      "     -------------------------------------- 44.8/44.8 kB 442.7 kB/s eta 0:00:00\n",
      "Installing collected packages: pymysql\n",
      "Successfully installed pymysql-1.1.0\n"
     ]
    }
   ],
   "source": [
    "!pip install pymysql"
   ]
  },
  {
   "cell_type": "code",
   "execution_count": 3,
   "id": "1d18d7b2",
   "metadata": {},
   "outputs": [
    {
     "name": "stdout",
     "output_type": "stream",
     "text": [
      "Collecting mysql-connector\n",
      "  Downloading mysql-connector-2.2.9.tar.gz (11.9 MB)\n",
      "     -------------------------------------- 11.9/11.9 MB 223.5 kB/s eta 0:00:00\n",
      "  Preparing metadata (setup.py): started\n",
      "  Preparing metadata (setup.py): finished with status 'done'\n",
      "Building wheels for collected packages: mysql-connector\n",
      "  Building wheel for mysql-connector (setup.py): started\n",
      "  Building wheel for mysql-connector (setup.py): finished with status 'done'\n",
      "  Created wheel for mysql-connector: filename=mysql_connector-2.2.9-cp310-cp310-win_amd64.whl size=247958 sha256=a1487a0a9618236d4651e8b6b5386da8359ec092666daed1a7703311ee9ceaf8\n",
      "  Stored in directory: c:\\users\\kaumudi\\appdata\\local\\pip\\cache\\wheels\\3e\\7f\\a3\\928a40d1ffd01dd16057f308042377afc505d56145375adf40\n",
      "Successfully built mysql-connector\n",
      "Installing collected packages: mysql-connector\n",
      "Successfully installed mysql-connector-2.2.9\n"
     ]
    }
   ],
   "source": [
    "!pip install mysql-connector"
   ]
  },
  {
   "cell_type": "code",
   "execution_count": 2,
   "id": "f2b621d1",
   "metadata": {},
   "outputs": [],
   "source": [
    "connection=mysql.connector.connect(host = '18.136.157.135',user='dm_team', port='3306',password='DM!$Team@&27920!')"
   ]
  },
  {
   "cell_type": "code",
   "execution_count": 10,
   "id": "5d385b40",
   "metadata": {},
   "outputs": [
    {
     "name": "stdout",
     "output_type": "stream",
     "text": [
      "('information_schema',)\n",
      "('project_itsm',)\n"
     ]
    }
   ],
   "source": [
    "cursor=connection.cursor()\n",
    "cursor.execute('show databases')\n",
    "for i in cursor:\n",
    "    print(i)"
   ]
  },
  {
   "cell_type": "code",
   "execution_count": 11,
   "id": "76f5c061",
   "metadata": {},
   "outputs": [],
   "source": [
    "connection=mysql.connector.connect(host = '18.136.157.135',user='dm_team', port='3306',password='DM!$Team@&27920!',database='project_itsm')"
   ]
  },
  {
   "cell_type": "code",
   "execution_count": 12,
   "id": "c5dc2334",
   "metadata": {},
   "outputs": [
    {
     "name": "stdout",
     "output_type": "stream",
     "text": [
      "  Tables_in_project_itsm\n",
      "0           dataset_list\n"
     ]
    }
   ],
   "source": [
    "db_tables=pd.read_sql_query('show tables',connection)\n",
    "print(db_tables)"
   ]
  },
  {
   "cell_type": "code",
   "execution_count": 14,
   "id": "39e6ab22",
   "metadata": {},
   "outputs": [
    {
     "data": {
      "text/html": [
       "<div>\n",
       "<style scoped>\n",
       "    .dataframe tbody tr th:only-of-type {\n",
       "        vertical-align: middle;\n",
       "    }\n",
       "\n",
       "    .dataframe tbody tr th {\n",
       "        vertical-align: top;\n",
       "    }\n",
       "\n",
       "    .dataframe thead th {\n",
       "        text-align: right;\n",
       "    }\n",
       "</style>\n",
       "<table border=\"1\" class=\"dataframe\">\n",
       "  <thead>\n",
       "    <tr style=\"text-align: right;\">\n",
       "      <th></th>\n",
       "      <th>CI_Name</th>\n",
       "      <th>CI_Cat</th>\n",
       "      <th>CI_Subcat</th>\n",
       "      <th>WBS</th>\n",
       "      <th>Incident_ID</th>\n",
       "      <th>Status</th>\n",
       "      <th>Impact</th>\n",
       "      <th>Urgency</th>\n",
       "      <th>Priority</th>\n",
       "      <th>number_cnt</th>\n",
       "      <th>...</th>\n",
       "      <th>Reopen_Time</th>\n",
       "      <th>Resolved_Time</th>\n",
       "      <th>Close_Time</th>\n",
       "      <th>Handle_Time_hrs</th>\n",
       "      <th>Closure_Code</th>\n",
       "      <th>No_of_Related_Interactions</th>\n",
       "      <th>Related_Interaction</th>\n",
       "      <th>No_of_Related_Incidents</th>\n",
       "      <th>No_of_Related_Changes</th>\n",
       "      <th>Related_Change</th>\n",
       "    </tr>\n",
       "  </thead>\n",
       "  <tbody>\n",
       "    <tr>\n",
       "      <th>0</th>\n",
       "      <td>SUB000508</td>\n",
       "      <td>subapplication</td>\n",
       "      <td>Web Based Application</td>\n",
       "      <td>WBS000162</td>\n",
       "      <td>IM0000004</td>\n",
       "      <td>Closed</td>\n",
       "      <td>4</td>\n",
       "      <td>4</td>\n",
       "      <td>4</td>\n",
       "      <td>0.601292279</td>\n",
       "      <td>...</td>\n",
       "      <td></td>\n",
       "      <td>04-11-2013 13:50</td>\n",
       "      <td>04-11-2013 13:51</td>\n",
       "      <td>3,87,16,91,111</td>\n",
       "      <td>Other</td>\n",
       "      <td>1</td>\n",
       "      <td>SD0000007</td>\n",
       "      <td>2</td>\n",
       "      <td></td>\n",
       "      <td></td>\n",
       "    </tr>\n",
       "    <tr>\n",
       "      <th>1</th>\n",
       "      <td>WBA000124</td>\n",
       "      <td>application</td>\n",
       "      <td>Web Based Application</td>\n",
       "      <td>WBS000088</td>\n",
       "      <td>IM0000005</td>\n",
       "      <td>Closed</td>\n",
       "      <td>3</td>\n",
       "      <td>3</td>\n",
       "      <td>3</td>\n",
       "      <td>0.415049969</td>\n",
       "      <td>...</td>\n",
       "      <td>02-12-2013 12:31</td>\n",
       "      <td>02-12-2013 12:36</td>\n",
       "      <td>02-12-2013 12:36</td>\n",
       "      <td>4,35,47,86,389</td>\n",
       "      <td>Software</td>\n",
       "      <td>1</td>\n",
       "      <td>SD0000011</td>\n",
       "      <td>1</td>\n",
       "      <td></td>\n",
       "      <td></td>\n",
       "    </tr>\n",
       "    <tr>\n",
       "      <th>2</th>\n",
       "      <td>DTA000024</td>\n",
       "      <td>application</td>\n",
       "      <td>Desktop Application</td>\n",
       "      <td>WBS000092</td>\n",
       "      <td>IM0000006</td>\n",
       "      <td>Closed</td>\n",
       "      <td>NS</td>\n",
       "      <td>3</td>\n",
       "      <td>NA</td>\n",
       "      <td>0.517551335</td>\n",
       "      <td>...</td>\n",
       "      <td></td>\n",
       "      <td>13-01-2014 15:12</td>\n",
       "      <td>13-01-2014 15:13</td>\n",
       "      <td>4,84,31,19,444</td>\n",
       "      <td>No error - works as designed</td>\n",
       "      <td>1</td>\n",
       "      <td>SD0000017</td>\n",
       "      <td></td>\n",
       "      <td></td>\n",
       "      <td></td>\n",
       "    </tr>\n",
       "    <tr>\n",
       "      <th>3</th>\n",
       "      <td>WBA000124</td>\n",
       "      <td>application</td>\n",
       "      <td>Web Based Application</td>\n",
       "      <td>WBS000088</td>\n",
       "      <td>IM0000011</td>\n",
       "      <td>Closed</td>\n",
       "      <td>4</td>\n",
       "      <td>4</td>\n",
       "      <td>4</td>\n",
       "      <td>0.642927218</td>\n",
       "      <td>...</td>\n",
       "      <td></td>\n",
       "      <td>14-11-2013 09:31</td>\n",
       "      <td>14-11-2013 09:31</td>\n",
       "      <td>4,32,18,33,333</td>\n",
       "      <td>Operator error</td>\n",
       "      <td>1</td>\n",
       "      <td>SD0000025</td>\n",
       "      <td></td>\n",
       "      <td></td>\n",
       "      <td></td>\n",
       "    </tr>\n",
       "    <tr>\n",
       "      <th>4</th>\n",
       "      <td>WBA000124</td>\n",
       "      <td>application</td>\n",
       "      <td>Web Based Application</td>\n",
       "      <td>WBS000088</td>\n",
       "      <td>IM0000012</td>\n",
       "      <td>Closed</td>\n",
       "      <td>4</td>\n",
       "      <td>4</td>\n",
       "      <td>4</td>\n",
       "      <td>0.345258343</td>\n",
       "      <td>...</td>\n",
       "      <td></td>\n",
       "      <td>08-11-2013 13:55</td>\n",
       "      <td>08-11-2013 13:55</td>\n",
       "      <td>3,38,39,03,333</td>\n",
       "      <td>Other</td>\n",
       "      <td>1</td>\n",
       "      <td>SD0000029</td>\n",
       "      <td></td>\n",
       "      <td></td>\n",
       "      <td></td>\n",
       "    </tr>\n",
       "    <tr>\n",
       "      <th>...</th>\n",
       "      <td>...</td>\n",
       "      <td>...</td>\n",
       "      <td>...</td>\n",
       "      <td>...</td>\n",
       "      <td>...</td>\n",
       "      <td>...</td>\n",
       "      <td>...</td>\n",
       "      <td>...</td>\n",
       "      <td>...</td>\n",
       "      <td>...</td>\n",
       "      <td>...</td>\n",
       "      <td>...</td>\n",
       "      <td>...</td>\n",
       "      <td>...</td>\n",
       "      <td>...</td>\n",
       "      <td>...</td>\n",
       "      <td>...</td>\n",
       "      <td>...</td>\n",
       "      <td>...</td>\n",
       "      <td>...</td>\n",
       "      <td>...</td>\n",
       "    </tr>\n",
       "    <tr>\n",
       "      <th>46601</th>\n",
       "      <td>SBA000464</td>\n",
       "      <td>application</td>\n",
       "      <td>Server Based Application</td>\n",
       "      <td>WBS000073</td>\n",
       "      <td>IM0047053</td>\n",
       "      <td>Closed</td>\n",
       "      <td>4</td>\n",
       "      <td>4</td>\n",
       "      <td>4</td>\n",
       "      <td>0.23189604</td>\n",
       "      <td>...</td>\n",
       "      <td></td>\n",
       "      <td>31-03-2014 16:29</td>\n",
       "      <td>31-03-2014 16:29</td>\n",
       "      <td>0,095</td>\n",
       "      <td>Other</td>\n",
       "      <td>1</td>\n",
       "      <td>SD0147021</td>\n",
       "      <td></td>\n",
       "      <td></td>\n",
       "      <td></td>\n",
       "    </tr>\n",
       "    <tr>\n",
       "      <th>46602</th>\n",
       "      <td>SBA000461</td>\n",
       "      <td>application</td>\n",
       "      <td>Server Based Application</td>\n",
       "      <td>WBS000073</td>\n",
       "      <td>IM0047054</td>\n",
       "      <td>Closed</td>\n",
       "      <td>4</td>\n",
       "      <td>4</td>\n",
       "      <td>4</td>\n",
       "      <td>0.805153085</td>\n",
       "      <td>...</td>\n",
       "      <td></td>\n",
       "      <td>31-03-2014 15:29</td>\n",
       "      <td>31-03-2014 15:29</td>\n",
       "      <td>0,428333333</td>\n",
       "      <td>User error</td>\n",
       "      <td>1</td>\n",
       "      <td>SD0146967</td>\n",
       "      <td></td>\n",
       "      <td></td>\n",
       "      <td></td>\n",
       "    </tr>\n",
       "    <tr>\n",
       "      <th>46603</th>\n",
       "      <td>LAP000019</td>\n",
       "      <td>computer</td>\n",
       "      <td>Laptop</td>\n",
       "      <td>WBS000091</td>\n",
       "      <td>IM0047055</td>\n",
       "      <td>Closed</td>\n",
       "      <td>5</td>\n",
       "      <td>5</td>\n",
       "      <td>5</td>\n",
       "      <td>0.917466294</td>\n",
       "      <td>...</td>\n",
       "      <td></td>\n",
       "      <td>31-03-2014 15:32</td>\n",
       "      <td>31-03-2014 15:32</td>\n",
       "      <td>0,071666667</td>\n",
       "      <td>Hardware</td>\n",
       "      <td>1</td>\n",
       "      <td>SD0146982</td>\n",
       "      <td></td>\n",
       "      <td></td>\n",
       "      <td></td>\n",
       "    </tr>\n",
       "    <tr>\n",
       "      <th>46604</th>\n",
       "      <td>WBA000058</td>\n",
       "      <td>application</td>\n",
       "      <td>Web Based Application</td>\n",
       "      <td>WBS000073</td>\n",
       "      <td>IM0047056</td>\n",
       "      <td>Closed</td>\n",
       "      <td>4</td>\n",
       "      <td>4</td>\n",
       "      <td>4</td>\n",
       "      <td>0.701278158</td>\n",
       "      <td>...</td>\n",
       "      <td></td>\n",
       "      <td>31-03-2014 15:42</td>\n",
       "      <td>31-03-2014 15:42</td>\n",
       "      <td>0,116944444</td>\n",
       "      <td>Software</td>\n",
       "      <td>1</td>\n",
       "      <td>SD0146986</td>\n",
       "      <td></td>\n",
       "      <td></td>\n",
       "      <td></td>\n",
       "    </tr>\n",
       "    <tr>\n",
       "      <th>46605</th>\n",
       "      <td>DCE000077</td>\n",
       "      <td>hardware</td>\n",
       "      <td>DataCenterEquipment</td>\n",
       "      <td>WBS000267</td>\n",
       "      <td>IM0047057</td>\n",
       "      <td>Closed</td>\n",
       "      <td>3</td>\n",
       "      <td>3</td>\n",
       "      <td>3</td>\n",
       "      <td>0.902319509</td>\n",
       "      <td>...</td>\n",
       "      <td></td>\n",
       "      <td>31-03-2014 22:47</td>\n",
       "      <td>31-03-2014 22:47</td>\n",
       "      <td>0,586388889</td>\n",
       "      <td>Hardware</td>\n",
       "      <td>1</td>\n",
       "      <td>SD0147088</td>\n",
       "      <td></td>\n",
       "      <td></td>\n",
       "      <td></td>\n",
       "    </tr>\n",
       "  </tbody>\n",
       "</table>\n",
       "<p>46606 rows × 25 columns</p>\n",
       "</div>"
      ],
      "text/plain": [
       "         CI_Name          CI_Cat                 CI_Subcat        WBS  \\\n",
       "0      SUB000508  subapplication     Web Based Application  WBS000162   \n",
       "1      WBA000124     application     Web Based Application  WBS000088   \n",
       "2      DTA000024     application       Desktop Application  WBS000092   \n",
       "3      WBA000124     application     Web Based Application  WBS000088   \n",
       "4      WBA000124     application     Web Based Application  WBS000088   \n",
       "...          ...             ...                       ...        ...   \n",
       "46601  SBA000464     application  Server Based Application  WBS000073   \n",
       "46602  SBA000461     application  Server Based Application  WBS000073   \n",
       "46603  LAP000019        computer                    Laptop  WBS000091   \n",
       "46604  WBA000058     application     Web Based Application  WBS000073   \n",
       "46605  DCE000077        hardware       DataCenterEquipment  WBS000267   \n",
       "\n",
       "      Incident_ID  Status Impact Urgency Priority   number_cnt  ...  \\\n",
       "0       IM0000004  Closed      4       4        4  0.601292279  ...   \n",
       "1       IM0000005  Closed      3       3        3  0.415049969  ...   \n",
       "2       IM0000006  Closed     NS       3       NA  0.517551335  ...   \n",
       "3       IM0000011  Closed      4       4        4  0.642927218  ...   \n",
       "4       IM0000012  Closed      4       4        4  0.345258343  ...   \n",
       "...           ...     ...    ...     ...      ...          ...  ...   \n",
       "46601   IM0047053  Closed      4       4        4   0.23189604  ...   \n",
       "46602   IM0047054  Closed      4       4        4  0.805153085  ...   \n",
       "46603   IM0047055  Closed      5       5        5  0.917466294  ...   \n",
       "46604   IM0047056  Closed      4       4        4  0.701278158  ...   \n",
       "46605   IM0047057  Closed      3       3        3  0.902319509  ...   \n",
       "\n",
       "            Reopen_Time     Resolved_Time        Close_Time Handle_Time_hrs  \\\n",
       "0                        04-11-2013 13:50  04-11-2013 13:51  3,87,16,91,111   \n",
       "1      02-12-2013 12:31  02-12-2013 12:36  02-12-2013 12:36  4,35,47,86,389   \n",
       "2                        13-01-2014 15:12  13-01-2014 15:13  4,84,31,19,444   \n",
       "3                        14-11-2013 09:31  14-11-2013 09:31  4,32,18,33,333   \n",
       "4                        08-11-2013 13:55  08-11-2013 13:55  3,38,39,03,333   \n",
       "...                 ...               ...               ...             ...   \n",
       "46601                    31-03-2014 16:29  31-03-2014 16:29           0,095   \n",
       "46602                    31-03-2014 15:29  31-03-2014 15:29     0,428333333   \n",
       "46603                    31-03-2014 15:32  31-03-2014 15:32     0,071666667   \n",
       "46604                    31-03-2014 15:42  31-03-2014 15:42     0,116944444   \n",
       "46605                    31-03-2014 22:47  31-03-2014 22:47     0,586388889   \n",
       "\n",
       "                       Closure_Code No_of_Related_Interactions  \\\n",
       "0                             Other                          1   \n",
       "1                          Software                          1   \n",
       "2      No error - works as designed                          1   \n",
       "3                    Operator error                          1   \n",
       "4                             Other                          1   \n",
       "...                             ...                        ...   \n",
       "46601                         Other                          1   \n",
       "46602                    User error                          1   \n",
       "46603                      Hardware                          1   \n",
       "46604                      Software                          1   \n",
       "46605                      Hardware                          1   \n",
       "\n",
       "      Related_Interaction No_of_Related_Incidents No_of_Related_Changes  \\\n",
       "0               SD0000007                       2                         \n",
       "1               SD0000011                       1                         \n",
       "2               SD0000017                                                 \n",
       "3               SD0000025                                                 \n",
       "4               SD0000029                                                 \n",
       "...                   ...                     ...                   ...   \n",
       "46601           SD0147021                                                 \n",
       "46602           SD0146967                                                 \n",
       "46603           SD0146982                                                 \n",
       "46604           SD0146986                                                 \n",
       "46605           SD0147088                                                 \n",
       "\n",
       "      Related_Change  \n",
       "0                     \n",
       "1                     \n",
       "2                     \n",
       "3                     \n",
       "4                     \n",
       "...              ...  \n",
       "46601                 \n",
       "46602                 \n",
       "46603                 \n",
       "46604                 \n",
       "46605                 \n",
       "\n",
       "[46606 rows x 25 columns]"
      ]
     },
     "execution_count": 14,
     "metadata": {},
     "output_type": "execute_result"
    }
   ],
   "source": [
    "from sqlalchemy import create_engine\n",
    "query = \"select * from dataset_list\" \n",
    "data = pd.read_sql(query,connection)\n",
    "data"
   ]
  },
  {
   "cell_type": "code",
   "execution_count": 15,
   "id": "301665ad",
   "metadata": {},
   "outputs": [],
   "source": [
    "data.to_csv('E:/DataMites/DataMites_Project/ISTM Project_Client/ITSM.csv')"
   ]
  },
  {
   "cell_type": "code",
   "execution_count": 3,
   "id": "4b5cf9c0",
   "metadata": {},
   "outputs": [
    {
     "data": {
      "text/html": [
       "<div>\n",
       "<style scoped>\n",
       "    .dataframe tbody tr th:only-of-type {\n",
       "        vertical-align: middle;\n",
       "    }\n",
       "\n",
       "    .dataframe tbody tr th {\n",
       "        vertical-align: top;\n",
       "    }\n",
       "\n",
       "    .dataframe thead th {\n",
       "        text-align: right;\n",
       "    }\n",
       "</style>\n",
       "<table border=\"1\" class=\"dataframe\">\n",
       "  <thead>\n",
       "    <tr style=\"text-align: right;\">\n",
       "      <th></th>\n",
       "      <th>Unnamed: 0</th>\n",
       "      <th>CI_Name</th>\n",
       "      <th>CI_Cat</th>\n",
       "      <th>CI_Subcat</th>\n",
       "      <th>WBS</th>\n",
       "      <th>Incident_ID</th>\n",
       "      <th>Status</th>\n",
       "      <th>Impact</th>\n",
       "      <th>Urgency</th>\n",
       "      <th>Priority</th>\n",
       "      <th>...</th>\n",
       "      <th>Reopen_Time</th>\n",
       "      <th>Resolved_Time</th>\n",
       "      <th>Close_Time</th>\n",
       "      <th>Handle_Time_hrs</th>\n",
       "      <th>Closure_Code</th>\n",
       "      <th>No_of_Related_Interactions</th>\n",
       "      <th>Related_Interaction</th>\n",
       "      <th>No_of_Related_Incidents</th>\n",
       "      <th>No_of_Related_Changes</th>\n",
       "      <th>Related_Change</th>\n",
       "    </tr>\n",
       "  </thead>\n",
       "  <tbody>\n",
       "    <tr>\n",
       "      <th>0</th>\n",
       "      <td>0</td>\n",
       "      <td>SUB000508</td>\n",
       "      <td>subapplication</td>\n",
       "      <td>Web Based Application</td>\n",
       "      <td>WBS000162</td>\n",
       "      <td>IM0000004</td>\n",
       "      <td>Closed</td>\n",
       "      <td>4</td>\n",
       "      <td>4</td>\n",
       "      <td>4.0</td>\n",
       "      <td>...</td>\n",
       "      <td>NaN</td>\n",
       "      <td>04-11-2013 13:50</td>\n",
       "      <td>04-11-2013 13:51</td>\n",
       "      <td>3,87,16,91,111</td>\n",
       "      <td>Other</td>\n",
       "      <td>1.0</td>\n",
       "      <td>SD0000007</td>\n",
       "      <td>2.0</td>\n",
       "      <td>NaN</td>\n",
       "      <td>NaN</td>\n",
       "    </tr>\n",
       "    <tr>\n",
       "      <th>1</th>\n",
       "      <td>1</td>\n",
       "      <td>WBA000124</td>\n",
       "      <td>application</td>\n",
       "      <td>Web Based Application</td>\n",
       "      <td>WBS000088</td>\n",
       "      <td>IM0000005</td>\n",
       "      <td>Closed</td>\n",
       "      <td>3</td>\n",
       "      <td>3</td>\n",
       "      <td>3.0</td>\n",
       "      <td>...</td>\n",
       "      <td>02-12-2013 12:31</td>\n",
       "      <td>02-12-2013 12:36</td>\n",
       "      <td>02-12-2013 12:36</td>\n",
       "      <td>4,35,47,86,389</td>\n",
       "      <td>Software</td>\n",
       "      <td>1.0</td>\n",
       "      <td>SD0000011</td>\n",
       "      <td>1.0</td>\n",
       "      <td>NaN</td>\n",
       "      <td>NaN</td>\n",
       "    </tr>\n",
       "    <tr>\n",
       "      <th>2</th>\n",
       "      <td>2</td>\n",
       "      <td>DTA000024</td>\n",
       "      <td>application</td>\n",
       "      <td>Desktop Application</td>\n",
       "      <td>WBS000092</td>\n",
       "      <td>IM0000006</td>\n",
       "      <td>Closed</td>\n",
       "      <td>NS</td>\n",
       "      <td>3</td>\n",
       "      <td>NaN</td>\n",
       "      <td>...</td>\n",
       "      <td>NaN</td>\n",
       "      <td>13-01-2014 15:12</td>\n",
       "      <td>13-01-2014 15:13</td>\n",
       "      <td>4,84,31,19,444</td>\n",
       "      <td>No error - works as designed</td>\n",
       "      <td>1.0</td>\n",
       "      <td>SD0000017</td>\n",
       "      <td>NaN</td>\n",
       "      <td>NaN</td>\n",
       "      <td>NaN</td>\n",
       "    </tr>\n",
       "    <tr>\n",
       "      <th>3</th>\n",
       "      <td>3</td>\n",
       "      <td>WBA000124</td>\n",
       "      <td>application</td>\n",
       "      <td>Web Based Application</td>\n",
       "      <td>WBS000088</td>\n",
       "      <td>IM0000011</td>\n",
       "      <td>Closed</td>\n",
       "      <td>4</td>\n",
       "      <td>4</td>\n",
       "      <td>4.0</td>\n",
       "      <td>...</td>\n",
       "      <td>NaN</td>\n",
       "      <td>14-11-2013 09:31</td>\n",
       "      <td>14-11-2013 09:31</td>\n",
       "      <td>4,32,18,33,333</td>\n",
       "      <td>Operator error</td>\n",
       "      <td>1.0</td>\n",
       "      <td>SD0000025</td>\n",
       "      <td>NaN</td>\n",
       "      <td>NaN</td>\n",
       "      <td>NaN</td>\n",
       "    </tr>\n",
       "    <tr>\n",
       "      <th>4</th>\n",
       "      <td>4</td>\n",
       "      <td>WBA000124</td>\n",
       "      <td>application</td>\n",
       "      <td>Web Based Application</td>\n",
       "      <td>WBS000088</td>\n",
       "      <td>IM0000012</td>\n",
       "      <td>Closed</td>\n",
       "      <td>4</td>\n",
       "      <td>4</td>\n",
       "      <td>4.0</td>\n",
       "      <td>...</td>\n",
       "      <td>NaN</td>\n",
       "      <td>08-11-2013 13:55</td>\n",
       "      <td>08-11-2013 13:55</td>\n",
       "      <td>3,38,39,03,333</td>\n",
       "      <td>Other</td>\n",
       "      <td>1.0</td>\n",
       "      <td>SD0000029</td>\n",
       "      <td>NaN</td>\n",
       "      <td>NaN</td>\n",
       "      <td>NaN</td>\n",
       "    </tr>\n",
       "  </tbody>\n",
       "</table>\n",
       "<p>5 rows × 26 columns</p>\n",
       "</div>"
      ],
      "text/plain": [
       "   Unnamed: 0    CI_Name          CI_Cat              CI_Subcat        WBS  \\\n",
       "0           0  SUB000508  subapplication  Web Based Application  WBS000162   \n",
       "1           1  WBA000124     application  Web Based Application  WBS000088   \n",
       "2           2  DTA000024     application    Desktop Application  WBS000092   \n",
       "3           3  WBA000124     application  Web Based Application  WBS000088   \n",
       "4           4  WBA000124     application  Web Based Application  WBS000088   \n",
       "\n",
       "  Incident_ID  Status Impact Urgency  Priority  ...       Reopen_Time  \\\n",
       "0   IM0000004  Closed      4       4       4.0  ...               NaN   \n",
       "1   IM0000005  Closed      3       3       3.0  ...  02-12-2013 12:31   \n",
       "2   IM0000006  Closed     NS       3       NaN  ...               NaN   \n",
       "3   IM0000011  Closed      4       4       4.0  ...               NaN   \n",
       "4   IM0000012  Closed      4       4       4.0  ...               NaN   \n",
       "\n",
       "      Resolved_Time        Close_Time Handle_Time_hrs  \\\n",
       "0  04-11-2013 13:50  04-11-2013 13:51  3,87,16,91,111   \n",
       "1  02-12-2013 12:36  02-12-2013 12:36  4,35,47,86,389   \n",
       "2  13-01-2014 15:12  13-01-2014 15:13  4,84,31,19,444   \n",
       "3  14-11-2013 09:31  14-11-2013 09:31  4,32,18,33,333   \n",
       "4  08-11-2013 13:55  08-11-2013 13:55  3,38,39,03,333   \n",
       "\n",
       "                   Closure_Code No_of_Related_Interactions  \\\n",
       "0                         Other                        1.0   \n",
       "1                      Software                        1.0   \n",
       "2  No error - works as designed                        1.0   \n",
       "3                Operator error                        1.0   \n",
       "4                         Other                        1.0   \n",
       "\n",
       "  Related_Interaction No_of_Related_Incidents No_of_Related_Changes  \\\n",
       "0           SD0000007                     2.0                   NaN   \n",
       "1           SD0000011                     1.0                   NaN   \n",
       "2           SD0000017                     NaN                   NaN   \n",
       "3           SD0000025                     NaN                   NaN   \n",
       "4           SD0000029                     NaN                   NaN   \n",
       "\n",
       "  Related_Change  \n",
       "0            NaN  \n",
       "1            NaN  \n",
       "2            NaN  \n",
       "3            NaN  \n",
       "4            NaN  \n",
       "\n",
       "[5 rows x 26 columns]"
      ]
     },
     "execution_count": 3,
     "metadata": {},
     "output_type": "execute_result"
    }
   ],
   "source": [
    "data=pd.read_csv('ITSM.csv')\n",
    "data.head()"
   ]
  },
  {
   "cell_type": "code",
   "execution_count": 4,
   "id": "43e22a30",
   "metadata": {},
   "outputs": [],
   "source": [
    "# Drop unnamed column\n",
    "data.drop('Unnamed: 0',axis=1,inplace=True)"
   ]
  },
  {
   "cell_type": "code",
   "execution_count": 5,
   "id": "28478856",
   "metadata": {},
   "outputs": [
    {
     "data": {
      "text/html": [
       "<div>\n",
       "<style scoped>\n",
       "    .dataframe tbody tr th:only-of-type {\n",
       "        vertical-align: middle;\n",
       "    }\n",
       "\n",
       "    .dataframe tbody tr th {\n",
       "        vertical-align: top;\n",
       "    }\n",
       "\n",
       "    .dataframe thead th {\n",
       "        text-align: right;\n",
       "    }\n",
       "</style>\n",
       "<table border=\"1\" class=\"dataframe\">\n",
       "  <thead>\n",
       "    <tr style=\"text-align: right;\">\n",
       "      <th></th>\n",
       "      <th>CI_Name</th>\n",
       "      <th>CI_Cat</th>\n",
       "      <th>CI_Subcat</th>\n",
       "      <th>WBS</th>\n",
       "      <th>Incident_ID</th>\n",
       "      <th>Status</th>\n",
       "      <th>Impact</th>\n",
       "      <th>Urgency</th>\n",
       "      <th>Priority</th>\n",
       "      <th>number_cnt</th>\n",
       "      <th>Category</th>\n",
       "      <th>KB_number</th>\n",
       "      <th>Alert_Status</th>\n",
       "      <th>No_of_Reassignments</th>\n",
       "      <th>Open_Time</th>\n",
       "      <th>Reopen_Time</th>\n",
       "      <th>Resolved_Time</th>\n",
       "      <th>Close_Time</th>\n",
       "      <th>Handle_Time_hrs</th>\n",
       "      <th>Closure_Code</th>\n",
       "      <th>No_of_Related_Interactions</th>\n",
       "      <th>Related_Interaction</th>\n",
       "      <th>No_of_Related_Incidents</th>\n",
       "      <th>No_of_Related_Changes</th>\n",
       "      <th>Related_Change</th>\n",
       "    </tr>\n",
       "  </thead>\n",
       "  <tbody>\n",
       "    <tr>\n",
       "      <th>0</th>\n",
       "      <td>SUB000508</td>\n",
       "      <td>subapplication</td>\n",
       "      <td>Web Based Application</td>\n",
       "      <td>WBS000162</td>\n",
       "      <td>IM0000004</td>\n",
       "      <td>Closed</td>\n",
       "      <td>4</td>\n",
       "      <td>4</td>\n",
       "      <td>4.0</td>\n",
       "      <td>0.601292</td>\n",
       "      <td>incident</td>\n",
       "      <td>KM0000553</td>\n",
       "      <td>closed</td>\n",
       "      <td>26.0</td>\n",
       "      <td>05-02-2012 13:32</td>\n",
       "      <td>NaN</td>\n",
       "      <td>04-11-2013 13:50</td>\n",
       "      <td>04-11-2013 13:51</td>\n",
       "      <td>3,87,16,91,111</td>\n",
       "      <td>Other</td>\n",
       "      <td>1.0</td>\n",
       "      <td>SD0000007</td>\n",
       "      <td>2.0</td>\n",
       "      <td>NaN</td>\n",
       "      <td>NaN</td>\n",
       "    </tr>\n",
       "    <tr>\n",
       "      <th>1</th>\n",
       "      <td>WBA000124</td>\n",
       "      <td>application</td>\n",
       "      <td>Web Based Application</td>\n",
       "      <td>WBS000088</td>\n",
       "      <td>IM0000005</td>\n",
       "      <td>Closed</td>\n",
       "      <td>3</td>\n",
       "      <td>3</td>\n",
       "      <td>3.0</td>\n",
       "      <td>0.415050</td>\n",
       "      <td>incident</td>\n",
       "      <td>KM0000611</td>\n",
       "      <td>closed</td>\n",
       "      <td>33.0</td>\n",
       "      <td>12-03-2012 15:44</td>\n",
       "      <td>02-12-2013 12:31</td>\n",
       "      <td>02-12-2013 12:36</td>\n",
       "      <td>02-12-2013 12:36</td>\n",
       "      <td>4,35,47,86,389</td>\n",
       "      <td>Software</td>\n",
       "      <td>1.0</td>\n",
       "      <td>SD0000011</td>\n",
       "      <td>1.0</td>\n",
       "      <td>NaN</td>\n",
       "      <td>NaN</td>\n",
       "    </tr>\n",
       "    <tr>\n",
       "      <th>2</th>\n",
       "      <td>DTA000024</td>\n",
       "      <td>application</td>\n",
       "      <td>Desktop Application</td>\n",
       "      <td>WBS000092</td>\n",
       "      <td>IM0000006</td>\n",
       "      <td>Closed</td>\n",
       "      <td>NS</td>\n",
       "      <td>3</td>\n",
       "      <td>NaN</td>\n",
       "      <td>0.517551</td>\n",
       "      <td>request for information</td>\n",
       "      <td>KM0000339</td>\n",
       "      <td>closed</td>\n",
       "      <td>3.0</td>\n",
       "      <td>29-03-2012 12:36</td>\n",
       "      <td>NaN</td>\n",
       "      <td>13-01-2014 15:12</td>\n",
       "      <td>13-01-2014 15:13</td>\n",
       "      <td>4,84,31,19,444</td>\n",
       "      <td>No error - works as designed</td>\n",
       "      <td>1.0</td>\n",
       "      <td>SD0000017</td>\n",
       "      <td>NaN</td>\n",
       "      <td>NaN</td>\n",
       "      <td>NaN</td>\n",
       "    </tr>\n",
       "    <tr>\n",
       "      <th>3</th>\n",
       "      <td>WBA000124</td>\n",
       "      <td>application</td>\n",
       "      <td>Web Based Application</td>\n",
       "      <td>WBS000088</td>\n",
       "      <td>IM0000011</td>\n",
       "      <td>Closed</td>\n",
       "      <td>4</td>\n",
       "      <td>4</td>\n",
       "      <td>4.0</td>\n",
       "      <td>0.642927</td>\n",
       "      <td>incident</td>\n",
       "      <td>KM0000611</td>\n",
       "      <td>closed</td>\n",
       "      <td>13.0</td>\n",
       "      <td>17-07-2012 11:49</td>\n",
       "      <td>NaN</td>\n",
       "      <td>14-11-2013 09:31</td>\n",
       "      <td>14-11-2013 09:31</td>\n",
       "      <td>4,32,18,33,333</td>\n",
       "      <td>Operator error</td>\n",
       "      <td>1.0</td>\n",
       "      <td>SD0000025</td>\n",
       "      <td>NaN</td>\n",
       "      <td>NaN</td>\n",
       "      <td>NaN</td>\n",
       "    </tr>\n",
       "    <tr>\n",
       "      <th>4</th>\n",
       "      <td>WBA000124</td>\n",
       "      <td>application</td>\n",
       "      <td>Web Based Application</td>\n",
       "      <td>WBS000088</td>\n",
       "      <td>IM0000012</td>\n",
       "      <td>Closed</td>\n",
       "      <td>4</td>\n",
       "      <td>4</td>\n",
       "      <td>4.0</td>\n",
       "      <td>0.345258</td>\n",
       "      <td>incident</td>\n",
       "      <td>KM0000611</td>\n",
       "      <td>closed</td>\n",
       "      <td>2.0</td>\n",
       "      <td>10-08-2012 11:01</td>\n",
       "      <td>NaN</td>\n",
       "      <td>08-11-2013 13:55</td>\n",
       "      <td>08-11-2013 13:55</td>\n",
       "      <td>3,38,39,03,333</td>\n",
       "      <td>Other</td>\n",
       "      <td>1.0</td>\n",
       "      <td>SD0000029</td>\n",
       "      <td>NaN</td>\n",
       "      <td>NaN</td>\n",
       "      <td>NaN</td>\n",
       "    </tr>\n",
       "  </tbody>\n",
       "</table>\n",
       "</div>"
      ],
      "text/plain": [
       "     CI_Name          CI_Cat              CI_Subcat        WBS Incident_ID  \\\n",
       "0  SUB000508  subapplication  Web Based Application  WBS000162   IM0000004   \n",
       "1  WBA000124     application  Web Based Application  WBS000088   IM0000005   \n",
       "2  DTA000024     application    Desktop Application  WBS000092   IM0000006   \n",
       "3  WBA000124     application  Web Based Application  WBS000088   IM0000011   \n",
       "4  WBA000124     application  Web Based Application  WBS000088   IM0000012   \n",
       "\n",
       "   Status Impact Urgency  Priority  number_cnt                 Category  \\\n",
       "0  Closed      4       4       4.0    0.601292                 incident   \n",
       "1  Closed      3       3       3.0    0.415050                 incident   \n",
       "2  Closed     NS       3       NaN    0.517551  request for information   \n",
       "3  Closed      4       4       4.0    0.642927                 incident   \n",
       "4  Closed      4       4       4.0    0.345258                 incident   \n",
       "\n",
       "   KB_number Alert_Status  No_of_Reassignments         Open_Time  \\\n",
       "0  KM0000553       closed                 26.0  05-02-2012 13:32   \n",
       "1  KM0000611       closed                 33.0  12-03-2012 15:44   \n",
       "2  KM0000339       closed                  3.0  29-03-2012 12:36   \n",
       "3  KM0000611       closed                 13.0  17-07-2012 11:49   \n",
       "4  KM0000611       closed                  2.0  10-08-2012 11:01   \n",
       "\n",
       "        Reopen_Time     Resolved_Time        Close_Time Handle_Time_hrs  \\\n",
       "0               NaN  04-11-2013 13:50  04-11-2013 13:51  3,87,16,91,111   \n",
       "1  02-12-2013 12:31  02-12-2013 12:36  02-12-2013 12:36  4,35,47,86,389   \n",
       "2               NaN  13-01-2014 15:12  13-01-2014 15:13  4,84,31,19,444   \n",
       "3               NaN  14-11-2013 09:31  14-11-2013 09:31  4,32,18,33,333   \n",
       "4               NaN  08-11-2013 13:55  08-11-2013 13:55  3,38,39,03,333   \n",
       "\n",
       "                   Closure_Code  No_of_Related_Interactions  \\\n",
       "0                         Other                         1.0   \n",
       "1                      Software                         1.0   \n",
       "2  No error - works as designed                         1.0   \n",
       "3                Operator error                         1.0   \n",
       "4                         Other                         1.0   \n",
       "\n",
       "  Related_Interaction  No_of_Related_Incidents  No_of_Related_Changes  \\\n",
       "0           SD0000007                      2.0                    NaN   \n",
       "1           SD0000011                      1.0                    NaN   \n",
       "2           SD0000017                      NaN                    NaN   \n",
       "3           SD0000025                      NaN                    NaN   \n",
       "4           SD0000029                      NaN                    NaN   \n",
       "\n",
       "  Related_Change  \n",
       "0            NaN  \n",
       "1            NaN  \n",
       "2            NaN  \n",
       "3            NaN  \n",
       "4            NaN  "
      ]
     },
     "execution_count": 5,
     "metadata": {},
     "output_type": "execute_result"
    }
   ],
   "source": [
    "pd.set_option('display.max_columns', None)\n",
    "data.head()"
   ]
  },
  {
   "cell_type": "code",
   "execution_count": 6,
   "id": "320bfa03",
   "metadata": {},
   "outputs": [
    {
     "data": {
      "text/plain": [
       "Index(['CI_Name', 'CI_Cat', 'CI_Subcat', 'WBS', 'Incident_ID', 'Status',\n",
       "       'Impact', 'Urgency', 'Priority', 'number_cnt', 'Category', 'KB_number',\n",
       "       'Alert_Status', 'No_of_Reassignments', 'Open_Time', 'Reopen_Time',\n",
       "       'Resolved_Time', 'Close_Time', 'Handle_Time_hrs', 'Closure_Code',\n",
       "       'No_of_Related_Interactions', 'Related_Interaction',\n",
       "       'No_of_Related_Incidents', 'No_of_Related_Changes', 'Related_Change'],\n",
       "      dtype='object')"
      ]
     },
     "execution_count": 6,
     "metadata": {},
     "output_type": "execute_result"
    }
   ],
   "source": [
    "data.columns"
   ]
  },
  {
   "cell_type": "code",
   "execution_count": 7,
   "id": "b3198b9f",
   "metadata": {},
   "outputs": [
    {
     "data": {
      "text/plain": [
       "(46606, 25)"
      ]
     },
     "execution_count": 7,
     "metadata": {},
     "output_type": "execute_result"
    }
   ],
   "source": [
    "data.shape"
   ]
  },
  {
   "cell_type": "code",
   "execution_count": 8,
   "id": "7f857072",
   "metadata": {},
   "outputs": [
    {
     "name": "stdout",
     "output_type": "stream",
     "text": [
      "<class 'pandas.core.frame.DataFrame'>\n",
      "RangeIndex: 46606 entries, 0 to 46605\n",
      "Data columns (total 25 columns):\n",
      " #   Column                      Non-Null Count  Dtype  \n",
      "---  ------                      --------------  -----  \n",
      " 0   CI_Name                     46606 non-null  object \n",
      " 1   CI_Cat                      46495 non-null  object \n",
      " 2   CI_Subcat                   46495 non-null  object \n",
      " 3   WBS                         46606 non-null  object \n",
      " 4   Incident_ID                 46606 non-null  object \n",
      " 5   Status                      46606 non-null  object \n",
      " 6   Impact                      46606 non-null  object \n",
      " 7   Urgency                     46606 non-null  object \n",
      " 8   Priority                    45226 non-null  float64\n",
      " 9   number_cnt                  46606 non-null  float64\n",
      " 10  Category                    46606 non-null  object \n",
      " 11  KB_number                   46606 non-null  object \n",
      " 12  Alert_Status                46606 non-null  object \n",
      " 13  No_of_Reassignments         46605 non-null  float64\n",
      " 14  Open_Time                   46606 non-null  object \n",
      " 15  Reopen_Time                 2284 non-null   object \n",
      " 16  Resolved_Time               44826 non-null  object \n",
      " 17  Close_Time                  46606 non-null  object \n",
      " 18  Handle_Time_hrs             46605 non-null  object \n",
      " 19  Closure_Code                46146 non-null  object \n",
      " 20  No_of_Related_Interactions  46492 non-null  float64\n",
      " 21  Related_Interaction         46606 non-null  object \n",
      " 22  No_of_Related_Incidents     1222 non-null   float64\n",
      " 23  No_of_Related_Changes       560 non-null    float64\n",
      " 24  Related_Change              560 non-null    object \n",
      "dtypes: float64(6), object(19)\n",
      "memory usage: 8.9+ MB\n"
     ]
    }
   ],
   "source": [
    "data.info()"
   ]
  },
  {
   "cell_type": "code",
   "execution_count": 9,
   "id": "5521846f",
   "metadata": {},
   "outputs": [
    {
     "data": {
      "text/plain": [
       "CI_Name                           0\n",
       "CI_Cat                          111\n",
       "CI_Subcat                       111\n",
       "WBS                               0\n",
       "Incident_ID                       0\n",
       "Status                            0\n",
       "Impact                            0\n",
       "Urgency                           0\n",
       "Priority                       1380\n",
       "number_cnt                        0\n",
       "Category                          0\n",
       "KB_number                         0\n",
       "Alert_Status                      0\n",
       "No_of_Reassignments               1\n",
       "Open_Time                         0\n",
       "Reopen_Time                   44322\n",
       "Resolved_Time                  1780\n",
       "Close_Time                        0\n",
       "Handle_Time_hrs                   1\n",
       "Closure_Code                    460\n",
       "No_of_Related_Interactions      114\n",
       "Related_Interaction               0\n",
       "No_of_Related_Incidents       45384\n",
       "No_of_Related_Changes         46046\n",
       "Related_Change                46046\n",
       "dtype: int64"
      ]
     },
     "execution_count": 9,
     "metadata": {},
     "output_type": "execute_result"
    }
   ],
   "source": [
    "# Checking for missing values\n",
    "data.isnull().sum()"
   ]
  },
  {
   "cell_type": "code",
   "execution_count": 10,
   "id": "375e0941",
   "metadata": {},
   "outputs": [
    {
     "data": {
      "text/html": [
       "<div>\n",
       "<style scoped>\n",
       "    .dataframe tbody tr th:only-of-type {\n",
       "        vertical-align: middle;\n",
       "    }\n",
       "\n",
       "    .dataframe tbody tr th {\n",
       "        vertical-align: top;\n",
       "    }\n",
       "\n",
       "    .dataframe thead th {\n",
       "        text-align: right;\n",
       "    }\n",
       "</style>\n",
       "<table border=\"1\" class=\"dataframe\">\n",
       "  <thead>\n",
       "    <tr style=\"text-align: right;\">\n",
       "      <th></th>\n",
       "      <th>Priority</th>\n",
       "      <th>number_cnt</th>\n",
       "      <th>No_of_Reassignments</th>\n",
       "      <th>No_of_Related_Interactions</th>\n",
       "      <th>No_of_Related_Incidents</th>\n",
       "      <th>No_of_Related_Changes</th>\n",
       "    </tr>\n",
       "  </thead>\n",
       "  <tbody>\n",
       "    <tr>\n",
       "      <th>count</th>\n",
       "      <td>45226.000000</td>\n",
       "      <td>46606.000000</td>\n",
       "      <td>46605.000000</td>\n",
       "      <td>46492.000000</td>\n",
       "      <td>1222.000000</td>\n",
       "      <td>560.000000</td>\n",
       "    </tr>\n",
       "    <tr>\n",
       "      <th>mean</th>\n",
       "      <td>4.215805</td>\n",
       "      <td>0.499658</td>\n",
       "      <td>1.131831</td>\n",
       "      <td>1.149897</td>\n",
       "      <td>1.669394</td>\n",
       "      <td>1.058929</td>\n",
       "    </tr>\n",
       "    <tr>\n",
       "      <th>std</th>\n",
       "      <td>0.705624</td>\n",
       "      <td>0.288634</td>\n",
       "      <td>2.269774</td>\n",
       "      <td>2.556338</td>\n",
       "      <td>3.339687</td>\n",
       "      <td>0.403596</td>\n",
       "    </tr>\n",
       "    <tr>\n",
       "      <th>min</th>\n",
       "      <td>1.000000</td>\n",
       "      <td>0.000023</td>\n",
       "      <td>0.000000</td>\n",
       "      <td>1.000000</td>\n",
       "      <td>1.000000</td>\n",
       "      <td>1.000000</td>\n",
       "    </tr>\n",
       "    <tr>\n",
       "      <th>25%</th>\n",
       "      <td>4.000000</td>\n",
       "      <td>0.248213</td>\n",
       "      <td>0.000000</td>\n",
       "      <td>1.000000</td>\n",
       "      <td>1.000000</td>\n",
       "      <td>1.000000</td>\n",
       "    </tr>\n",
       "    <tr>\n",
       "      <th>50%</th>\n",
       "      <td>4.000000</td>\n",
       "      <td>0.500269</td>\n",
       "      <td>0.000000</td>\n",
       "      <td>1.000000</td>\n",
       "      <td>1.000000</td>\n",
       "      <td>1.000000</td>\n",
       "    </tr>\n",
       "    <tr>\n",
       "      <th>75%</th>\n",
       "      <td>5.000000</td>\n",
       "      <td>0.749094</td>\n",
       "      <td>2.000000</td>\n",
       "      <td>1.000000</td>\n",
       "      <td>1.000000</td>\n",
       "      <td>1.000000</td>\n",
       "    </tr>\n",
       "    <tr>\n",
       "      <th>max</th>\n",
       "      <td>5.000000</td>\n",
       "      <td>0.999997</td>\n",
       "      <td>46.000000</td>\n",
       "      <td>370.000000</td>\n",
       "      <td>63.000000</td>\n",
       "      <td>9.000000</td>\n",
       "    </tr>\n",
       "  </tbody>\n",
       "</table>\n",
       "</div>"
      ],
      "text/plain": [
       "           Priority    number_cnt  No_of_Reassignments  \\\n",
       "count  45226.000000  46606.000000         46605.000000   \n",
       "mean       4.215805      0.499658             1.131831   \n",
       "std        0.705624      0.288634             2.269774   \n",
       "min        1.000000      0.000023             0.000000   \n",
       "25%        4.000000      0.248213             0.000000   \n",
       "50%        4.000000      0.500269             0.000000   \n",
       "75%        5.000000      0.749094             2.000000   \n",
       "max        5.000000      0.999997            46.000000   \n",
       "\n",
       "       No_of_Related_Interactions  No_of_Related_Incidents  \\\n",
       "count                46492.000000              1222.000000   \n",
       "mean                     1.149897                 1.669394   \n",
       "std                      2.556338                 3.339687   \n",
       "min                      1.000000                 1.000000   \n",
       "25%                      1.000000                 1.000000   \n",
       "50%                      1.000000                 1.000000   \n",
       "75%                      1.000000                 1.000000   \n",
       "max                    370.000000                63.000000   \n",
       "\n",
       "       No_of_Related_Changes  \n",
       "count             560.000000  \n",
       "mean                1.058929  \n",
       "std                 0.403596  \n",
       "min                 1.000000  \n",
       "25%                 1.000000  \n",
       "50%                 1.000000  \n",
       "75%                 1.000000  \n",
       "max                 9.000000  "
      ]
     },
     "execution_count": 10,
     "metadata": {},
     "output_type": "execute_result"
    }
   ],
   "source": [
    "data.describe()"
   ]
  },
  {
   "cell_type": "code",
   "execution_count": 11,
   "id": "c0ff2f10",
   "metadata": {},
   "outputs": [
    {
     "data": {
      "text/html": [
       "<div>\n",
       "<style scoped>\n",
       "    .dataframe tbody tr th:only-of-type {\n",
       "        vertical-align: middle;\n",
       "    }\n",
       "\n",
       "    .dataframe tbody tr th {\n",
       "        vertical-align: top;\n",
       "    }\n",
       "\n",
       "    .dataframe thead th {\n",
       "        text-align: right;\n",
       "    }\n",
       "</style>\n",
       "<table border=\"1\" class=\"dataframe\">\n",
       "  <thead>\n",
       "    <tr style=\"text-align: right;\">\n",
       "      <th></th>\n",
       "      <th>CI_Name</th>\n",
       "      <th>CI_Cat</th>\n",
       "      <th>CI_Subcat</th>\n",
       "      <th>WBS</th>\n",
       "      <th>Incident_ID</th>\n",
       "      <th>Status</th>\n",
       "      <th>Impact</th>\n",
       "      <th>Urgency</th>\n",
       "      <th>Category</th>\n",
       "      <th>KB_number</th>\n",
       "      <th>Alert_Status</th>\n",
       "      <th>Open_Time</th>\n",
       "      <th>Reopen_Time</th>\n",
       "      <th>Resolved_Time</th>\n",
       "      <th>Close_Time</th>\n",
       "      <th>Handle_Time_hrs</th>\n",
       "      <th>Closure_Code</th>\n",
       "      <th>Related_Interaction</th>\n",
       "      <th>Related_Change</th>\n",
       "    </tr>\n",
       "  </thead>\n",
       "  <tbody>\n",
       "    <tr>\n",
       "      <th>count</th>\n",
       "      <td>46606</td>\n",
       "      <td>46495</td>\n",
       "      <td>46495</td>\n",
       "      <td>46606</td>\n",
       "      <td>46606</td>\n",
       "      <td>46606</td>\n",
       "      <td>46606</td>\n",
       "      <td>46606</td>\n",
       "      <td>46606</td>\n",
       "      <td>46606</td>\n",
       "      <td>46606</td>\n",
       "      <td>46606</td>\n",
       "      <td>2284</td>\n",
       "      <td>44826</td>\n",
       "      <td>46606</td>\n",
       "      <td>46605</td>\n",
       "      <td>46146</td>\n",
       "      <td>46606</td>\n",
       "      <td>560</td>\n",
       "    </tr>\n",
       "    <tr>\n",
       "      <th>unique</th>\n",
       "      <td>3019</td>\n",
       "      <td>12</td>\n",
       "      <td>64</td>\n",
       "      <td>274</td>\n",
       "      <td>46606</td>\n",
       "      <td>2</td>\n",
       "      <td>6</td>\n",
       "      <td>11</td>\n",
       "      <td>4</td>\n",
       "      <td>1825</td>\n",
       "      <td>1</td>\n",
       "      <td>34636</td>\n",
       "      <td>2244</td>\n",
       "      <td>33627</td>\n",
       "      <td>34528</td>\n",
       "      <td>30638</td>\n",
       "      <td>14</td>\n",
       "      <td>43060</td>\n",
       "      <td>232</td>\n",
       "    </tr>\n",
       "    <tr>\n",
       "      <th>top</th>\n",
       "      <td>SUB000456</td>\n",
       "      <td>application</td>\n",
       "      <td>Server Based Application</td>\n",
       "      <td>WBS000073</td>\n",
       "      <td>IM0000004</td>\n",
       "      <td>Closed</td>\n",
       "      <td>4</td>\n",
       "      <td>4</td>\n",
       "      <td>incident</td>\n",
       "      <td>KM0001106</td>\n",
       "      <td>closed</td>\n",
       "      <td>24-03-2014 08:54</td>\n",
       "      <td>29-10-2013 15:03</td>\n",
       "      <td>10-10-2013 12:53</td>\n",
       "      <td>02-10-2013 15:20</td>\n",
       "      <td>0</td>\n",
       "      <td>Other</td>\n",
       "      <td>#MULTIVALUE</td>\n",
       "      <td>C00003013</td>\n",
       "    </tr>\n",
       "    <tr>\n",
       "      <th>freq</th>\n",
       "      <td>3050</td>\n",
       "      <td>32900</td>\n",
       "      <td>18811</td>\n",
       "      <td>13342</td>\n",
       "      <td>1</td>\n",
       "      <td>46597</td>\n",
       "      <td>22556</td>\n",
       "      <td>15526</td>\n",
       "      <td>37748</td>\n",
       "      <td>1106</td>\n",
       "      <td>46606</td>\n",
       "      <td>7</td>\n",
       "      <td>2</td>\n",
       "      <td>7</td>\n",
       "      <td>21</td>\n",
       "      <td>236</td>\n",
       "      <td>16470</td>\n",
       "      <td>3434</td>\n",
       "      <td>110</td>\n",
       "    </tr>\n",
       "  </tbody>\n",
       "</table>\n",
       "</div>"
      ],
      "text/plain": [
       "          CI_Name       CI_Cat                 CI_Subcat        WBS  \\\n",
       "count       46606        46495                     46495      46606   \n",
       "unique       3019           12                        64        274   \n",
       "top     SUB000456  application  Server Based Application  WBS000073   \n",
       "freq         3050        32900                     18811      13342   \n",
       "\n",
       "       Incident_ID  Status Impact  Urgency  Category  KB_number Alert_Status  \\\n",
       "count        46606   46606  46606    46606     46606      46606        46606   \n",
       "unique       46606       2      6       11         4       1825            1   \n",
       "top      IM0000004  Closed      4        4  incident  KM0001106       closed   \n",
       "freq             1   46597  22556    15526     37748       1106        46606   \n",
       "\n",
       "               Open_Time       Reopen_Time     Resolved_Time  \\\n",
       "count              46606              2284             44826   \n",
       "unique             34636              2244             33627   \n",
       "top     24-03-2014 08:54  29-10-2013 15:03  10-10-2013 12:53   \n",
       "freq                   7                 2                 7   \n",
       "\n",
       "              Close_Time Handle_Time_hrs Closure_Code Related_Interaction  \\\n",
       "count              46606           46605        46146               46606   \n",
       "unique             34528           30638           14               43060   \n",
       "top     02-10-2013 15:20               0        Other         #MULTIVALUE   \n",
       "freq                  21             236        16470                3434   \n",
       "\n",
       "       Related_Change  \n",
       "count             560  \n",
       "unique            232  \n",
       "top         C00003013  \n",
       "freq              110  "
      ]
     },
     "execution_count": 11,
     "metadata": {},
     "output_type": "execute_result"
    }
   ],
   "source": [
    "data.describe(include='O')"
   ]
  },
  {
   "cell_type": "markdown",
   "id": "6a4d1681",
   "metadata": {},
   "source": [
    "### Data Visualization"
   ]
  },
  {
   "cell_type": "code",
   "execution_count": 12,
   "id": "709721e5",
   "metadata": {},
   "outputs": [],
   "source": [
    "def value_count(data):\n",
    "    for column in data:\n",
    "        print('The value counts of {} column is'.format(column))\n",
    "        print(data[column].value_counts())\n",
    "        print('****************************************************************')\n",
    "        print()"
   ]
  },
  {
   "cell_type": "code",
   "execution_count": 13,
   "id": "22e2a3cd",
   "metadata": {
    "scrolled": false
   },
   "outputs": [
    {
     "name": "stdout",
     "output_type": "stream",
     "text": [
      "The value counts of CI_Name column is\n",
      "SUB000456    3050\n",
      "SBA000263    2176\n",
      "SBA000607    1743\n",
      "SBA000462    1698\n",
      "WBA000058    1614\n",
      "             ... \n",
      "LAP001572       1\n",
      "LAP000809       1\n",
      "LAP000513       1\n",
      "CBD000266       1\n",
      "SWT000008       1\n",
      "Name: CI_Name, Length: 3019, dtype: int64\n",
      "****************************************************************\n",
      "\n",
      "The value counts of CI_Cat column is\n",
      "application             32900\n",
      "subapplication           7782\n",
      "computer                 3643\n",
      "storage                   703\n",
      "hardware                  442\n",
      "software                  333\n",
      "database                  214\n",
      "displaydevice             212\n",
      "officeelectronics         152\n",
      "networkcomponents         107\n",
      "applicationcomponent        5\n",
      "Phone                       2\n",
      "Name: CI_Cat, dtype: int64\n",
      "****************************************************************\n",
      "\n",
      "The value counts of CI_Subcat column is\n",
      "Server Based Application    18811\n",
      "Web Based Application       15311\n",
      "Desktop Application          3876\n",
      "Laptop                       1921\n",
      "SAP                          1199\n",
      "                            ...  \n",
      "VMWare                          1\n",
      "Application Server              1\n",
      "NonStop Storage                 1\n",
      "Protocol                        1\n",
      "Security Software               1\n",
      "Name: CI_Subcat, Length: 64, dtype: int64\n",
      "****************************************************************\n",
      "\n",
      "The value counts of WBS column is\n",
      "WBS000073    13342\n",
      "WBS000091     2500\n",
      "WBS000263     2283\n",
      "WBS000072     2197\n",
      "WBS000271     1186\n",
      "             ...  \n",
      "WBS000214        1\n",
      "WBS000119        1\n",
      "WBS000117        1\n",
      "WBS000282        1\n",
      "WBS000105        1\n",
      "Name: WBS, Length: 274, dtype: int64\n",
      "****************************************************************\n",
      "\n",
      "The value counts of Incident_ID column is\n",
      "IM0000004    1\n",
      "IM0031350    1\n",
      "IM0031352    1\n",
      "IM0031353    1\n",
      "IM0031354    1\n",
      "            ..\n",
      "IM0015747    1\n",
      "IM0015748    1\n",
      "IM0015749    1\n",
      "IM0015750    1\n",
      "IM0047057    1\n",
      "Name: Incident_ID, Length: 46606, dtype: int64\n",
      "****************************************************************\n",
      "\n",
      "The value counts of Status column is\n",
      "Closed              46597\n",
      "Work in progress        9\n",
      "Name: Status, dtype: int64\n",
      "****************************************************************\n",
      "\n",
      "The value counts of Impact column is\n",
      "4     22556\n",
      "5     16741\n",
      "3      5234\n",
      "NS     1380\n",
      "2       692\n",
      "1         3\n",
      "Name: Impact, dtype: int64\n",
      "****************************************************************\n",
      "\n",
      "The value counts of Urgency column is\n",
      "4               15526\n",
      "5               12284\n",
      "4                7062\n",
      "5                4495\n",
      "3                4419\n",
      "3                2117\n",
      "2                 538\n",
      "2                 158\n",
      "1                   5\n",
      "1                   1\n",
      "5 - Very Low        1\n",
      "Name: Urgency, dtype: int64\n",
      "****************************************************************\n",
      "\n",
      "The value counts of Priority column is\n",
      "4.0    22717\n",
      "5.0    16486\n",
      "3.0     5323\n",
      "2.0      697\n",
      "1.0        3\n",
      "Name: Priority, dtype: int64\n",
      "****************************************************************\n",
      "\n",
      "The value counts of number_cnt column is\n",
      "0.601292    1\n",
      "0.197704    1\n",
      "0.289215    1\n",
      "0.036986    1\n",
      "0.905730    1\n",
      "           ..\n",
      "0.940459    1\n",
      "0.642018    1\n",
      "0.759028    1\n",
      "0.928940    1\n",
      "0.902320    1\n",
      "Name: number_cnt, Length: 46606, dtype: int64\n",
      "****************************************************************\n",
      "\n",
      "The value counts of Category column is\n",
      "incident                   37748\n",
      "request for information     8846\n",
      "complaint                     11\n",
      "request for change             1\n",
      "Name: Category, dtype: int64\n",
      "****************************************************************\n",
      "\n",
      "The value counts of KB_number column is\n",
      "KM0001106    1106\n",
      "KM0000940     864\n",
      "KM0001444     790\n",
      "KM0002043     773\n",
      "KM0001825     725\n",
      "             ... \n",
      "KM0000108       1\n",
      "KM0000396       1\n",
      "KM0001647       1\n",
      "KM0001017       1\n",
      "KM0001578       1\n",
      "Name: KB_number, Length: 1825, dtype: int64\n",
      "****************************************************************\n",
      "\n",
      "The value counts of Alert_Status column is\n",
      "closed    46606\n",
      "Name: Alert_Status, dtype: int64\n",
      "****************************************************************\n",
      "\n",
      "The value counts of No_of_Reassignments column is\n",
      "0.0     27468\n",
      "1.0      7268\n",
      "2.0      5378\n",
      "3.0      2191\n",
      "4.0      1606\n",
      "5.0       721\n",
      "6.0       622\n",
      "7.0       329\n",
      "8.0       246\n",
      "9.0       170\n",
      "10.0      146\n",
      "11.0      101\n",
      "13.0       61\n",
      "12.0       58\n",
      "14.0       47\n",
      "15.0       43\n",
      "17.0       27\n",
      "16.0       25\n",
      "18.0       14\n",
      "21.0       11\n",
      "22.0       10\n",
      "25.0       10\n",
      "19.0       10\n",
      "20.0        7\n",
      "26.0        7\n",
      "23.0        5\n",
      "24.0        3\n",
      "32.0        3\n",
      "33.0        3\n",
      "30.0        3\n",
      "27.0        2\n",
      "46.0        1\n",
      "42.0        1\n",
      "39.0        1\n",
      "37.0        1\n",
      "45.0        1\n",
      "38.0        1\n",
      "34.0        1\n",
      "29.0        1\n",
      "31.0        1\n",
      "36.0        1\n",
      "Name: No_of_Reassignments, dtype: int64\n",
      "****************************************************************\n",
      "\n",
      "The value counts of Open_Time column is\n",
      "24-03-2014 08:54    7\n",
      "21-02-2014 15:01    6\n",
      "24-01-2014 09:37    6\n",
      "12-11-2013 11:04    6\n",
      "21-01-2014 11:49    6\n",
      "                   ..\n",
      "02-12-2013 13:28    1\n",
      "02-12-2013 13:16    1\n",
      "02-12-2013 13:11    1\n",
      "02-12-2013 12:34    1\n",
      "31-03-2014 17:24    1\n",
      "Name: Open_Time, Length: 34636, dtype: int64\n",
      "****************************************************************\n",
      "\n",
      "The value counts of Reopen_Time column is\n",
      "29-10-2013 15:03    2\n",
      "17-01-2014 10:47    2\n",
      "15-10-2013 09:46    2\n",
      "17-02-2014 13:42    2\n",
      "13-12-2013 16:20    2\n",
      "                   ..\n",
      "15-11-2013 14:02    1\n",
      "15-11-2013 08:38    1\n",
      "14-11-2013 14:17    1\n",
      "25-11-2013 16:14    1\n",
      "31-03-2014 16:21    1\n",
      "Name: Reopen_Time, Length: 2244, dtype: int64\n",
      "****************************************************************\n",
      "\n",
      "The value counts of Resolved_Time column is\n",
      "10-10-2013 12:53    7\n",
      "06-11-2013 05:12    6\n",
      "16-12-2013 09:47    6\n",
      "10-03-2014 09:41    6\n",
      "31-03-2014 09:20    6\n",
      "                   ..\n",
      "02-12-2013 09:20    1\n",
      "02-12-2013 13:01    1\n",
      "02-12-2013 08:37    1\n",
      "10-12-2013 17:00    1\n",
      "31-03-2014 22:47    1\n",
      "Name: Resolved_Time, Length: 33627, dtype: int64\n",
      "****************************************************************\n",
      "\n",
      "The value counts of Close_Time column is\n",
      "02-10-2013 15:20    21\n",
      "03-12-2013 09:55    15\n",
      "13-01-2014 15:09    13\n",
      "21-02-2014 15:52    12\n",
      "10-02-2014 12:29    11\n",
      "                    ..\n",
      "03-12-2013 10:06     1\n",
      "04-12-2013 10:55     1\n",
      "03-12-2013 10:00     1\n",
      "03-12-2013 13:35     1\n",
      "31-03-2014 22:47     1\n",
      "Name: Close_Time, Length: 34528, dtype: int64\n",
      "****************************************************************\n",
      "\n",
      "The value counts of Handle_Time_hrs column is\n",
      "0                 236\n",
      "0,034444444        23\n",
      "0,018333333        22\n",
      "0,016666667        19\n",
      "0,021388889        19\n",
      "                 ... \n",
      "4,28,85,27,778      1\n",
      "3,92,91,66,667      1\n",
      "4,96,68,05,556      1\n",
      "1,07,30,27,778      1\n",
      "0,428333333         1\n",
      "Name: Handle_Time_hrs, Length: 30638, dtype: int64\n",
      "****************************************************************\n",
      "\n",
      "The value counts of Closure_Code column is\n",
      "Other                           16470\n",
      "Software                        13027\n",
      "User error                       3554\n",
      "No error - works as designed     3530\n",
      "Hardware                         2999\n",
      "Data                             2209\n",
      "Unknown                          1590\n",
      "Operator error                   1539\n",
      "User manual not used              765\n",
      "Inquiry                           162\n",
      "Referred                          158\n",
      "Questions                         132\n",
      "Kwaliteit van de output            10\n",
      "Overig                              1\n",
      "Name: Closure_Code, dtype: int64\n",
      "****************************************************************\n",
      "\n",
      "The value counts of No_of_Related_Interactions column is\n",
      "1.0      43058\n",
      "2.0       2736\n",
      "3.0        429\n",
      "4.0        124\n",
      "5.0         30\n",
      "6.0         16\n",
      "7.0         12\n",
      "8.0          6\n",
      "12.0         6\n",
      "9.0          5\n",
      "20.0         5\n",
      "13.0         4\n",
      "42.0         3\n",
      "22.0         3\n",
      "19.0         3\n",
      "10.0         3\n",
      "15.0         3\n",
      "39.0         2\n",
      "26.0         2\n",
      "11.0         2\n",
      "33.0         2\n",
      "44.0         2\n",
      "17.0         2\n",
      "16.0         2\n",
      "14.0         2\n",
      "23.0         2\n",
      "45.0         2\n",
      "18.0         2\n",
      "34.0         2\n",
      "29.0         2\n",
      "28.0         2\n",
      "55.0         1\n",
      "43.0         1\n",
      "25.0         1\n",
      "27.0         1\n",
      "370.0        1\n",
      "40.0         1\n",
      "37.0         1\n",
      "57.0         1\n",
      "118.0        1\n",
      "24.0         1\n",
      "74.0         1\n",
      "41.0         1\n",
      "30.0         1\n",
      "88.0         1\n",
      "31.0         1\n",
      "54.0         1\n",
      "288.0        1\n",
      "21.0         1\n",
      "Name: No_of_Related_Interactions, dtype: int64\n",
      "****************************************************************\n",
      "\n",
      "The value counts of Related_Interaction column is\n"
     ]
    },
    {
     "name": "stdout",
     "output_type": "stream",
     "text": [
      "#MULTIVALUE    3434\n",
      "#N/B            114\n",
      "SD0000007         1\n",
      "SD0095431         1\n",
      "SD0095433         1\n",
      "               ... \n",
      "SD0045635         1\n",
      "SD0045617         1\n",
      "SD0045636         1\n",
      "SD0045637         1\n",
      "SD0147088         1\n",
      "Name: Related_Interaction, Length: 43060, dtype: int64\n",
      "****************************************************************\n",
      "\n",
      "The value counts of No_of_Related_Incidents column is\n",
      "1.0     1057\n",
      "2.0       74\n",
      "3.0       20\n",
      "4.0       13\n",
      "5.0        8\n",
      "6.0        8\n",
      "9.0        6\n",
      "8.0        5\n",
      "11.0       4\n",
      "12.0       4\n",
      "7.0        4\n",
      "17.0       3\n",
      "16.0       3\n",
      "10.0       2\n",
      "24.0       2\n",
      "14.0       1\n",
      "25.0       1\n",
      "23.0       1\n",
      "54.0       1\n",
      "26.0       1\n",
      "21.0       1\n",
      "63.0       1\n",
      "13.0       1\n",
      "15.0       1\n",
      "Name: No_of_Related_Incidents, dtype: int64\n",
      "****************************************************************\n",
      "\n",
      "The value counts of No_of_Related_Changes column is\n",
      "1.0    536\n",
      "2.0     21\n",
      "3.0      2\n",
      "9.0      1\n",
      "Name: No_of_Related_Changes, dtype: int64\n",
      "****************************************************************\n",
      "\n",
      "The value counts of Related_Change column is\n",
      "C00003013      110\n",
      "C00014762       78\n",
      "#MULTIVALUE     24\n",
      "C00007098       16\n",
      "C00001012       10\n",
      "              ... \n",
      "C00006823        1\n",
      "C00007099        1\n",
      "C00004679        1\n",
      "C00006401        1\n",
      "C00000385        1\n",
      "Name: Related_Change, Length: 232, dtype: int64\n",
      "****************************************************************\n",
      "\n"
     ]
    }
   ],
   "source": [
    "value_count(data)"
   ]
  },
  {
   "cell_type": "code",
   "execution_count": 14,
   "id": "4e9c8561",
   "metadata": {},
   "outputs": [],
   "source": [
    "import matplotlib.pyplot as plt\n",
    "import seaborn as sns"
   ]
  },
  {
   "cell_type": "code",
   "execution_count": 17,
   "id": "78965817",
   "metadata": {},
   "outputs": [
    {
     "data": {
      "image/png": "[encoded data removed]",
      "text/plain": [
       "<Figure size 3000x4000 with 7 Axes>"
      ]
     },
     "metadata": {},
     "output_type": "display_data"
    }
   ],
   "source": [
    "data1=data[['CI_Cat','CI_Subcat','Impact','Urgency','Category','Status','Closure_Code']]\n",
    "# Dristribution of data\n",
    "plt.figure(figsize=(30,40),facecolor=\"white\")\n",
    "plotnumber=1\n",
    "for column in data1:\n",
    "    top_values = data1[column].value_counts().head(5)\n",
    "    if plotnumber<=7:\n",
    "        ax=plt.subplot(4,2,plotnumber)\n",
    "        sns.countplot(x=data1[column],order=top_values.index)\n",
    "        plt.xlabel(column,fontsize=20)\n",
    "        plt.ylabel(\"count\",fontsize=20)\n",
    "        plt.xticks(rotation=40)\n",
    "        for i, count in enumerate(top_values):\n",
    "            ax.annotate(str(count), xy=(i, count), ha='center', va='bottom')\n",
    "    plotnumber+=1\n",
    "plt.tight_layout()"
   ]
  },
  {
   "cell_type": "markdown",
   "id": "68ba3ff6",
   "metadata": {},
   "source": [
    "* In CI-Cat, application is having more count compared to others.\n",
    "* The Status of almost all of tickets is in closed state.\n",
    "* In the impact and urgency columns most of the tickets are having imapct and urgency of either 4 or 5.\n",
    "* The most of the tickets are belonging to the incident category.\n",
    "* Others and software were indicated as the major closure code after the tikcet resloving"
   ]
  },
  {
   "cell_type": "markdown",
   "id": "6397896e",
   "metadata": {},
   "source": [
    "### Task 1:Predicting High Priority Tickets: To predict priority 1 & 2 tickets, so that they can take preventive measures or fix the problem before it surfaces."
   ]
  },
  {
   "cell_type": "markdown",
   "id": "dc90a2b0",
   "metadata": {},
   "source": [
    "#### Data Processing / Data Munging"
   ]
  },
  {
   "cell_type": "code",
   "execution_count": 15,
   "id": "a211a4e0",
   "metadata": {},
   "outputs": [],
   "source": [
    "# CI Category and CI subcategory had a lot of labels which were replaced to only take the major ones. and unknown values replace by mode."
   ]
  },
  {
   "cell_type": "code",
   "execution_count": 16,
   "id": "f79daf62",
   "metadata": {},
   "outputs": [
    {
     "data": {
      "text/plain": [
       "application             32900\n",
       "subapplication           7782\n",
       "computer                 3643\n",
       "storage                   703\n",
       "hardware                  442\n",
       "software                  333\n",
       "database                  214\n",
       "displaydevice             212\n",
       "officeelectronics         152\n",
       "networkcomponents         107\n",
       "applicationcomponent        5\n",
       "Phone                       2\n",
       "Name: CI_Cat, dtype: int64"
      ]
     },
     "execution_count": 16,
     "metadata": {},
     "output_type": "execute_result"
    }
   ],
   "source": [
    "data.CI_Cat.value_counts()"
   ]
  },
  {
   "cell_type": "code",
   "execution_count": 17,
   "id": "1737b309",
   "metadata": {},
   "outputs": [],
   "source": [
    "data.CI_Cat.replace(['database'],'storage',inplace=True)\n",
    "data.CI_Cat.replace(['applicationcomponent'],'subapplication',inplace=True)\n",
    "data.CI_Cat.replace(['displaydevice','officeelectronics','Phone','networkcomponents'],'hardware',inplace=True)\n",
    "data.CI_Cat.replace(np.nan,'application',inplace=True)"
   ]
  },
  {
   "cell_type": "code",
   "execution_count": 18,
   "id": "87f9f12c",
   "metadata": {},
   "outputs": [
    {
     "data": {
      "text/plain": [
       "Server Based Application           18811\n",
       "Web Based Application              15311\n",
       "Desktop Application                 3876\n",
       "Laptop                              1921\n",
       "SAP                                 1199\n",
       "Banking Device                       916\n",
       "Citrix                               767\n",
       "SAN                                  549\n",
       "Client Based Application             492\n",
       "Desktop                              423\n",
       "DataCenterEquipment                  277\n",
       "System Software                      272\n",
       "Monitor                              212\n",
       "Database                             211\n",
       "Windows Server                       153\n",
       "Controller                           146\n",
       "Exchange                             130\n",
       "Printer                               88\n",
       "Omgeving                              86\n",
       "Standard Application                  85\n",
       "Scanner                               64\n",
       "MigratieDummy                         60\n",
       "Linux Server                          55\n",
       "Automation Software                   55\n",
       "Encryption                            45\n",
       "KVM Switches                          32\n",
       "Network Component                     32\n",
       "Switch                                28\n",
       "Keyboard                              27\n",
       "zOS Cluster                           17\n",
       "Router                                16\n",
       "Lines                                 15\n",
       "NonStop Server                        14\n",
       "Net Device                            11\n",
       "ESX Cluster                           11\n",
       "SharePoint Farm                       11\n",
       "X86 Server                            10\n",
       "VDI                                    9\n",
       "Unix Server                            7\n",
       "Thin Client                            6\n",
       "zOS Server                             4\n",
       "Database Software                      4\n",
       "MQ Queue Manager                       4\n",
       "Modem                                  3\n",
       "Oracle Server                          3\n",
       "Instance                               2\n",
       "zOS Systeem                            2\n",
       "Firewall                               2\n",
       "NonStop Harddisk                       2\n",
       "IPtelephony                            2\n",
       "ESX Server                             2\n",
       "Tape Library                           2\n",
       "Number                                 2\n",
       "Windows Server in extern beheer        1\n",
       "Iptelephony                            1\n",
       "Virtual Tape Server                    1\n",
       "UPS                                    1\n",
       "Neoview Server                         1\n",
       "RAC Service                            1\n",
       "VMWare                                 1\n",
       "Application Server                     1\n",
       "NonStop Storage                        1\n",
       "Protocol                               1\n",
       "Security Software                      1\n",
       "Name: CI_Subcat, dtype: int64"
      ]
     },
     "execution_count": 18,
     "metadata": {},
     "output_type": "execute_result"
    }
   ],
   "source": [
    "pd.set_option('display.max_rows', None)\n",
    "data.CI_Subcat.value_counts()"
   ]
  },
  {
   "cell_type": "code",
   "execution_count": 19,
   "id": "bb05826a",
   "metadata": {},
   "outputs": [],
   "source": [
    "data.CI_Subcat.replace('Desktop','Desktop Application',inplace=True)\n",
    "data.CI_Subcat.replace(['Application Server','Virtual Tape Server','ESX Server','zOS Server','Neoview Server','X86 Server','Unix Server','Oracle Server','Windows Server in extern beheer','Thin Client','NonStop Server','Number','Windows Server','Linux Server',np.nan,'SharePoint Farm','Lines'],'Server Based Application',inplace=True)\n",
    "data.CI_Subcat.replace('RAC Service','Banking Device',inplace=True)\n",
    "data.CI_Subcat.replace(['Iptelephony','Protocol','Net Device','IPtelephony','ESX Cluster','Standard Application'],'Web Based Application',inplace=True)\n",
    "data.CI_Subcat.replace(['VMWare','Security Software','zOS Systeem','Firewall','Database Software','VDI','Instance','MQ Queue Manager','Automation Software','Citrix','SAP','Encryption'],'System Software',inplace=True)\n",
    "data.CI_Subcat.replace(['UPS','Omgeving'],'Client Based Application',inplace=True)\n",
    "data.CI_Subcat.replace(['NonStop Storage','NonStop Harddisk','Tape Library','zOS Cluster','DataCenterEquipment','MigratieDummy'],'Database',inplace=True)\n",
    "data.CI_Subcat.replace(['Modem','Router'],'Network Component',inplace=True)\n",
    "data.CI_Subcat.replace('KVM Switches','Switch',inplace=True)"
   ]
  },
  {
   "cell_type": "code",
   "execution_count": 20,
   "id": "13574cb4",
   "metadata": {},
   "outputs": [
    {
     "data": {
      "text/plain": [
       "Server Based Application    19208\n",
       "Web Based Application       15422\n",
       "Desktop Application          4299\n",
       "System Software              2363\n",
       "Laptop                       1921\n",
       "Banking Device                917\n",
       "Client Based Application      579\n",
       "Database                      570\n",
       "SAN                           549\n",
       "Monitor                       212\n",
       "Controller                    146\n",
       "Exchange                      130\n",
       "Printer                        88\n",
       "Scanner                        64\n",
       "Switch                         60\n",
       "Network Component              51\n",
       "Keyboard                       27\n",
       "Name: CI_Subcat, dtype: int64"
      ]
     },
     "execution_count": 20,
     "metadata": {},
     "output_type": "execute_result"
    }
   ],
   "source": [
    "data.CI_Subcat.value_counts()"
   ]
  },
  {
   "cell_type": "code",
   "execution_count": 21,
   "id": "0ec0976a",
   "metadata": {},
   "outputs": [],
   "source": [
    "data.No_of_Related_Interactions.replace(np.nan,1,inplace=True)\n",
    "data.Priority.replace(np.nan,4,inplace=True)\n",
    "data.No_of_Related_Incidents.replace(np.nan,0,inplace=True)\n",
    "data.No_of_Related_Changes.replace(np.nan,0,inplace=True)"
   ]
  },
  {
   "cell_type": "markdown",
   "id": "958748d2",
   "metadata": {},
   "source": [
    "### Feature Selection"
   ]
  },
  {
   "cell_type": "code",
   "execution_count": 22,
   "id": "47d437ff",
   "metadata": {},
   "outputs": [],
   "source": [
    "#The features which are available when the tickets arrives can be used to predict priority.Therefore, we have used only 4 predictors."
   ]
  },
  {
   "cell_type": "code",
   "execution_count": 23,
   "id": "38b1cbf4",
   "metadata": {},
   "outputs": [],
   "source": [
    "x = data.loc[:,['CI_Cat','CI_Subcat','WBS','Category']]\n",
    "y = data.Priority"
   ]
  },
  {
   "cell_type": "code",
   "execution_count": 24,
   "id": "78e46710",
   "metadata": {},
   "outputs": [
    {
     "data": {
      "text/html": [
       "<div>\n",
       "<style scoped>\n",
       "    .dataframe tbody tr th:only-of-type {\n",
       "        vertical-align: middle;\n",
       "    }\n",
       "\n",
       "    .dataframe tbody tr th {\n",
       "        vertical-align: top;\n",
       "    }\n",
       "\n",
       "    .dataframe thead th {\n",
       "        text-align: right;\n",
       "    }\n",
       "</style>\n",
       "<table border=\"1\" class=\"dataframe\">\n",
       "  <thead>\n",
       "    <tr style=\"text-align: right;\">\n",
       "      <th></th>\n",
       "      <th>CI_Cat</th>\n",
       "      <th>CI_Subcat</th>\n",
       "      <th>WBS</th>\n",
       "      <th>Category</th>\n",
       "    </tr>\n",
       "  </thead>\n",
       "  <tbody>\n",
       "    <tr>\n",
       "      <th>0</th>\n",
       "      <td>subapplication</td>\n",
       "      <td>Web Based Application</td>\n",
       "      <td>WBS000162</td>\n",
       "      <td>incident</td>\n",
       "    </tr>\n",
       "    <tr>\n",
       "      <th>1</th>\n",
       "      <td>application</td>\n",
       "      <td>Web Based Application</td>\n",
       "      <td>WBS000088</td>\n",
       "      <td>incident</td>\n",
       "    </tr>\n",
       "    <tr>\n",
       "      <th>2</th>\n",
       "      <td>application</td>\n",
       "      <td>Desktop Application</td>\n",
       "      <td>WBS000092</td>\n",
       "      <td>request for information</td>\n",
       "    </tr>\n",
       "    <tr>\n",
       "      <th>3</th>\n",
       "      <td>application</td>\n",
       "      <td>Web Based Application</td>\n",
       "      <td>WBS000088</td>\n",
       "      <td>incident</td>\n",
       "    </tr>\n",
       "    <tr>\n",
       "      <th>4</th>\n",
       "      <td>application</td>\n",
       "      <td>Web Based Application</td>\n",
       "      <td>WBS000088</td>\n",
       "      <td>incident</td>\n",
       "    </tr>\n",
       "  </tbody>\n",
       "</table>\n",
       "</div>"
      ],
      "text/plain": [
       "           CI_Cat              CI_Subcat        WBS                 Category\n",
       "0  subapplication  Web Based Application  WBS000162                 incident\n",
       "1     application  Web Based Application  WBS000088                 incident\n",
       "2     application    Desktop Application  WBS000092  request for information\n",
       "3     application  Web Based Application  WBS000088                 incident\n",
       "4     application  Web Based Application  WBS000088                 incident"
      ]
     },
     "execution_count": 24,
     "metadata": {},
     "output_type": "execute_result"
    }
   ],
   "source": [
    "x.head()"
   ]
  },
  {
   "cell_type": "code",
   "execution_count": 26,
   "id": "f8b920f3",
   "metadata": {},
   "outputs": [],
   "source": [
    "# Use encoding technique on input data\n",
    "le= LabelEncoder()\n",
    "for i in (0,1,2,3):\n",
    "    x.iloc[:,i] = le.fit_transform(x.iloc[:,i])"
   ]
  },
  {
   "cell_type": "code",
   "execution_count": 27,
   "id": "641f1d5a",
   "metadata": {},
   "outputs": [
    {
     "data": {
      "text/html": [
       "<div>\n",
       "<style scoped>\n",
       "    .dataframe tbody tr th:only-of-type {\n",
       "        vertical-align: middle;\n",
       "    }\n",
       "\n",
       "    .dataframe tbody tr th {\n",
       "        vertical-align: top;\n",
       "    }\n",
       "\n",
       "    .dataframe thead th {\n",
       "        text-align: right;\n",
       "    }\n",
       "</style>\n",
       "<table border=\"1\" class=\"dataframe\">\n",
       "  <thead>\n",
       "    <tr style=\"text-align: right;\">\n",
       "      <th></th>\n",
       "      <th>CI_Cat</th>\n",
       "      <th>CI_Subcat</th>\n",
       "      <th>WBS</th>\n",
       "      <th>Category</th>\n",
       "    </tr>\n",
       "  </thead>\n",
       "  <tbody>\n",
       "    <tr>\n",
       "      <th>0</th>\n",
       "      <td>5</td>\n",
       "      <td>16</td>\n",
       "      <td>137</td>\n",
       "      <td>1</td>\n",
       "    </tr>\n",
       "    <tr>\n",
       "      <th>1</th>\n",
       "      <td>0</td>\n",
       "      <td>16</td>\n",
       "      <td>70</td>\n",
       "      <td>1</td>\n",
       "    </tr>\n",
       "    <tr>\n",
       "      <th>2</th>\n",
       "      <td>0</td>\n",
       "      <td>4</td>\n",
       "      <td>74</td>\n",
       "      <td>3</td>\n",
       "    </tr>\n",
       "    <tr>\n",
       "      <th>3</th>\n",
       "      <td>0</td>\n",
       "      <td>16</td>\n",
       "      <td>70</td>\n",
       "      <td>1</td>\n",
       "    </tr>\n",
       "    <tr>\n",
       "      <th>4</th>\n",
       "      <td>0</td>\n",
       "      <td>16</td>\n",
       "      <td>70</td>\n",
       "      <td>1</td>\n",
       "    </tr>\n",
       "  </tbody>\n",
       "</table>\n",
       "</div>"
      ],
      "text/plain": [
       "   CI_Cat  CI_Subcat  WBS  Category\n",
       "0       5         16  137         1\n",
       "1       0         16   70         1\n",
       "2       0          4   74         3\n",
       "3       0         16   70         1\n",
       "4       0         16   70         1"
      ]
     },
     "execution_count": 27,
     "metadata": {},
     "output_type": "execute_result"
    }
   ],
   "source": [
    "x.head()"
   ]
  },
  {
   "cell_type": "code",
   "execution_count": 29,
   "id": "650236b4",
   "metadata": {},
   "outputs": [],
   "source": [
    "# Splitting the data into test and train for calculating accuracy\n",
    "x_train, x_test, y_train, y_test = train_test_split(x,y,test_size=0.3,random_state=10)"
   ]
  },
  {
   "cell_type": "code",
   "execution_count": 30,
   "id": "ad18dff4",
   "metadata": {},
   "outputs": [],
   "source": [
    "# Apply standardization technique\n",
    "from sklearn.preprocessing import StandardScaler \n",
    "sc = StandardScaler()\n",
    "x_train_scaled = sc.fit_transform(x_train)\n",
    "x_test_scaled = sc.transform(x_test)"
   ]
  },
  {
   "cell_type": "markdown",
   "id": "cdae3c9c",
   "metadata": {},
   "source": [
    "### Model Building "
   ]
  },
  {
   "cell_type": "code",
   "execution_count": 35,
   "id": "7f2e8d39",
   "metadata": {},
   "outputs": [],
   "source": [
    "from sklearn.linear_model import LogisticRegression\n",
    "from sklearn.svm import SVC\n",
    "from sklearn.tree import DecisionTreeClassifier\n",
    "from sklearn.ensemble import RandomForestClassifier\n",
    "from sklearn.neighbors import KNeighborsClassifier\n",
    "from xgboost import XGBClassifier\n",
    "from sklearn.neural_network import MLPClassifier"
   ]
  },
  {
   "cell_type": "markdown",
   "id": "f97de47a",
   "metadata": {},
   "source": [
    "### 1.K-Nearest Neghbor:"
   ]
  },
  {
   "cell_type": "code",
   "execution_count": 32,
   "id": "750e00c2",
   "metadata": {},
   "outputs": [
    {
     "data": {
      "text/html": [
       "<style>#sk-container-id-1 {color: black;background-color: white;}#sk-container-id-1 pre{padding: 0;}#sk-container-id-1 div.sk-toggleable {background-color: white;}#sk-container-id-1 label.sk-toggleable__label {cursor: pointer;display: block;width: 100%;margin-bottom: 0;padding: 0.3em;box-sizing: border-box;text-align: center;}#sk-container-id-1 label.sk-toggleable__label-arrow:before {content: \"▸\";float: left;margin-right: 0.25em;color: #696969;}#sk-container-id-1 label.sk-toggleable__label-arrow:hover:before {color: black;}#sk-container-id-1 div.sk-estimator:hover label.sk-toggleable__label-arrow:before {color: black;}#sk-container-id-1 div.sk-toggleable__content {max-height: 0;max-width: 0;overflow: hidden;text-align: left;background-color: #f0f8ff;}#sk-container-id-1 div.sk-toggleable__content pre {margin: 0.2em;color: black;border-radius: 0.25em;background-color: #f0f8ff;}#sk-container-id-1 input.sk-toggleable__control:checked~div.sk-toggleable__content {max-height: 200px;max-width: 100%;overflow: auto;}#sk-container-id-1 input.sk-toggleable__control:checked~label.sk-toggleable__label-arrow:before {content: \"▾\";}#sk-container-id-1 div.sk-estimator input.sk-toggleable__control:checked~label.sk-toggleable__label {background-color: #d4ebff;}#sk-container-id-1 div.sk-label input.sk-toggleable__control:checked~label.sk-toggleable__label {background-color: #d4ebff;}#sk-container-id-1 input.sk-hidden--visually {border: 0;clip: rect(1px 1px 1px 1px);clip: rect(1px, 1px, 1px, 1px);height: 1px;margin: -1px;overflow: hidden;padding: 0;position: absolute;width: 1px;}#sk-container-id-1 div.sk-estimator {font-family: monospace;background-color: #f0f8ff;border: 1px dotted black;border-radius: 0.25em;box-sizing: border-box;margin-bottom: 0.5em;}#sk-container-id-1 div.sk-estimator:hover {background-color: #d4ebff;}#sk-container-id-1 div.sk-parallel-item::after {content: \"\";width: 100%;border-bottom: 1px solid gray;flex-grow: 1;}#sk-container-id-1 div.sk-label:hover label.sk-toggleable__label {background-color: #d4ebff;}#sk-container-id-1 div.sk-serial::before {content: \"\";position: absolute;border-left: 1px solid gray;box-sizing: border-box;top: 0;bottom: 0;left: 50%;z-index: 0;}#sk-container-id-1 div.sk-serial {display: flex;flex-direction: column;align-items: center;background-color: white;padding-right: 0.2em;padding-left: 0.2em;position: relative;}#sk-container-id-1 div.sk-item {position: relative;z-index: 1;}#sk-container-id-1 div.sk-parallel {display: flex;align-items: stretch;justify-content: center;background-color: white;position: relative;}#sk-container-id-1 div.sk-item::before, #sk-container-id-1 div.sk-parallel-item::before {content: \"\";position: absolute;border-left: 1px solid gray;box-sizing: border-box;top: 0;bottom: 0;left: 50%;z-index: -1;}#sk-container-id-1 div.sk-parallel-item {display: flex;flex-direction: column;z-index: 1;position: relative;background-color: white;}#sk-container-id-1 div.sk-parallel-item:first-child::after {align-self: flex-end;width: 50%;}#sk-container-id-1 div.sk-parallel-item:last-child::after {align-self: flex-start;width: 50%;}#sk-container-id-1 div.sk-parallel-item:only-child::after {width: 0;}#sk-container-id-1 div.sk-dashed-wrapped {border: 1px dashed gray;margin: 0 0.4em 0.5em 0.4em;box-sizing: border-box;padding-bottom: 0.4em;background-color: white;}#sk-container-id-1 div.sk-label label {font-family: monospace;font-weight: bold;display: inline-block;line-height: 1.2em;}#sk-container-id-1 div.sk-label-container {text-align: center;}#sk-container-id-1 div.sk-container {/* jupyter's `normalize.less` sets `[hidden] { display: none; }` but bootstrap.min.css set `[hidden] { display: none !important; }` so we also need the `!important` here to be able to override the default hidden behavior on the sphinx rendered scikit-learn.org. See: https://github.com/scikit-learn/scikit-learn/issues/21755 */display: inline-block !important;position: relative;}#sk-container-id-1 div.sk-text-repr-fallback {display: none;}</style><div id=\"sk-container-id-1\" class=\"sk-top-container\"><div class=\"sk-text-repr-fallback\"><pre>KNeighborsClassifier(n_neighbors=10)</pre><b>In a Jupyter environment, please rerun this cell to show the HTML representation or trust the notebook. <br />On GitHub, the HTML representation is unable to render, please try loading this page with nbviewer.org.</b></div><div class=\"sk-container\" hidden><div class=\"sk-item\"><div class=\"sk-estimator sk-toggleable\"><input class=\"sk-toggleable__control sk-hidden--visually\" id=\"sk-estimator-id-1\" type=\"checkbox\" checked><label for=\"sk-estimator-id-1\" class=\"sk-toggleable__label sk-toggleable__label-arrow\">KNeighborsClassifier</label><div class=\"sk-toggleable__content\"><pre>KNeighborsClassifier(n_neighbors=10)</pre></div></div></div></div></div>"
      ],
      "text/plain": [
       "KNeighborsClassifier(n_neighbors=10)"
      ]
     },
     "execution_count": 32,
     "metadata": {},
     "output_type": "execute_result"
    }
   ],
   "source": [
    "knn_model = KNeighborsClassifier(n_neighbors=10)\n",
    "knn_model.fit(x_train_scaled,y_train)"
   ]
  },
  {
   "cell_type": "code",
   "execution_count": 33,
   "id": "1cf679ed",
   "metadata": {},
   "outputs": [],
   "source": [
    "y_pred_knn=knn_model.predict(x_test_scaled) # Predicting the model"
   ]
  },
  {
   "cell_type": "code",
   "execution_count": 34,
   "id": "25151d9e",
   "metadata": {},
   "outputs": [
    {
     "data": {
      "text/plain": [
       "0.8103275640108711"
      ]
     },
     "execution_count": 34,
     "metadata": {},
     "output_type": "execute_result"
    }
   ],
   "source": [
    "score=accuracy_score(y_test,y_pred_knn)\n",
    "score"
   ]
  },
  {
   "cell_type": "code",
   "execution_count": 35,
   "id": "d0285fec",
   "metadata": {},
   "outputs": [
    {
     "name": "stdout",
     "output_type": "stream",
     "text": [
      "              precision    recall  f1-score   support\n",
      "\n",
      "         1.0       0.00      0.00      0.00         1\n",
      "         2.0       0.51      0.67      0.58       210\n",
      "         3.0       0.64      0.60      0.62      1581\n",
      "         4.0       0.81      0.89      0.84      7254\n",
      "         5.0       0.90      0.77      0.83      4936\n",
      "\n",
      "    accuracy                           0.81     13982\n",
      "   macro avg       0.57      0.59      0.57     13982\n",
      "weighted avg       0.81      0.81      0.81     13982\n",
      "\n"
     ]
    }
   ],
   "source": [
    "print(classification_report(y_test,y_pred_knn))"
   ]
  },
  {
   "cell_type": "markdown",
   "id": "d4f98de2",
   "metadata": {},
   "source": [
    "### 2.SVM:"
   ]
  },
  {
   "cell_type": "code",
   "execution_count": 36,
   "id": "6ff14593",
   "metadata": {},
   "outputs": [
    {
     "data": {
      "text/html": [
       "<style>#sk-container-id-2 {color: black;background-color: white;}#sk-container-id-2 pre{padding: 0;}#sk-container-id-2 div.sk-toggleable {background-color: white;}#sk-container-id-2 label.sk-toggleable__label {cursor: pointer;display: block;width: 100%;margin-bottom: 0;padding: 0.3em;box-sizing: border-box;text-align: center;}#sk-container-id-2 label.sk-toggleable__label-arrow:before {content: \"▸\";float: left;margin-right: 0.25em;color: #696969;}#sk-container-id-2 label.sk-toggleable__label-arrow:hover:before {color: black;}#sk-container-id-2 div.sk-estimator:hover label.sk-toggleable__label-arrow:before {color: black;}#sk-container-id-2 div.sk-toggleable__content {max-height: 0;max-width: 0;overflow: hidden;text-align: left;background-color: #f0f8ff;}#sk-container-id-2 div.sk-toggleable__content pre {margin: 0.2em;color: black;border-radius: 0.25em;background-color: #f0f8ff;}#sk-container-id-2 input.sk-toggleable__control:checked~div.sk-toggleable__content {max-height: 200px;max-width: 100%;overflow: auto;}#sk-container-id-2 input.sk-toggleable__control:checked~label.sk-toggleable__label-arrow:before {content: \"▾\";}#sk-container-id-2 div.sk-estimator input.sk-toggleable__control:checked~label.sk-toggleable__label {background-color: #d4ebff;}#sk-container-id-2 div.sk-label input.sk-toggleable__control:checked~label.sk-toggleable__label {background-color: #d4ebff;}#sk-container-id-2 input.sk-hidden--visually {border: 0;clip: rect(1px 1px 1px 1px);clip: rect(1px, 1px, 1px, 1px);height: 1px;margin: -1px;overflow: hidden;padding: 0;position: absolute;width: 1px;}#sk-container-id-2 div.sk-estimator {font-family: monospace;background-color: #f0f8ff;border: 1px dotted black;border-radius: 0.25em;box-sizing: border-box;margin-bottom: 0.5em;}#sk-container-id-2 div.sk-estimator:hover {background-color: #d4ebff;}#sk-container-id-2 div.sk-parallel-item::after {content: \"\";width: 100%;border-bottom: 1px solid gray;flex-grow: 1;}#sk-container-id-2 div.sk-label:hover label.sk-toggleable__label {background-color: #d4ebff;}#sk-container-id-2 div.sk-serial::before {content: \"\";position: absolute;border-left: 1px solid gray;box-sizing: border-box;top: 0;bottom: 0;left: 50%;z-index: 0;}#sk-container-id-2 div.sk-serial {display: flex;flex-direction: column;align-items: center;background-color: white;padding-right: 0.2em;padding-left: 0.2em;position: relative;}#sk-container-id-2 div.sk-item {position: relative;z-index: 1;}#sk-container-id-2 div.sk-parallel {display: flex;align-items: stretch;justify-content: center;background-color: white;position: relative;}#sk-container-id-2 div.sk-item::before, #sk-container-id-2 div.sk-parallel-item::before {content: \"\";position: absolute;border-left: 1px solid gray;box-sizing: border-box;top: 0;bottom: 0;left: 50%;z-index: -1;}#sk-container-id-2 div.sk-parallel-item {display: flex;flex-direction: column;z-index: 1;position: relative;background-color: white;}#sk-container-id-2 div.sk-parallel-item:first-child::after {align-self: flex-end;width: 50%;}#sk-container-id-2 div.sk-parallel-item:last-child::after {align-self: flex-start;width: 50%;}#sk-container-id-2 div.sk-parallel-item:only-child::after {width: 0;}#sk-container-id-2 div.sk-dashed-wrapped {border: 1px dashed gray;margin: 0 0.4em 0.5em 0.4em;box-sizing: border-box;padding-bottom: 0.4em;background-color: white;}#sk-container-id-2 div.sk-label label {font-family: monospace;font-weight: bold;display: inline-block;line-height: 1.2em;}#sk-container-id-2 div.sk-label-container {text-align: center;}#sk-container-id-2 div.sk-container {/* jupyter's `normalize.less` sets `[hidden] { display: none; }` but bootstrap.min.css set `[hidden] { display: none !important; }` so we also need the `!important` here to be able to override the default hidden behavior on the sphinx rendered scikit-learn.org. See: https://github.com/scikit-learn/scikit-learn/issues/21755 */display: inline-block !important;position: relative;}#sk-container-id-2 div.sk-text-repr-fallback {display: none;}</style><div id=\"sk-container-id-2\" class=\"sk-top-container\"><div class=\"sk-text-repr-fallback\"><pre>SVC(C=10, gamma=0.1)</pre><b>In a Jupyter environment, please rerun this cell to show the HTML representation or trust the notebook. <br />On GitHub, the HTML representation is unable to render, please try loading this page with nbviewer.org.</b></div><div class=\"sk-container\" hidden><div class=\"sk-item\"><div class=\"sk-estimator sk-toggleable\"><input class=\"sk-toggleable__control sk-hidden--visually\" id=\"sk-estimator-id-2\" type=\"checkbox\" checked><label for=\"sk-estimator-id-2\" class=\"sk-toggleable__label sk-toggleable__label-arrow\">SVC</label><div class=\"sk-toggleable__content\"><pre>SVC(C=10, gamma=0.1)</pre></div></div></div></div></div>"
      ],
      "text/plain": [
       "SVC(C=10, gamma=0.1)"
      ]
     },
     "execution_count": 36,
     "metadata": {},
     "output_type": "execute_result"
    }
   ],
   "source": [
    "svm_model=SVC(kernel='rbf',C=10,gamma=0.1)\n",
    "svm_model.fit(x_train_scaled,y_train)"
   ]
  },
  {
   "cell_type": "code",
   "execution_count": 37,
   "id": "05cee978",
   "metadata": {},
   "outputs": [],
   "source": [
    "y_pred_svm=svm_model.predict(x_test_scaled)"
   ]
  },
  {
   "cell_type": "code",
   "execution_count": 38,
   "id": "3a872259",
   "metadata": {},
   "outputs": [
    {
     "data": {
      "text/plain": [
       "0.747604062365899"
      ]
     },
     "execution_count": 38,
     "metadata": {},
     "output_type": "execute_result"
    }
   ],
   "source": [
    "accuracy_score(y_test,y_pred_svm)"
   ]
  },
  {
   "cell_type": "code",
   "execution_count": 39,
   "id": "f99fd9c3",
   "metadata": {
    "scrolled": true
   },
   "outputs": [
    {
     "name": "stdout",
     "output_type": "stream",
     "text": [
      "              precision    recall  f1-score   support\n",
      "\n",
      "         1.0       0.00      0.00      0.00         1\n",
      "         2.0       0.52      0.65      0.58       210\n",
      "         3.0       0.55      0.31      0.39      1581\n",
      "         4.0       0.72      0.89      0.80      7254\n",
      "         5.0       0.87      0.68      0.76      4936\n",
      "\n",
      "    accuracy                           0.75     13982\n",
      "   macro avg       0.53      0.51      0.51     13982\n",
      "weighted avg       0.75      0.75      0.74     13982\n",
      "\n"
     ]
    }
   ],
   "source": [
    "print(classification_report(y_test,y_pred_svm))"
   ]
  },
  {
   "cell_type": "markdown",
   "id": "3ce83ddb",
   "metadata": {},
   "source": [
    "### 3.Random Forest Classifier"
   ]
  },
  {
   "cell_type": "code",
   "execution_count": 40,
   "id": "06850134",
   "metadata": {},
   "outputs": [
    {
     "data": {
      "text/html": [
       "<style>#sk-container-id-3 {color: black;background-color: white;}#sk-container-id-3 pre{padding: 0;}#sk-container-id-3 div.sk-toggleable {background-color: white;}#sk-container-id-3 label.sk-toggleable__label {cursor: pointer;display: block;width: 100%;margin-bottom: 0;padding: 0.3em;box-sizing: border-box;text-align: center;}#sk-container-id-3 label.sk-toggleable__label-arrow:before {content: \"▸\";float: left;margin-right: 0.25em;color: #696969;}#sk-container-id-3 label.sk-toggleable__label-arrow:hover:before {color: black;}#sk-container-id-3 div.sk-estimator:hover label.sk-toggleable__label-arrow:before {color: black;}#sk-container-id-3 div.sk-toggleable__content {max-height: 0;max-width: 0;overflow: hidden;text-align: left;background-color: #f0f8ff;}#sk-container-id-3 div.sk-toggleable__content pre {margin: 0.2em;color: black;border-radius: 0.25em;background-color: #f0f8ff;}#sk-container-id-3 input.sk-toggleable__control:checked~div.sk-toggleable__content {max-height: 200px;max-width: 100%;overflow: auto;}#sk-container-id-3 input.sk-toggleable__control:checked~label.sk-toggleable__label-arrow:before {content: \"▾\";}#sk-container-id-3 div.sk-estimator input.sk-toggleable__control:checked~label.sk-toggleable__label {background-color: #d4ebff;}#sk-container-id-3 div.sk-label input.sk-toggleable__control:checked~label.sk-toggleable__label {background-color: #d4ebff;}#sk-container-id-3 input.sk-hidden--visually {border: 0;clip: rect(1px 1px 1px 1px);clip: rect(1px, 1px, 1px, 1px);height: 1px;margin: -1px;overflow: hidden;padding: 0;position: absolute;width: 1px;}#sk-container-id-3 div.sk-estimator {font-family: monospace;background-color: #f0f8ff;border: 1px dotted black;border-radius: 0.25em;box-sizing: border-box;margin-bottom: 0.5em;}#sk-container-id-3 div.sk-estimator:hover {background-color: #d4ebff;}#sk-container-id-3 div.sk-parallel-item::after {content: \"\";width: 100%;border-bottom: 1px solid gray;flex-grow: 1;}#sk-container-id-3 div.sk-label:hover label.sk-toggleable__label {background-color: #d4ebff;}#sk-container-id-3 div.sk-serial::before {content: \"\";position: absolute;border-left: 1px solid gray;box-sizing: border-box;top: 0;bottom: 0;left: 50%;z-index: 0;}#sk-container-id-3 div.sk-serial {display: flex;flex-direction: column;align-items: center;background-color: white;padding-right: 0.2em;padding-left: 0.2em;position: relative;}#sk-container-id-3 div.sk-item {position: relative;z-index: 1;}#sk-container-id-3 div.sk-parallel {display: flex;align-items: stretch;justify-content: center;background-color: white;position: relative;}#sk-container-id-3 div.sk-item::before, #sk-container-id-3 div.sk-parallel-item::before {content: \"\";position: absolute;border-left: 1px solid gray;box-sizing: border-box;top: 0;bottom: 0;left: 50%;z-index: -1;}#sk-container-id-3 div.sk-parallel-item {display: flex;flex-direction: column;z-index: 1;position: relative;background-color: white;}#sk-container-id-3 div.sk-parallel-item:first-child::after {align-self: flex-end;width: 50%;}#sk-container-id-3 div.sk-parallel-item:last-child::after {align-self: flex-start;width: 50%;}#sk-container-id-3 div.sk-parallel-item:only-child::after {width: 0;}#sk-container-id-3 div.sk-dashed-wrapped {border: 1px dashed gray;margin: 0 0.4em 0.5em 0.4em;box-sizing: border-box;padding-bottom: 0.4em;background-color: white;}#sk-container-id-3 div.sk-label label {font-family: monospace;font-weight: bold;display: inline-block;line-height: 1.2em;}#sk-container-id-3 div.sk-label-container {text-align: center;}#sk-container-id-3 div.sk-container {/* jupyter's `normalize.less` sets `[hidden] { display: none; }` but bootstrap.min.css set `[hidden] { display: none !important; }` so we also need the `!important` here to be able to override the default hidden behavior on the sphinx rendered scikit-learn.org. See: https://github.com/scikit-learn/scikit-learn/issues/21755 */display: inline-block !important;position: relative;}#sk-container-id-3 div.sk-text-repr-fallback {display: none;}</style><div id=\"sk-container-id-3\" class=\"sk-top-container\"><div class=\"sk-text-repr-fallback\"><pre>RandomForestClassifier()</pre><b>In a Jupyter environment, please rerun this cell to show the HTML representation or trust the notebook. <br />On GitHub, the HTML representation is unable to render, please try loading this page with nbviewer.org.</b></div><div class=\"sk-container\" hidden><div class=\"sk-item\"><div class=\"sk-estimator sk-toggleable\"><input class=\"sk-toggleable__control sk-hidden--visually\" id=\"sk-estimator-id-3\" type=\"checkbox\" checked><label for=\"sk-estimator-id-3\" class=\"sk-toggleable__label sk-toggleable__label-arrow\">RandomForestClassifier</label><div class=\"sk-toggleable__content\"><pre>RandomForestClassifier()</pre></div></div></div></div></div>"
      ],
      "text/plain": [
       "RandomForestClassifier()"
      ]
     },
     "execution_count": 40,
     "metadata": {},
     "output_type": "execute_result"
    }
   ],
   "source": [
    "rf_model = RandomForestClassifier()\n",
    "rf_model.fit(x_train_scaled,y_train)"
   ]
  },
  {
   "cell_type": "code",
   "execution_count": 41,
   "id": "3b328be8",
   "metadata": {},
   "outputs": [],
   "source": [
    "y_pred_rf=rf_model.predict(x_test_scaled)"
   ]
  },
  {
   "cell_type": "code",
   "execution_count": 42,
   "id": "42112454",
   "metadata": {},
   "outputs": [
    {
     "data": {
      "text/plain": [
       "0.81690745243885"
      ]
     },
     "execution_count": 42,
     "metadata": {},
     "output_type": "execute_result"
    }
   ],
   "source": [
    "accuracy_score(y_test,y_pred_rf)"
   ]
  },
  {
   "cell_type": "code",
   "execution_count": 43,
   "id": "80c98995",
   "metadata": {},
   "outputs": [
    {
     "name": "stdout",
     "output_type": "stream",
     "text": [
      "              precision    recall  f1-score   support\n",
      "\n",
      "         1.0       0.00      0.00      0.00         1\n",
      "         2.0       0.52      0.66      0.59       210\n",
      "         3.0       0.66      0.63      0.64      1581\n",
      "         4.0       0.82      0.87      0.85      7254\n",
      "         5.0       0.88      0.80      0.84      4936\n",
      "\n",
      "    accuracy                           0.82     13982\n",
      "   macro avg       0.58      0.59      0.58     13982\n",
      "weighted avg       0.82      0.82      0.82     13982\n",
      "\n"
     ]
    }
   ],
   "source": [
    "print(classification_report(y_test,y_pred_rf))"
   ]
  },
  {
   "cell_type": "markdown",
   "id": "a5855c53",
   "metadata": {},
   "source": [
    "### 4.Decision Tree:"
   ]
  },
  {
   "cell_type": "code",
   "execution_count": 44,
   "id": "212b70be",
   "metadata": {},
   "outputs": [
    {
     "data": {
      "text/html": [
       "<style>#sk-container-id-4 {color: black;background-color: white;}#sk-container-id-4 pre{padding: 0;}#sk-container-id-4 div.sk-toggleable {background-color: white;}#sk-container-id-4 label.sk-toggleable__label {cursor: pointer;display: block;width: 100%;margin-bottom: 0;padding: 0.3em;box-sizing: border-box;text-align: center;}#sk-container-id-4 label.sk-toggleable__label-arrow:before {content: \"▸\";float: left;margin-right: 0.25em;color: #696969;}#sk-container-id-4 label.sk-toggleable__label-arrow:hover:before {color: black;}#sk-container-id-4 div.sk-estimator:hover label.sk-toggleable__label-arrow:before {color: black;}#sk-container-id-4 div.sk-toggleable__content {max-height: 0;max-width: 0;overflow: hidden;text-align: left;background-color: #f0f8ff;}#sk-container-id-4 div.sk-toggleable__content pre {margin: 0.2em;color: black;border-radius: 0.25em;background-color: #f0f8ff;}#sk-container-id-4 input.sk-toggleable__control:checked~div.sk-toggleable__content {max-height: 200px;max-width: 100%;overflow: auto;}#sk-container-id-4 input.sk-toggleable__control:checked~label.sk-toggleable__label-arrow:before {content: \"▾\";}#sk-container-id-4 div.sk-estimator input.sk-toggleable__control:checked~label.sk-toggleable__label {background-color: #d4ebff;}#sk-container-id-4 div.sk-label input.sk-toggleable__control:checked~label.sk-toggleable__label {background-color: #d4ebff;}#sk-container-id-4 input.sk-hidden--visually {border: 0;clip: rect(1px 1px 1px 1px);clip: rect(1px, 1px, 1px, 1px);height: 1px;margin: -1px;overflow: hidden;padding: 0;position: absolute;width: 1px;}#sk-container-id-4 div.sk-estimator {font-family: monospace;background-color: #f0f8ff;border: 1px dotted black;border-radius: 0.25em;box-sizing: border-box;margin-bottom: 0.5em;}#sk-container-id-4 div.sk-estimator:hover {background-color: #d4ebff;}#sk-container-id-4 div.sk-parallel-item::after {content: \"\";width: 100%;border-bottom: 1px solid gray;flex-grow: 1;}#sk-container-id-4 div.sk-label:hover label.sk-toggleable__label {background-color: #d4ebff;}#sk-container-id-4 div.sk-serial::before {content: \"\";position: absolute;border-left: 1px solid gray;box-sizing: border-box;top: 0;bottom: 0;left: 50%;z-index: 0;}#sk-container-id-4 div.sk-serial {display: flex;flex-direction: column;align-items: center;background-color: white;padding-right: 0.2em;padding-left: 0.2em;position: relative;}#sk-container-id-4 div.sk-item {position: relative;z-index: 1;}#sk-container-id-4 div.sk-parallel {display: flex;align-items: stretch;justify-content: center;background-color: white;position: relative;}#sk-container-id-4 div.sk-item::before, #sk-container-id-4 div.sk-parallel-item::before {content: \"\";position: absolute;border-left: 1px solid gray;box-sizing: border-box;top: 0;bottom: 0;left: 50%;z-index: -1;}#sk-container-id-4 div.sk-parallel-item {display: flex;flex-direction: column;z-index: 1;position: relative;background-color: white;}#sk-container-id-4 div.sk-parallel-item:first-child::after {align-self: flex-end;width: 50%;}#sk-container-id-4 div.sk-parallel-item:last-child::after {align-self: flex-start;width: 50%;}#sk-container-id-4 div.sk-parallel-item:only-child::after {width: 0;}#sk-container-id-4 div.sk-dashed-wrapped {border: 1px dashed gray;margin: 0 0.4em 0.5em 0.4em;box-sizing: border-box;padding-bottom: 0.4em;background-color: white;}#sk-container-id-4 div.sk-label label {font-family: monospace;font-weight: bold;display: inline-block;line-height: 1.2em;}#sk-container-id-4 div.sk-label-container {text-align: center;}#sk-container-id-4 div.sk-container {/* jupyter's `normalize.less` sets `[hidden] { display: none; }` but bootstrap.min.css set `[hidden] { display: none !important; }` so we also need the `!important` here to be able to override the default hidden behavior on the sphinx rendered scikit-learn.org. See: https://github.com/scikit-learn/scikit-learn/issues/21755 */display: inline-block !important;position: relative;}#sk-container-id-4 div.sk-text-repr-fallback {display: none;}</style><div id=\"sk-container-id-4\" class=\"sk-top-container\"><div class=\"sk-text-repr-fallback\"><pre>DecisionTreeClassifier()</pre><b>In a Jupyter environment, please rerun this cell to show the HTML representation or trust the notebook. <br />On GitHub, the HTML representation is unable to render, please try loading this page with nbviewer.org.</b></div><div class=\"sk-container\" hidden><div class=\"sk-item\"><div class=\"sk-estimator sk-toggleable\"><input class=\"sk-toggleable__control sk-hidden--visually\" id=\"sk-estimator-id-4\" type=\"checkbox\" checked><label for=\"sk-estimator-id-4\" class=\"sk-toggleable__label sk-toggleable__label-arrow\">DecisionTreeClassifier</label><div class=\"sk-toggleable__content\"><pre>DecisionTreeClassifier()</pre></div></div></div></div></div>"
      ],
      "text/plain": [
       "DecisionTreeClassifier()"
      ]
     },
     "execution_count": 44,
     "metadata": {},
     "output_type": "execute_result"
    }
   ],
   "source": [
    "dt_model=DecisionTreeClassifier()\n",
    "dt_model.fit(x_train_scaled,y_train)"
   ]
  },
  {
   "cell_type": "code",
   "execution_count": 45,
   "id": "5948710c",
   "metadata": {},
   "outputs": [],
   "source": [
    "y_pred_dt=dt_model.predict(x_test_scaled)"
   ]
  },
  {
   "cell_type": "code",
   "execution_count": 46,
   "id": "e1aa8018",
   "metadata": {},
   "outputs": [
    {
     "data": {
      "text/plain": [
       "0.8168359319124588"
      ]
     },
     "execution_count": 46,
     "metadata": {},
     "output_type": "execute_result"
    }
   ],
   "source": [
    "accuracy_score(y_test,y_pred_dt)"
   ]
  },
  {
   "cell_type": "code",
   "execution_count": 47,
   "id": "0ad56afc",
   "metadata": {},
   "outputs": [
    {
     "name": "stdout",
     "output_type": "stream",
     "text": [
      "              precision    recall  f1-score   support\n",
      "\n",
      "         1.0       0.00      0.00      0.00         1\n",
      "         2.0       0.52      0.69      0.59       210\n",
      "         3.0       0.66      0.63      0.65      1581\n",
      "         4.0       0.82      0.87      0.85      7254\n",
      "         5.0       0.88      0.80      0.84      4936\n",
      "\n",
      "    accuracy                           0.82     13982\n",
      "   macro avg       0.58      0.60      0.58     13982\n",
      "weighted avg       0.82      0.82      0.82     13982\n",
      "\n"
     ]
    }
   ],
   "source": [
    "print(classification_report(y_test,y_pred_dt))"
   ]
  },
  {
   "cell_type": "markdown",
   "id": "b5bd6947",
   "metadata": {},
   "source": [
    "### 5. Artificial Neural Network:"
   ]
  },
  {
   "cell_type": "code",
   "execution_count": 48,
   "id": "a6308f5d",
   "metadata": {},
   "outputs": [
    {
     "data": {
      "text/html": [
       "<style>#sk-container-id-5 {color: black;background-color: white;}#sk-container-id-5 pre{padding: 0;}#sk-container-id-5 div.sk-toggleable {background-color: white;}#sk-container-id-5 label.sk-toggleable__label {cursor: pointer;display: block;width: 100%;margin-bottom: 0;padding: 0.3em;box-sizing: border-box;text-align: center;}#sk-container-id-5 label.sk-toggleable__label-arrow:before {content: \"▸\";float: left;margin-right: 0.25em;color: #696969;}#sk-container-id-5 label.sk-toggleable__label-arrow:hover:before {color: black;}#sk-container-id-5 div.sk-estimator:hover label.sk-toggleable__label-arrow:before {color: black;}#sk-container-id-5 div.sk-toggleable__content {max-height: 0;max-width: 0;overflow: hidden;text-align: left;background-color: #f0f8ff;}#sk-container-id-5 div.sk-toggleable__content pre {margin: 0.2em;color: black;border-radius: 0.25em;background-color: #f0f8ff;}#sk-container-id-5 input.sk-toggleable__control:checked~div.sk-toggleable__content {max-height: 200px;max-width: 100%;overflow: auto;}#sk-container-id-5 input.sk-toggleable__control:checked~label.sk-toggleable__label-arrow:before {content: \"▾\";}#sk-container-id-5 div.sk-estimator input.sk-toggleable__control:checked~label.sk-toggleable__label {background-color: #d4ebff;}#sk-container-id-5 div.sk-label input.sk-toggleable__control:checked~label.sk-toggleable__label {background-color: #d4ebff;}#sk-container-id-5 input.sk-hidden--visually {border: 0;clip: rect(1px 1px 1px 1px);clip: rect(1px, 1px, 1px, 1px);height: 1px;margin: -1px;overflow: hidden;padding: 0;position: absolute;width: 1px;}#sk-container-id-5 div.sk-estimator {font-family: monospace;background-color: #f0f8ff;border: 1px dotted black;border-radius: 0.25em;box-sizing: border-box;margin-bottom: 0.5em;}#sk-container-id-5 div.sk-estimator:hover {background-color: #d4ebff;}#sk-container-id-5 div.sk-parallel-item::after {content: \"\";width: 100%;border-bottom: 1px solid gray;flex-grow: 1;}#sk-container-id-5 div.sk-label:hover label.sk-toggleable__label {background-color: #d4ebff;}#sk-container-id-5 div.sk-serial::before {content: \"\";position: absolute;border-left: 1px solid gray;box-sizing: border-box;top: 0;bottom: 0;left: 50%;z-index: 0;}#sk-container-id-5 div.sk-serial {display: flex;flex-direction: column;align-items: center;background-color: white;padding-right: 0.2em;padding-left: 0.2em;position: relative;}#sk-container-id-5 div.sk-item {position: relative;z-index: 1;}#sk-container-id-5 div.sk-parallel {display: flex;align-items: stretch;justify-content: center;background-color: white;position: relative;}#sk-container-id-5 div.sk-item::before, #sk-container-id-5 div.sk-parallel-item::before {content: \"\";position: absolute;border-left: 1px solid gray;box-sizing: border-box;top: 0;bottom: 0;left: 50%;z-index: -1;}#sk-container-id-5 div.sk-parallel-item {display: flex;flex-direction: column;z-index: 1;position: relative;background-color: white;}#sk-container-id-5 div.sk-parallel-item:first-child::after {align-self: flex-end;width: 50%;}#sk-container-id-5 div.sk-parallel-item:last-child::after {align-self: flex-start;width: 50%;}#sk-container-id-5 div.sk-parallel-item:only-child::after {width: 0;}#sk-container-id-5 div.sk-dashed-wrapped {border: 1px dashed gray;margin: 0 0.4em 0.5em 0.4em;box-sizing: border-box;padding-bottom: 0.4em;background-color: white;}#sk-container-id-5 div.sk-label label {font-family: monospace;font-weight: bold;display: inline-block;line-height: 1.2em;}#sk-container-id-5 div.sk-label-container {text-align: center;}#sk-container-id-5 div.sk-container {/* jupyter's `normalize.less` sets `[hidden] { display: none; }` but bootstrap.min.css set `[hidden] { display: none !important; }` so we also need the `!important` here to be able to override the default hidden behavior on the sphinx rendered scikit-learn.org. See: https://github.com/scikit-learn/scikit-learn/issues/21755 */display: inline-block !important;position: relative;}#sk-container-id-5 div.sk-text-repr-fallback {display: none;}</style><div id=\"sk-container-id-5\" class=\"sk-top-container\"><div class=\"sk-text-repr-fallback\"><pre>MLPClassifier()</pre><b>In a Jupyter environment, please rerun this cell to show the HTML representation or trust the notebook. <br />On GitHub, the HTML representation is unable to render, please try loading this page with nbviewer.org.</b></div><div class=\"sk-container\" hidden><div class=\"sk-item\"><div class=\"sk-estimator sk-toggleable\"><input class=\"sk-toggleable__control sk-hidden--visually\" id=\"sk-estimator-id-5\" type=\"checkbox\" checked><label for=\"sk-estimator-id-5\" class=\"sk-toggleable__label sk-toggleable__label-arrow\">MLPClassifier</label><div class=\"sk-toggleable__content\"><pre>MLPClassifier()</pre></div></div></div></div></div>"
      ],
      "text/plain": [
       "MLPClassifier()"
      ]
     },
     "execution_count": 48,
     "metadata": {},
     "output_type": "execute_result"
    }
   ],
   "source": [
    "ann_model = MLPClassifier()\n",
    "ann_model.fit(x_train_scaled,y_train)"
   ]
  },
  {
   "cell_type": "code",
   "execution_count": 49,
   "id": "5a7642cb",
   "metadata": {},
   "outputs": [],
   "source": [
    "y_pred_ann=ann_model.predict(x_test_scaled)"
   ]
  },
  {
   "cell_type": "code",
   "execution_count": 50,
   "id": "61d71703",
   "metadata": {},
   "outputs": [
    {
     "data": {
      "text/plain": [
       "0.7664139608067515"
      ]
     },
     "execution_count": 50,
     "metadata": {},
     "output_type": "execute_result"
    }
   ],
   "source": [
    "accuracy_score(y_test,y_pred_ann)"
   ]
  },
  {
   "cell_type": "code",
   "execution_count": 51,
   "id": "5c14f507",
   "metadata": {},
   "outputs": [
    {
     "name": "stdout",
     "output_type": "stream",
     "text": [
      "              precision    recall  f1-score   support\n",
      "\n",
      "         1.0       0.00      0.00      0.00         1\n",
      "         2.0       0.52      0.65      0.58       210\n",
      "         3.0       0.60      0.35      0.45      1581\n",
      "         4.0       0.74      0.90      0.81      7254\n",
      "         5.0       0.88      0.71      0.79      4936\n",
      "\n",
      "    accuracy                           0.77     13982\n",
      "   macro avg       0.55      0.52      0.53     13982\n",
      "weighted avg       0.77      0.77      0.76     13982\n",
      "\n"
     ]
    }
   ],
   "source": [
    "print(classification_report(y_test,y_pred_ann))"
   ]
  },
  {
   "cell_type": "code",
   "execution_count": 52,
   "id": "63154e89",
   "metadata": {},
   "outputs": [
    {
     "name": "stdout",
     "output_type": "stream",
     "text": [
      "+-------+---------------+----------+\n",
      "| Sr.No |     Model     | Accuracy |\n",
      "+-------+---------------+----------+\n",
      "|   1   |      KNN      |   0.81   |\n",
      "|   2   |      SVM      |   0.75   |\n",
      "|   3   | Random Forest |   0.82   |\n",
      "|   4   | Decision Tree |   0.82   |\n",
      "|   5   |      ANN      |   0.77   |\n",
      "+-------+---------------+----------+\n"
     ]
    }
   ],
   "source": [
    "from prettytable import PrettyTable\n",
    "table=PrettyTable()\n",
    "table.field_names = ['Sr.No',\"Model\",\"Accuracy\"] \n",
    "table.add_row([1,\"KNN\",0.81 ])\n",
    "table.add_row([2,\"SVM\", 0.75])\n",
    "table.add_row([3,'Random Forest',0.82])\n",
    "table.add_row([4,'Decision Tree',0.82])\n",
    "table.add_row([5,'ANN',0.77])\n",
    "print(table)"
   ]
  },
  {
   "cell_type": "markdown",
   "id": "62ac82c8",
   "metadata": {},
   "source": [
    "According to above table we can conclude that random forest classifier and Decision tree classifier best suit for given business case."
   ]
  },
  {
   "cell_type": "markdown",
   "id": "89552e7d",
   "metadata": {},
   "source": [
    "### Task 2:Forecast the incident volume in different fields, quarterly and annual.So that they can be better prepared with resources and technology planning."
   ]
  },
  {
   "cell_type": "code",
   "execution_count": 8,
   "id": "e3f6d040",
   "metadata": {},
   "outputs": [],
   "source": [
    "# Selecting required columns for given business case.\n",
    "data1=data[['Category','Open_Time']]"
   ]
  },
  {
   "cell_type": "code",
   "execution_count": 9,
   "id": "68bea969",
   "metadata": {},
   "outputs": [
    {
     "data": {
      "text/html": [
       "<div>\n",
       "<style scoped>\n",
       "    .dataframe tbody tr th:only-of-type {\n",
       "        vertical-align: middle;\n",
       "    }\n",
       "\n",
       "    .dataframe tbody tr th {\n",
       "        vertical-align: top;\n",
       "    }\n",
       "\n",
       "    .dataframe thead th {\n",
       "        text-align: right;\n",
       "    }\n",
       "</style>\n",
       "<table border=\"1\" class=\"dataframe\">\n",
       "  <thead>\n",
       "    <tr style=\"text-align: right;\">\n",
       "      <th></th>\n",
       "      <th>Category</th>\n",
       "      <th>Open_Time</th>\n",
       "    </tr>\n",
       "  </thead>\n",
       "  <tbody>\n",
       "    <tr>\n",
       "      <th>0</th>\n",
       "      <td>incident</td>\n",
       "      <td>05-02-2012 13:32</td>\n",
       "    </tr>\n",
       "    <tr>\n",
       "      <th>1</th>\n",
       "      <td>incident</td>\n",
       "      <td>12-03-2012 15:44</td>\n",
       "    </tr>\n",
       "    <tr>\n",
       "      <th>2</th>\n",
       "      <td>request for information</td>\n",
       "      <td>29-03-2012 12:36</td>\n",
       "    </tr>\n",
       "    <tr>\n",
       "      <th>3</th>\n",
       "      <td>incident</td>\n",
       "      <td>17-07-2012 11:49</td>\n",
       "    </tr>\n",
       "    <tr>\n",
       "      <th>4</th>\n",
       "      <td>incident</td>\n",
       "      <td>10-08-2012 11:01</td>\n",
       "    </tr>\n",
       "  </tbody>\n",
       "</table>\n",
       "</div>"
      ],
      "text/plain": [
       "                  Category         Open_Time\n",
       "0                 incident  05-02-2012 13:32\n",
       "1                 incident  12-03-2012 15:44\n",
       "2  request for information  29-03-2012 12:36\n",
       "3                 incident  17-07-2012 11:49\n",
       "4                 incident  10-08-2012 11:01"
      ]
     },
     "execution_count": 9,
     "metadata": {},
     "output_type": "execute_result"
    }
   ],
   "source": [
    "data1.head()"
   ]
  },
  {
   "cell_type": "code",
   "execution_count": 10,
   "id": "e9b94509",
   "metadata": {},
   "outputs": [
    {
     "data": {
      "text/plain": [
       "Category     0\n",
       "Open_Time    0\n",
       "dtype: int64"
      ]
     },
     "execution_count": 10,
     "metadata": {},
     "output_type": "execute_result"
    }
   ],
   "source": [
    "data1.isnull().sum()"
   ]
  },
  {
   "cell_type": "markdown",
   "id": "e9d024c9",
   "metadata": {},
   "source": [
    "### Data Preprocessing:"
   ]
  },
  {
   "cell_type": "code",
   "execution_count": 12,
   "id": "f5616e1c",
   "metadata": {},
   "outputs": [],
   "source": [
    "data1['Open_Time']=data1['Open_Time'].apply(pd.to_datetime)\n",
    "data1['Open_Time']=pd.to_datetime(data1['Open_Time']).dt.date"
   ]
  },
  {
   "cell_type": "code",
   "execution_count": 13,
   "id": "cc7de37a",
   "metadata": {},
   "outputs": [
    {
     "data": {
      "text/html": [
       "<div>\n",
       "<style scoped>\n",
       "    .dataframe tbody tr th:only-of-type {\n",
       "        vertical-align: middle;\n",
       "    }\n",
       "\n",
       "    .dataframe tbody tr th {\n",
       "        vertical-align: top;\n",
       "    }\n",
       "\n",
       "    .dataframe thead th {\n",
       "        text-align: right;\n",
       "    }\n",
       "</style>\n",
       "<table border=\"1\" class=\"dataframe\">\n",
       "  <thead>\n",
       "    <tr style=\"text-align: right;\">\n",
       "      <th></th>\n",
       "      <th>Category</th>\n",
       "      <th>Open_Time</th>\n",
       "    </tr>\n",
       "  </thead>\n",
       "  <tbody>\n",
       "    <tr>\n",
       "      <th>0</th>\n",
       "      <td>incident</td>\n",
       "      <td>2012-05-02</td>\n",
       "    </tr>\n",
       "    <tr>\n",
       "      <th>1</th>\n",
       "      <td>incident</td>\n",
       "      <td>2012-12-03</td>\n",
       "    </tr>\n",
       "    <tr>\n",
       "      <th>2</th>\n",
       "      <td>request for information</td>\n",
       "      <td>2012-03-29</td>\n",
       "    </tr>\n",
       "    <tr>\n",
       "      <th>3</th>\n",
       "      <td>incident</td>\n",
       "      <td>2012-07-17</td>\n",
       "    </tr>\n",
       "    <tr>\n",
       "      <th>4</th>\n",
       "      <td>incident</td>\n",
       "      <td>2012-10-08</td>\n",
       "    </tr>\n",
       "  </tbody>\n",
       "</table>\n",
       "</div>"
      ],
      "text/plain": [
       "                  Category   Open_Time\n",
       "0                 incident  2012-05-02\n",
       "1                 incident  2012-12-03\n",
       "2  request for information  2012-03-29\n",
       "3                 incident  2012-07-17\n",
       "4                 incident  2012-10-08"
      ]
     },
     "execution_count": 13,
     "metadata": {},
     "output_type": "execute_result"
    }
   ],
   "source": [
    "data1.head()"
   ]
  },
  {
   "cell_type": "code",
   "execution_count": 14,
   "id": "ce52ff85",
   "metadata": {},
   "outputs": [
    {
     "data": {
      "text/html": [
       "<div>\n",
       "<style scoped>\n",
       "    .dataframe tbody tr th:only-of-type {\n",
       "        vertical-align: middle;\n",
       "    }\n",
       "\n",
       "    .dataframe tbody tr th {\n",
       "        vertical-align: top;\n",
       "    }\n",
       "\n",
       "    .dataframe thead th {\n",
       "        text-align: right;\n",
       "    }\n",
       "</style>\n",
       "<table border=\"1\" class=\"dataframe\">\n",
       "  <thead>\n",
       "    <tr style=\"text-align: right;\">\n",
       "      <th></th>\n",
       "      <th>Category</th>\n",
       "      <th>Open_Time</th>\n",
       "    </tr>\n",
       "  </thead>\n",
       "  <tbody>\n",
       "    <tr>\n",
       "      <th>0</th>\n",
       "      <td>incident</td>\n",
       "      <td>2012-05-02</td>\n",
       "    </tr>\n",
       "    <tr>\n",
       "      <th>1</th>\n",
       "      <td>incident</td>\n",
       "      <td>2012-12-03</td>\n",
       "    </tr>\n",
       "    <tr>\n",
       "      <th>3</th>\n",
       "      <td>incident</td>\n",
       "      <td>2012-07-17</td>\n",
       "    </tr>\n",
       "    <tr>\n",
       "      <th>4</th>\n",
       "      <td>incident</td>\n",
       "      <td>2012-10-08</td>\n",
       "    </tr>\n",
       "    <tr>\n",
       "      <th>5</th>\n",
       "      <td>incident</td>\n",
       "      <td>2012-10-08</td>\n",
       "    </tr>\n",
       "    <tr>\n",
       "      <th>...</th>\n",
       "      <td>...</td>\n",
       "      <td>...</td>\n",
       "    </tr>\n",
       "    <tr>\n",
       "      <th>46601</th>\n",
       "      <td>incident</td>\n",
       "      <td>2014-03-31</td>\n",
       "    </tr>\n",
       "    <tr>\n",
       "      <th>46602</th>\n",
       "      <td>incident</td>\n",
       "      <td>2014-03-31</td>\n",
       "    </tr>\n",
       "    <tr>\n",
       "      <th>46603</th>\n",
       "      <td>incident</td>\n",
       "      <td>2014-03-31</td>\n",
       "    </tr>\n",
       "    <tr>\n",
       "      <th>46604</th>\n",
       "      <td>incident</td>\n",
       "      <td>2014-03-31</td>\n",
       "    </tr>\n",
       "    <tr>\n",
       "      <th>46605</th>\n",
       "      <td>incident</td>\n",
       "      <td>2014-03-31</td>\n",
       "    </tr>\n",
       "  </tbody>\n",
       "</table>\n",
       "<p>37748 rows × 2 columns</p>\n",
       "</div>"
      ],
      "text/plain": [
       "       Category   Open_Time\n",
       "0      incident  2012-05-02\n",
       "1      incident  2012-12-03\n",
       "3      incident  2012-07-17\n",
       "4      incident  2012-10-08\n",
       "5      incident  2012-10-08\n",
       "...         ...         ...\n",
       "46601  incident  2014-03-31\n",
       "46602  incident  2014-03-31\n",
       "46603  incident  2014-03-31\n",
       "46604  incident  2014-03-31\n",
       "46605  incident  2014-03-31\n",
       "\n",
       "[37748 rows x 2 columns]"
      ]
     },
     "execution_count": 14,
     "metadata": {},
     "output_type": "execute_result"
    }
   ],
   "source": [
    "# according to business case we are selecting the data where incident  tickets are raised.\n",
    "data1=data1.loc[data1['Category']=='incident']\n",
    "data1"
   ]
  },
  {
   "cell_type": "code",
   "execution_count": 15,
   "id": "20e84127",
   "metadata": {},
   "outputs": [
    {
     "data": {
      "text/plain": [
       "datetime.date(2012, 1, 10)"
      ]
     },
     "execution_count": 15,
     "metadata": {},
     "output_type": "execute_result"
    }
   ],
   "source": [
    "data1['Open_Time'].min()"
   ]
  },
  {
   "cell_type": "code",
   "execution_count": 16,
   "id": "8a2bbccd",
   "metadata": {},
   "outputs": [
    {
     "data": {
      "text/plain": [
       "datetime.date(2014, 12, 3)"
      ]
     },
     "execution_count": 16,
     "metadata": {},
     "output_type": "execute_result"
    }
   ],
   "source": [
    "data1['Open_Time'].max()"
   ]
  },
  {
   "cell_type": "code",
   "execution_count": 17,
   "id": "1adf7bd3",
   "metadata": {},
   "outputs": [],
   "source": [
    "# Adding new column which is having the frequency of date occured\n",
    "data1['frequency'] = data1.groupby('Open_Time')['Category'].transform('count')"
   ]
  },
  {
   "cell_type": "code",
   "execution_count": 18,
   "id": "61ec1ca3",
   "metadata": {},
   "outputs": [],
   "source": [
    "data1.drop_duplicates(inplace=True)"
   ]
  },
  {
   "cell_type": "code",
   "execution_count": 19,
   "id": "96f4ee04",
   "metadata": {},
   "outputs": [],
   "source": [
    "data1.index=pd.to_datetime(data1.Open_Time,dayfirst=True)"
   ]
  },
  {
   "cell_type": "code",
   "execution_count": 20,
   "id": "14fe6e75",
   "metadata": {},
   "outputs": [
    {
     "data": {
      "text/html": [
       "<div>\n",
       "<style scoped>\n",
       "    .dataframe tbody tr th:only-of-type {\n",
       "        vertical-align: middle;\n",
       "    }\n",
       "\n",
       "    .dataframe tbody tr th {\n",
       "        vertical-align: top;\n",
       "    }\n",
       "\n",
       "    .dataframe thead th {\n",
       "        text-align: right;\n",
       "    }\n",
       "</style>\n",
       "<table border=\"1\" class=\"dataframe\">\n",
       "  <thead>\n",
       "    <tr style=\"text-align: right;\">\n",
       "      <th></th>\n",
       "      <th>Category</th>\n",
       "      <th>Open_Time</th>\n",
       "      <th>frequency</th>\n",
       "    </tr>\n",
       "    <tr>\n",
       "      <th>Open_Time</th>\n",
       "      <th></th>\n",
       "      <th></th>\n",
       "      <th></th>\n",
       "    </tr>\n",
       "  </thead>\n",
       "  <tbody>\n",
       "    <tr>\n",
       "      <th>2012-05-02</th>\n",
       "      <td>incident</td>\n",
       "      <td>2012-05-02</td>\n",
       "      <td>1</td>\n",
       "    </tr>\n",
       "    <tr>\n",
       "      <th>2012-12-03</th>\n",
       "      <td>incident</td>\n",
       "      <td>2012-12-03</td>\n",
       "      <td>1</td>\n",
       "    </tr>\n",
       "    <tr>\n",
       "      <th>2012-07-17</th>\n",
       "      <td>incident</td>\n",
       "      <td>2012-07-17</td>\n",
       "      <td>1</td>\n",
       "    </tr>\n",
       "    <tr>\n",
       "      <th>2012-10-08</th>\n",
       "      <td>incident</td>\n",
       "      <td>2012-10-08</td>\n",
       "      <td>2</td>\n",
       "    </tr>\n",
       "    <tr>\n",
       "      <th>2012-08-15</th>\n",
       "      <td>incident</td>\n",
       "      <td>2012-08-15</td>\n",
       "      <td>1</td>\n",
       "    </tr>\n",
       "  </tbody>\n",
       "</table>\n",
       "</div>"
      ],
      "text/plain": [
       "            Category   Open_Time  frequency\n",
       "Open_Time                                  \n",
       "2012-05-02  incident  2012-05-02          1\n",
       "2012-12-03  incident  2012-12-03          1\n",
       "2012-07-17  incident  2012-07-17          1\n",
       "2012-10-08  incident  2012-10-08          2\n",
       "2012-08-15  incident  2012-08-15          1"
      ]
     },
     "execution_count": 20,
     "metadata": {},
     "output_type": "execute_result"
    }
   ],
   "source": [
    "data1.head()"
   ]
  },
  {
   "cell_type": "code",
   "execution_count": 21,
   "id": "dbd89ee9",
   "metadata": {},
   "outputs": [
    {
     "data": {
      "text/plain": [
       "datetime.date(2012, 1, 10)"
      ]
     },
     "execution_count": 21,
     "metadata": {},
     "output_type": "execute_result"
    }
   ],
   "source": [
    "data1['Open_Time'].min()"
   ]
  },
  {
   "cell_type": "code",
   "execution_count": 29,
   "id": "6c529a3d",
   "metadata": {},
   "outputs": [
    {
     "data": {
      "text/html": [
       "<div>\n",
       "<style scoped>\n",
       "    .dataframe tbody tr th:only-of-type {\n",
       "        vertical-align: middle;\n",
       "    }\n",
       "\n",
       "    .dataframe tbody tr th {\n",
       "        vertical-align: top;\n",
       "    }\n",
       "\n",
       "    .dataframe thead th {\n",
       "        text-align: right;\n",
       "    }\n",
       "</style>\n",
       "<table border=\"1\" class=\"dataframe\">\n",
       "  <thead>\n",
       "    <tr style=\"text-align: right;\">\n",
       "      <th></th>\n",
       "      <th>frequency</th>\n",
       "    </tr>\n",
       "    <tr>\n",
       "      <th>Open_Time</th>\n",
       "      <th></th>\n",
       "    </tr>\n",
       "  </thead>\n",
       "  <tbody>\n",
       "    <tr>\n",
       "      <th>2012-05-02</th>\n",
       "      <td>1</td>\n",
       "    </tr>\n",
       "    <tr>\n",
       "      <th>2012-12-03</th>\n",
       "      <td>1</td>\n",
       "    </tr>\n",
       "    <tr>\n",
       "      <th>2012-07-17</th>\n",
       "      <td>1</td>\n",
       "    </tr>\n",
       "    <tr>\n",
       "      <th>2012-10-08</th>\n",
       "      <td>2</td>\n",
       "    </tr>\n",
       "    <tr>\n",
       "      <th>2012-08-15</th>\n",
       "      <td>1</td>\n",
       "    </tr>\n",
       "  </tbody>\n",
       "</table>\n",
       "</div>"
      ],
      "text/plain": [
       "            frequency\n",
       "Open_Time            \n",
       "2012-05-02          1\n",
       "2012-12-03          1\n",
       "2012-07-17          1\n",
       "2012-10-08          2\n",
       "2012-08-15          1"
      ]
     },
     "execution_count": 29,
     "metadata": {},
     "output_type": "execute_result"
    }
   ],
   "source": [
    "data2=data1.loc[:,['frequency']]\n",
    "data2.head()"
   ]
  },
  {
   "cell_type": "code",
   "execution_count": 30,
   "id": "a2bf8101",
   "metadata": {},
   "outputs": [
    {
     "data": {
      "image/png": "[encoded data removed]",
      "text/plain": [
       "<Figure size 1500x600 with 1 Axes>"
      ]
     },
     "metadata": {},
     "output_type": "display_data"
    }
   ],
   "source": [
    "import matplotlib.pyplot as plt\n",
    "data2.plot(figsize=(15,6))\n",
    "plt.show()"
   ]
  },
  {
   "cell_type": "code",
   "execution_count": 31,
   "id": "207caeab",
   "metadata": {},
   "outputs": [],
   "source": [
    "# According to above plots i am considering the data above '2013/9/1', because in below dates there are no much frequencies."
   ]
  },
  {
   "cell_type": "code",
   "execution_count": 32,
   "id": "9e5b20d7",
   "metadata": {},
   "outputs": [
    {
     "data": {
      "text/html": [
       "<div>\n",
       "<style scoped>\n",
       "    .dataframe tbody tr th:only-of-type {\n",
       "        vertical-align: middle;\n",
       "    }\n",
       "\n",
       "    .dataframe tbody tr th {\n",
       "        vertical-align: top;\n",
       "    }\n",
       "\n",
       "    .dataframe thead th {\n",
       "        text-align: right;\n",
       "    }\n",
       "</style>\n",
       "<table border=\"1\" class=\"dataframe\">\n",
       "  <thead>\n",
       "    <tr style=\"text-align: right;\">\n",
       "      <th></th>\n",
       "      <th>frequency</th>\n",
       "    </tr>\n",
       "    <tr>\n",
       "      <th>Open_Time</th>\n",
       "      <th></th>\n",
       "    </tr>\n",
       "  </thead>\n",
       "  <tbody>\n",
       "    <tr>\n",
       "      <th>2013-11-03</th>\n",
       "      <td>1</td>\n",
       "    </tr>\n",
       "    <tr>\n",
       "      <th>2013-12-03</th>\n",
       "      <td>1</td>\n",
       "    </tr>\n",
       "    <tr>\n",
       "      <th>2013-09-04</th>\n",
       "      <td>1</td>\n",
       "    </tr>\n",
       "    <tr>\n",
       "      <th>2013-10-04</th>\n",
       "      <td>2</td>\n",
       "    </tr>\n",
       "    <tr>\n",
       "      <th>2013-10-06</th>\n",
       "      <td>4</td>\n",
       "    </tr>\n",
       "  </tbody>\n",
       "</table>\n",
       "</div>"
      ],
      "text/plain": [
       "            frequency\n",
       "Open_Time            \n",
       "2013-11-03          1\n",
       "2013-12-03          1\n",
       "2013-09-04          1\n",
       "2013-10-04          2\n",
       "2013-10-06          4"
      ]
     },
     "execution_count": 32,
     "metadata": {},
     "output_type": "execute_result"
    }
   ],
   "source": [
    "data2=data2['2013-9-1':'2014-03-31']\n",
    "data2.head()"
   ]
  },
  {
   "cell_type": "code",
   "execution_count": 33,
   "id": "5c308da7",
   "metadata": {},
   "outputs": [
    {
     "data": {
      "image/png": "[encoded data removed]",
      "text/plain": [
       "<Figure size 1500x600 with 1 Axes>"
      ]
     },
     "metadata": {},
     "output_type": "display_data"
    }
   ],
   "source": [
    "# Plotting number of tickets per day\n",
    "import matplotlib.pyplot as plt\n",
    "data2.plot(figsize=(15,6))\n",
    "plt.show()"
   ]
  },
  {
   "cell_type": "code",
   "execution_count": 37,
   "id": "6e6c3874",
   "metadata": {},
   "outputs": [],
   "source": [
    "data2.drop_duplicates(inplace=True)"
   ]
  },
  {
   "cell_type": "code",
   "execution_count": 39,
   "id": "b699c3d7",
   "metadata": {},
   "outputs": [],
   "source": [
    "# Since not many tickets before October 2013, we consider only the latter values\n",
    "import datetime as dt\n",
    "incfrom2013 = data2[data2.index > dt.datetime(2013,10,1)]"
   ]
  },
  {
   "cell_type": "code",
   "execution_count": 40,
   "id": "a541ae65",
   "metadata": {},
   "outputs": [
    {
     "data": {
      "text/plain": [
       "DatetimeIndex(['2013-10-04', '2013-10-05', '2013-10-06', '2013-10-07',\n",
       "               '2013-10-08', '2013-10-09', '2013-10-10', '2013-10-11',\n",
       "               '2013-10-12', '2013-10-13',\n",
       "               ...\n",
       "               '2014-03-22', '2014-03-23', '2014-03-24', '2014-03-25',\n",
       "               '2014-03-26', '2014-03-27', '2014-03-28', '2014-03-29',\n",
       "               '2014-03-30', '2014-03-31'],\n",
       "              dtype='datetime64[ns]', name='Open_Time', length=179, freq='D')"
      ]
     },
     "execution_count": 40,
     "metadata": {},
     "output_type": "execute_result"
    }
   ],
   "source": [
    "# new Series\n",
    "data3 = incfrom2013['frequency']\n",
    "data3 = data3.asfreq('D')\n",
    "data3.index"
   ]
  },
  {
   "cell_type": "code",
   "execution_count": 41,
   "id": "ae864a7b",
   "metadata": {},
   "outputs": [],
   "source": [
    "# Making a list of values for p,d & q\n",
    "import itertools\n",
    "p = d = q = range(0,2)\n",
    "pdq = list(itertools.product(p,d,q))"
   ]
  },
  {
   "cell_type": "code",
   "execution_count": 42,
   "id": "d0830ced",
   "metadata": {},
   "outputs": [],
   "source": [
    "data3 = pd.to_numeric(data3, errors='coerce')"
   ]
  },
  {
   "cell_type": "code",
   "execution_count": 44,
   "id": "18c83a8d",
   "metadata": {},
   "outputs": [
    {
     "name": "stdout",
     "output_type": "stream",
     "text": [
      "ARIMA(0, 0, 0) - AIC:1072.9651168193948\n",
      "ARIMA(0, 0, 1) - AIC:1031.9205707971457\n",
      "ARIMA(0, 1, 0) - AIC:945.7632312796327\n",
      "ARIMA(0, 1, 1) - AIC:908.2413740575738\n",
      "ARIMA(1, 0, 0) - AIC:942.746764935117\n",
      "ARIMA(1, 0, 1) - AIC:925.736924215352\n",
      "ARIMA(1, 1, 0) - AIC:942.4355875754981\n",
      "ARIMA(1, 1, 1) - AIC:922.9536622151525\n"
     ]
    }
   ],
   "source": [
    "# Checking the AIC values per pairs\n",
    "import warnings\n",
    "warnings.filterwarnings('ignore')\n",
    "import statsmodels.api as sm\n",
    "for param in pdq:\n",
    "    mod = sm.tsa.statespace.SARIMAX(data3,order=param,enforce_stationarity=False,enforce_invertibility=False)\n",
    "    results = mod.fit()\n",
    "    print('ARIMA{} - AIC:{}'.format(param, results.aic))"
   ]
  },
  {
   "cell_type": "code",
   "execution_count": 45,
   "id": "3a8ec2a3",
   "metadata": {},
   "outputs": [
    {
     "name": "stdout",
     "output_type": "stream",
     "text": [
      "==============================================================================\n",
      "                 coef    std err          z      P>|z|      [0.025      0.975]\n",
      "------------------------------------------------------------------------------\n",
      "ar.L1          0.5037      0.101      4.995      0.000       0.306       0.701\n",
      "ma.L1         -0.9774      0.037    -26.741      0.000      -1.049      -0.906\n",
      "sigma2      8311.4442   1026.008      8.101      0.000    6300.506    1.03e+04\n",
      "==============================================================================\n"
     ]
    }
   ],
   "source": [
    "# Choosing the model with minimum AIC and the ARIMA Model for Time Series Forecasting\n",
    "mod = sm.tsa.statespace.SARIMAX(data3,order=(1,1,1))\n",
    "results = mod.fit()\n",
    "print(results.summary().tables[1])"
   ]
  },
  {
   "cell_type": "code",
   "execution_count": 46,
   "id": "7572a542",
   "metadata": {},
   "outputs": [
    {
     "data": {
      "text/plain": [
       "2014-03-03    334.0\n",
       "2014-03-04    252.0\n",
       "2014-03-05    260.0\n",
       "2014-03-06    264.0\n",
       "2014-03-07    266.0\n",
       "              ...  \n",
       "2014-10-26    258.0\n",
       "2014-10-27    258.0\n",
       "2014-10-28    258.0\n",
       "2014-10-29    258.0\n",
       "2014-10-30    258.0\n",
       "Freq: D, Name: predicted_mean, Length: 242, dtype: float64"
      ]
     },
     "execution_count": 46,
     "metadata": {},
     "output_type": "execute_result"
    }
   ],
   "source": [
    "# Predicting the future values and the confidence interval\n",
    "pred = results.get_prediction(start=pd.to_datetime('2014-3-3'),end=pd.to_datetime('2014-10-30'),dynamic=False)\n",
    "pred_ci = pred.conf_int()\n",
    "pred.predicted_mean.round()"
   ]
  },
  {
   "cell_type": "code",
   "execution_count": 47,
   "id": "0aee230e",
   "metadata": {},
   "outputs": [
    {
     "data": {
      "image/png": "[encoded data removed]",
      "text/plain": [
       "<Figure size 1500x600 with 1 Axes>"
      ]
     },
     "metadata": {},
     "output_type": "display_data"
    }
   ],
   "source": [
    "ax = data2['2013':].plot(label='observed')\n",
    "pred.predicted_mean.plot(ax=ax,label='One-step ahead Forecast',figsize=(15, 6))\n",
    "ax.fill_between(pred_ci.index,pred_ci.iloc[:,0],pred_ci.iloc[:,1],color='grey',alpha=0.3)\n",
    "ax.set_xlabel('Date')\n",
    "ax.set_ylabel('No of Incidents')\n",
    "plt.legend()\n",
    "plt.show()"
   ]
  },
  {
   "cell_type": "markdown",
   "id": "fb90e0f2",
   "metadata": {},
   "source": [
    "From the above graph, we can observe the future prediction of Number of Incident volumes will occur."
   ]
  },
  {
   "cell_type": "markdown",
   "id": "3113e1c6",
   "metadata": {},
   "source": [
    "### Task3: Auto tag the tickets with right priorities and right departments so that reassigning and related delay can be reduced."
   ]
  },
  {
   "cell_type": "code",
   "execution_count": 22,
   "id": "1593e1d9",
   "metadata": {},
   "outputs": [],
   "source": [
    "df=data.copy()"
   ]
  },
  {
   "cell_type": "code",
   "execution_count": 23,
   "id": "67f3ebb9",
   "metadata": {},
   "outputs": [
    {
     "data": {
      "text/html": [
       "<div>\n",
       "<style scoped>\n",
       "    .dataframe tbody tr th:only-of-type {\n",
       "        vertical-align: middle;\n",
       "    }\n",
       "\n",
       "    .dataframe tbody tr th {\n",
       "        vertical-align: top;\n",
       "    }\n",
       "\n",
       "    .dataframe thead th {\n",
       "        text-align: right;\n",
       "    }\n",
       "</style>\n",
       "<table border=\"1\" class=\"dataframe\">\n",
       "  <thead>\n",
       "    <tr style=\"text-align: right;\">\n",
       "      <th></th>\n",
       "      <th>CI_Name</th>\n",
       "      <th>CI_Cat</th>\n",
       "      <th>CI_Subcat</th>\n",
       "      <th>Category</th>\n",
       "      <th>Priority</th>\n",
       "    </tr>\n",
       "  </thead>\n",
       "  <tbody>\n",
       "    <tr>\n",
       "      <th>0</th>\n",
       "      <td>SUB000508</td>\n",
       "      <td>subapplication</td>\n",
       "      <td>Web Based Application</td>\n",
       "      <td>incident</td>\n",
       "      <td>4.0</td>\n",
       "    </tr>\n",
       "    <tr>\n",
       "      <th>1</th>\n",
       "      <td>WBA000124</td>\n",
       "      <td>application</td>\n",
       "      <td>Web Based Application</td>\n",
       "      <td>incident</td>\n",
       "      <td>3.0</td>\n",
       "    </tr>\n",
       "    <tr>\n",
       "      <th>2</th>\n",
       "      <td>DTA000024</td>\n",
       "      <td>application</td>\n",
       "      <td>Desktop Application</td>\n",
       "      <td>request for information</td>\n",
       "      <td>4.0</td>\n",
       "    </tr>\n",
       "    <tr>\n",
       "      <th>3</th>\n",
       "      <td>WBA000124</td>\n",
       "      <td>application</td>\n",
       "      <td>Web Based Application</td>\n",
       "      <td>incident</td>\n",
       "      <td>4.0</td>\n",
       "    </tr>\n",
       "    <tr>\n",
       "      <th>4</th>\n",
       "      <td>WBA000124</td>\n",
       "      <td>application</td>\n",
       "      <td>Web Based Application</td>\n",
       "      <td>incident</td>\n",
       "      <td>4.0</td>\n",
       "    </tr>\n",
       "  </tbody>\n",
       "</table>\n",
       "</div>"
      ],
      "text/plain": [
       "     CI_Name          CI_Cat              CI_Subcat                 Category  \\\n",
       "0  SUB000508  subapplication  Web Based Application                 incident   \n",
       "1  WBA000124     application  Web Based Application                 incident   \n",
       "2  DTA000024     application    Desktop Application  request for information   \n",
       "3  WBA000124     application  Web Based Application                 incident   \n",
       "4  WBA000124     application  Web Based Application                 incident   \n",
       "\n",
       "   Priority  \n",
       "0       4.0  \n",
       "1       3.0  \n",
       "2       4.0  \n",
       "3       4.0  \n",
       "4       4.0  "
      ]
     },
     "execution_count": 23,
     "metadata": {},
     "output_type": "execute_result"
    }
   ],
   "source": [
    "df=df[['CI_Name','CI_Cat','CI_Subcat','Category','Priority']]\n",
    "df.head()"
   ]
  },
  {
   "cell_type": "code",
   "execution_count": 24,
   "id": "8931a8c6",
   "metadata": {},
   "outputs": [
    {
     "data": {
      "text/plain": [
       "CI_Name      0\n",
       "CI_Cat       0\n",
       "CI_Subcat    0\n",
       "Category     0\n",
       "Priority     0\n",
       "dtype: int64"
      ]
     },
     "execution_count": 24,
     "metadata": {},
     "output_type": "execute_result"
    }
   ],
   "source": [
    "# Checking missing values\n",
    "df.isnull().sum()"
   ]
  },
  {
   "cell_type": "code",
   "execution_count": 25,
   "id": "213a0994",
   "metadata": {},
   "outputs": [],
   "source": [
    "# Splitting data into x and y\n",
    "x=df.drop(['CI_Cat'],axis=1)\n",
    "y=df['CI_Cat']"
   ]
  },
  {
   "cell_type": "code",
   "execution_count": 26,
   "id": "75395c09",
   "metadata": {},
   "outputs": [],
   "source": [
    "# Use encoding technique on input data\n",
    "from sklearn.preprocessing import LabelEncoder\n",
    "le=LabelEncoder()\n",
    "for i in (0,1,2):\n",
    "    x.iloc[:,i]=le.fit_transform(x.iloc[:,i])"
   ]
  },
  {
   "cell_type": "code",
   "execution_count": 27,
   "id": "2263ef9a",
   "metadata": {},
   "outputs": [
    {
     "name": "stdout",
     "output_type": "stream",
     "text": [
      "<class 'pandas.core.frame.DataFrame'>\n",
      "RangeIndex: 46606 entries, 0 to 46605\n",
      "Data columns (total 4 columns):\n",
      " #   Column     Non-Null Count  Dtype  \n",
      "---  ------     --------------  -----  \n",
      " 0   CI_Name    46606 non-null  int32  \n",
      " 1   CI_Subcat  46606 non-null  int32  \n",
      " 2   Category   46606 non-null  int32  \n",
      " 3   Priority   46606 non-null  float64\n",
      "dtypes: float64(1), int32(3)\n",
      "memory usage: 910.4 KB\n"
     ]
    }
   ],
   "source": [
    "x.info()"
   ]
  },
  {
   "cell_type": "code",
   "execution_count": 28,
   "id": "8adba0a8",
   "metadata": {},
   "outputs": [
    {
     "data": {
      "text/html": [
       "<div>\n",
       "<style scoped>\n",
       "    .dataframe tbody tr th:only-of-type {\n",
       "        vertical-align: middle;\n",
       "    }\n",
       "\n",
       "    .dataframe tbody tr th {\n",
       "        vertical-align: top;\n",
       "    }\n",
       "\n",
       "    .dataframe thead th {\n",
       "        text-align: right;\n",
       "    }\n",
       "</style>\n",
       "<table border=\"1\" class=\"dataframe\">\n",
       "  <thead>\n",
       "    <tr style=\"text-align: right;\">\n",
       "      <th></th>\n",
       "      <th>CI_Name</th>\n",
       "      <th>CI_Subcat</th>\n",
       "      <th>Category</th>\n",
       "      <th>Priority</th>\n",
       "    </tr>\n",
       "  </thead>\n",
       "  <tbody>\n",
       "    <tr>\n",
       "      <th>0</th>\n",
       "      <td>2741</td>\n",
       "      <td>16</td>\n",
       "      <td>1</td>\n",
       "      <td>4.0</td>\n",
       "    </tr>\n",
       "    <tr>\n",
       "      <th>1</th>\n",
       "      <td>2863</td>\n",
       "      <td>16</td>\n",
       "      <td>1</td>\n",
       "      <td>3.0</td>\n",
       "    </tr>\n",
       "    <tr>\n",
       "      <th>2</th>\n",
       "      <td>990</td>\n",
       "      <td>4</td>\n",
       "      <td>3</td>\n",
       "      <td>4.0</td>\n",
       "    </tr>\n",
       "    <tr>\n",
       "      <th>3</th>\n",
       "      <td>2863</td>\n",
       "      <td>16</td>\n",
       "      <td>1</td>\n",
       "      <td>4.0</td>\n",
       "    </tr>\n",
       "    <tr>\n",
       "      <th>4</th>\n",
       "      <td>2863</td>\n",
       "      <td>16</td>\n",
       "      <td>1</td>\n",
       "      <td>4.0</td>\n",
       "    </tr>\n",
       "  </tbody>\n",
       "</table>\n",
       "</div>"
      ],
      "text/plain": [
       "   CI_Name  CI_Subcat  Category  Priority\n",
       "0     2741         16         1       4.0\n",
       "1     2863         16         1       3.0\n",
       "2      990          4         3       4.0\n",
       "3     2863         16         1       4.0\n",
       "4     2863         16         1       4.0"
      ]
     },
     "execution_count": 28,
     "metadata": {},
     "output_type": "execute_result"
    }
   ],
   "source": [
    "x.head()"
   ]
  },
  {
   "cell_type": "code",
   "execution_count": 29,
   "id": "9e526cc7",
   "metadata": {},
   "outputs": [],
   "source": [
    "# Split data into train and test\n",
    "x_train,x_test,y_train,y_test=train_test_split(x,y,test_size=0.20,random_state=100)"
   ]
  },
  {
   "cell_type": "code",
   "execution_count": 30,
   "id": "29fcc3be",
   "metadata": {},
   "outputs": [
    {
     "data": {
      "text/plain": [
       "application       26372\n",
       "subapplication     6241\n",
       "computer           2942\n",
       "hardware            735\n",
       "storage             730\n",
       "software            264\n",
       "Name: CI_Cat, dtype: int64"
      ]
     },
     "execution_count": 30,
     "metadata": {},
     "output_type": "execute_result"
    }
   ],
   "source": [
    "y_train.value_counts()"
   ]
  },
  {
   "cell_type": "code",
   "execution_count": 31,
   "id": "6e1f0298",
   "metadata": {},
   "outputs": [],
   "source": [
    "## balancing the data\n",
    "smote=SMOTE(random_state=42)\n",
    "x_smote,y_smote=smote.fit_resample(x_train.astype(float),y_train)"
   ]
  },
  {
   "cell_type": "code",
   "execution_count": 32,
   "id": "73bfe5d4",
   "metadata": {},
   "outputs": [
    {
     "data": {
      "text/plain": [
       "(158232,)"
      ]
     },
     "execution_count": 32,
     "metadata": {},
     "output_type": "execute_result"
    }
   ],
   "source": [
    "y_smote.shape"
   ]
  },
  {
   "cell_type": "code",
   "execution_count": 33,
   "id": "e317b4ba",
   "metadata": {},
   "outputs": [
    {
     "data": {
      "text/plain": [
       "application       26372\n",
       "computer          26372\n",
       "subapplication    26372\n",
       "software          26372\n",
       "storage           26372\n",
       "hardware          26372\n",
       "Name: CI_Cat, dtype: int64"
      ]
     },
     "execution_count": 33,
     "metadata": {},
     "output_type": "execute_result"
    }
   ],
   "source": [
    "y_smote.value_counts()"
   ]
  },
  {
   "cell_type": "markdown",
   "id": "0837969b",
   "metadata": {},
   "source": [
    "### Model Building:"
   ]
  },
  {
   "cell_type": "markdown",
   "id": "076ccdca",
   "metadata": {},
   "source": [
    "#### Logistic Regression:"
   ]
  },
  {
   "cell_type": "code",
   "execution_count": 36,
   "id": "2c36606c",
   "metadata": {},
   "outputs": [
    {
     "data": {
      "text/html": [
       "<style>#sk-container-id-1 {color: black;background-color: white;}#sk-container-id-1 pre{padding: 0;}#sk-container-id-1 div.sk-toggleable {background-color: white;}#sk-container-id-1 label.sk-toggleable__label {cursor: pointer;display: block;width: 100%;margin-bottom: 0;padding: 0.3em;box-sizing: border-box;text-align: center;}#sk-container-id-1 label.sk-toggleable__label-arrow:before {content: \"▸\";float: left;margin-right: 0.25em;color: #696969;}#sk-container-id-1 label.sk-toggleable__label-arrow:hover:before {color: black;}#sk-container-id-1 div.sk-estimator:hover label.sk-toggleable__label-arrow:before {color: black;}#sk-container-id-1 div.sk-toggleable__content {max-height: 0;max-width: 0;overflow: hidden;text-align: left;background-color: #f0f8ff;}#sk-container-id-1 div.sk-toggleable__content pre {margin: 0.2em;color: black;border-radius: 0.25em;background-color: #f0f8ff;}#sk-container-id-1 input.sk-toggleable__control:checked~div.sk-toggleable__content {max-height: 200px;max-width: 100%;overflow: auto;}#sk-container-id-1 input.sk-toggleable__control:checked~label.sk-toggleable__label-arrow:before {content: \"▾\";}#sk-container-id-1 div.sk-estimator input.sk-toggleable__control:checked~label.sk-toggleable__label {background-color: #d4ebff;}#sk-container-id-1 div.sk-label input.sk-toggleable__control:checked~label.sk-toggleable__label {background-color: #d4ebff;}#sk-container-id-1 input.sk-hidden--visually {border: 0;clip: rect(1px 1px 1px 1px);clip: rect(1px, 1px, 1px, 1px);height: 1px;margin: -1px;overflow: hidden;padding: 0;position: absolute;width: 1px;}#sk-container-id-1 div.sk-estimator {font-family: monospace;background-color: #f0f8ff;border: 1px dotted black;border-radius: 0.25em;box-sizing: border-box;margin-bottom: 0.5em;}#sk-container-id-1 div.sk-estimator:hover {background-color: #d4ebff;}#sk-container-id-1 div.sk-parallel-item::after {content: \"\";width: 100%;border-bottom: 1px solid gray;flex-grow: 1;}#sk-container-id-1 div.sk-label:hover label.sk-toggleable__label {background-color: #d4ebff;}#sk-container-id-1 div.sk-serial::before {content: \"\";position: absolute;border-left: 1px solid gray;box-sizing: border-box;top: 0;bottom: 0;left: 50%;z-index: 0;}#sk-container-id-1 div.sk-serial {display: flex;flex-direction: column;align-items: center;background-color: white;padding-right: 0.2em;padding-left: 0.2em;position: relative;}#sk-container-id-1 div.sk-item {position: relative;z-index: 1;}#sk-container-id-1 div.sk-parallel {display: flex;align-items: stretch;justify-content: center;background-color: white;position: relative;}#sk-container-id-1 div.sk-item::before, #sk-container-id-1 div.sk-parallel-item::before {content: \"\";position: absolute;border-left: 1px solid gray;box-sizing: border-box;top: 0;bottom: 0;left: 50%;z-index: -1;}#sk-container-id-1 div.sk-parallel-item {display: flex;flex-direction: column;z-index: 1;position: relative;background-color: white;}#sk-container-id-1 div.sk-parallel-item:first-child::after {align-self: flex-end;width: 50%;}#sk-container-id-1 div.sk-parallel-item:last-child::after {align-self: flex-start;width: 50%;}#sk-container-id-1 div.sk-parallel-item:only-child::after {width: 0;}#sk-container-id-1 div.sk-dashed-wrapped {border: 1px dashed gray;margin: 0 0.4em 0.5em 0.4em;box-sizing: border-box;padding-bottom: 0.4em;background-color: white;}#sk-container-id-1 div.sk-label label {font-family: monospace;font-weight: bold;display: inline-block;line-height: 1.2em;}#sk-container-id-1 div.sk-label-container {text-align: center;}#sk-container-id-1 div.sk-container {/* jupyter's `normalize.less` sets `[hidden] { display: none; }` but bootstrap.min.css set `[hidden] { display: none !important; }` so we also need the `!important` here to be able to override the default hidden behavior on the sphinx rendered scikit-learn.org. See: https://github.com/scikit-learn/scikit-learn/issues/21755 */display: inline-block !important;position: relative;}#sk-container-id-1 div.sk-text-repr-fallback {display: none;}</style><div id=\"sk-container-id-1\" class=\"sk-top-container\"><div class=\"sk-text-repr-fallback\"><pre>LogisticRegression()</pre><b>In a Jupyter environment, please rerun this cell to show the HTML representation or trust the notebook. <br />On GitHub, the HTML representation is unable to render, please try loading this page with nbviewer.org.</b></div><div class=\"sk-container\" hidden><div class=\"sk-item\"><div class=\"sk-estimator sk-toggleable\"><input class=\"sk-toggleable__control sk-hidden--visually\" id=\"sk-estimator-id-1\" type=\"checkbox\" checked><label for=\"sk-estimator-id-1\" class=\"sk-toggleable__label sk-toggleable__label-arrow\">LogisticRegression</label><div class=\"sk-toggleable__content\"><pre>LogisticRegression()</pre></div></div></div></div></div>"
      ],
      "text/plain": [
       "LogisticRegression()"
      ]
     },
     "execution_count": 36,
     "metadata": {},
     "output_type": "execute_result"
    }
   ],
   "source": [
    "lr=LogisticRegression()\n",
    "lr.fit(x_train,y_train)"
   ]
  },
  {
   "cell_type": "code",
   "execution_count": 37,
   "id": "ef58b9f0",
   "metadata": {},
   "outputs": [],
   "source": [
    "y_pred_lr=lr.predict(x_test)"
   ]
  },
  {
   "cell_type": "code",
   "execution_count": 38,
   "id": "f32f39bc",
   "metadata": {},
   "outputs": [
    {
     "name": "stdout",
     "output_type": "stream",
     "text": [
      "0.6995279982836301\n"
     ]
    }
   ],
   "source": [
    "print(accuracy_score(y_test,y_pred_lr))"
   ]
  },
  {
   "cell_type": "code",
   "execution_count": 44,
   "id": "93bfb363",
   "metadata": {},
   "outputs": [
    {
     "name": "stdout",
     "output_type": "stream",
     "text": [
      "                precision    recall  f1-score   support\n",
      "\n",
      "   application       0.73      0.94      0.82      6639\n",
      "      computer       0.40      0.31      0.35       701\n",
      "      hardware       0.00      0.00      0.00       180\n",
      "      software       0.00      0.00      0.00        69\n",
      "       storage       0.00      0.00      0.00       187\n",
      "subapplication       0.27      0.03      0.05      1546\n",
      "\n",
      "      accuracy                           0.70      9322\n",
      "     macro avg       0.23      0.21      0.20      9322\n",
      "  weighted avg       0.59      0.70      0.62      9322\n",
      "\n"
     ]
    }
   ],
   "source": [
    "print(classification_report(y_test,y_pred_lr))"
   ]
  },
  {
   "cell_type": "markdown",
   "id": "25a76f31",
   "metadata": {},
   "source": [
    "#### SVM:"
   ]
  },
  {
   "cell_type": "code",
   "execution_count": 45,
   "id": "6be6f37a",
   "metadata": {},
   "outputs": [
    {
     "data": {
      "text/html": [
       "<style>#sk-container-id-2 {color: black;background-color: white;}#sk-container-id-2 pre{padding: 0;}#sk-container-id-2 div.sk-toggleable {background-color: white;}#sk-container-id-2 label.sk-toggleable__label {cursor: pointer;display: block;width: 100%;margin-bottom: 0;padding: 0.3em;box-sizing: border-box;text-align: center;}#sk-container-id-2 label.sk-toggleable__label-arrow:before {content: \"▸\";float: left;margin-right: 0.25em;color: #696969;}#sk-container-id-2 label.sk-toggleable__label-arrow:hover:before {color: black;}#sk-container-id-2 div.sk-estimator:hover label.sk-toggleable__label-arrow:before {color: black;}#sk-container-id-2 div.sk-toggleable__content {max-height: 0;max-width: 0;overflow: hidden;text-align: left;background-color: #f0f8ff;}#sk-container-id-2 div.sk-toggleable__content pre {margin: 0.2em;color: black;border-radius: 0.25em;background-color: #f0f8ff;}#sk-container-id-2 input.sk-toggleable__control:checked~div.sk-toggleable__content {max-height: 200px;max-width: 100%;overflow: auto;}#sk-container-id-2 input.sk-toggleable__control:checked~label.sk-toggleable__label-arrow:before {content: \"▾\";}#sk-container-id-2 div.sk-estimator input.sk-toggleable__control:checked~label.sk-toggleable__label {background-color: #d4ebff;}#sk-container-id-2 div.sk-label input.sk-toggleable__control:checked~label.sk-toggleable__label {background-color: #d4ebff;}#sk-container-id-2 input.sk-hidden--visually {border: 0;clip: rect(1px 1px 1px 1px);clip: rect(1px, 1px, 1px, 1px);height: 1px;margin: -1px;overflow: hidden;padding: 0;position: absolute;width: 1px;}#sk-container-id-2 div.sk-estimator {font-family: monospace;background-color: #f0f8ff;border: 1px dotted black;border-radius: 0.25em;box-sizing: border-box;margin-bottom: 0.5em;}#sk-container-id-2 div.sk-estimator:hover {background-color: #d4ebff;}#sk-container-id-2 div.sk-parallel-item::after {content: \"\";width: 100%;border-bottom: 1px solid gray;flex-grow: 1;}#sk-container-id-2 div.sk-label:hover label.sk-toggleable__label {background-color: #d4ebff;}#sk-container-id-2 div.sk-serial::before {content: \"\";position: absolute;border-left: 1px solid gray;box-sizing: border-box;top: 0;bottom: 0;left: 50%;z-index: 0;}#sk-container-id-2 div.sk-serial {display: flex;flex-direction: column;align-items: center;background-color: white;padding-right: 0.2em;padding-left: 0.2em;position: relative;}#sk-container-id-2 div.sk-item {position: relative;z-index: 1;}#sk-container-id-2 div.sk-parallel {display: flex;align-items: stretch;justify-content: center;background-color: white;position: relative;}#sk-container-id-2 div.sk-item::before, #sk-container-id-2 div.sk-parallel-item::before {content: \"\";position: absolute;border-left: 1px solid gray;box-sizing: border-box;top: 0;bottom: 0;left: 50%;z-index: -1;}#sk-container-id-2 div.sk-parallel-item {display: flex;flex-direction: column;z-index: 1;position: relative;background-color: white;}#sk-container-id-2 div.sk-parallel-item:first-child::after {align-self: flex-end;width: 50%;}#sk-container-id-2 div.sk-parallel-item:last-child::after {align-self: flex-start;width: 50%;}#sk-container-id-2 div.sk-parallel-item:only-child::after {width: 0;}#sk-container-id-2 div.sk-dashed-wrapped {border: 1px dashed gray;margin: 0 0.4em 0.5em 0.4em;box-sizing: border-box;padding-bottom: 0.4em;background-color: white;}#sk-container-id-2 div.sk-label label {font-family: monospace;font-weight: bold;display: inline-block;line-height: 1.2em;}#sk-container-id-2 div.sk-label-container {text-align: center;}#sk-container-id-2 div.sk-container {/* jupyter's `normalize.less` sets `[hidden] { display: none; }` but bootstrap.min.css set `[hidden] { display: none !important; }` so we also need the `!important` here to be able to override the default hidden behavior on the sphinx rendered scikit-learn.org. See: https://github.com/scikit-learn/scikit-learn/issues/21755 */display: inline-block !important;position: relative;}#sk-container-id-2 div.sk-text-repr-fallback {display: none;}</style><div id=\"sk-container-id-2\" class=\"sk-top-container\"><div class=\"sk-text-repr-fallback\"><pre>SVC(C=10, gamma=0.1)</pre><b>In a Jupyter environment, please rerun this cell to show the HTML representation or trust the notebook. <br />On GitHub, the HTML representation is unable to render, please try loading this page with nbviewer.org.</b></div><div class=\"sk-container\" hidden><div class=\"sk-item\"><div class=\"sk-estimator sk-toggleable\"><input class=\"sk-toggleable__control sk-hidden--visually\" id=\"sk-estimator-id-2\" type=\"checkbox\" checked><label for=\"sk-estimator-id-2\" class=\"sk-toggleable__label sk-toggleable__label-arrow\">SVC</label><div class=\"sk-toggleable__content\"><pre>SVC(C=10, gamma=0.1)</pre></div></div></div></div></div>"
      ],
      "text/plain": [
       "SVC(C=10, gamma=0.1)"
      ]
     },
     "execution_count": 45,
     "metadata": {},
     "output_type": "execute_result"
    }
   ],
   "source": [
    "svm=SVC(kernel='rbf',C=10,gamma=0.1)\n",
    "svm.fit(x_train,y_train)"
   ]
  },
  {
   "cell_type": "code",
   "execution_count": 46,
   "id": "be957d58",
   "metadata": {},
   "outputs": [],
   "source": [
    "y_pred_svm=svm.predict(x_test)"
   ]
  },
  {
   "cell_type": "code",
   "execution_count": 47,
   "id": "970014cc",
   "metadata": {},
   "outputs": [
    {
     "name": "stdout",
     "output_type": "stream",
     "text": [
      "0.9993563612958593\n"
     ]
    }
   ],
   "source": [
    "print(accuracy_score(y_test,y_pred_svm))"
   ]
  },
  {
   "cell_type": "code",
   "execution_count": 48,
   "id": "ef165f13",
   "metadata": {},
   "outputs": [
    {
     "name": "stdout",
     "output_type": "stream",
     "text": [
      "                precision    recall  f1-score   support\n",
      "\n",
      "   application       1.00      1.00      1.00      6639\n",
      "      computer       1.00      1.00      1.00       701\n",
      "      hardware       1.00      0.99      1.00       180\n",
      "      software       1.00      0.97      0.99        69\n",
      "       storage       0.99      0.99      0.99       187\n",
      "subapplication       1.00      1.00      1.00      1546\n",
      "\n",
      "      accuracy                           1.00      9322\n",
      "     macro avg       1.00      0.99      1.00      9322\n",
      "  weighted avg       1.00      1.00      1.00      9322\n",
      "\n"
     ]
    }
   ],
   "source": [
    "print(classification_report(y_test,y_pred_svm))"
   ]
  },
  {
   "cell_type": "markdown",
   "id": "5edad1ec",
   "metadata": {},
   "source": [
    "#### RandomForest Classifier:"
   ]
  },
  {
   "cell_type": "code",
   "execution_count": 49,
   "id": "a8a9f8d7",
   "metadata": {},
   "outputs": [
    {
     "data": {
      "text/html": [
       "<style>#sk-container-id-3 {color: black;background-color: white;}#sk-container-id-3 pre{padding: 0;}#sk-container-id-3 div.sk-toggleable {background-color: white;}#sk-container-id-3 label.sk-toggleable__label {cursor: pointer;display: block;width: 100%;margin-bottom: 0;padding: 0.3em;box-sizing: border-box;text-align: center;}#sk-container-id-3 label.sk-toggleable__label-arrow:before {content: \"▸\";float: left;margin-right: 0.25em;color: #696969;}#sk-container-id-3 label.sk-toggleable__label-arrow:hover:before {color: black;}#sk-container-id-3 div.sk-estimator:hover label.sk-toggleable__label-arrow:before {color: black;}#sk-container-id-3 div.sk-toggleable__content {max-height: 0;max-width: 0;overflow: hidden;text-align: left;background-color: #f0f8ff;}#sk-container-id-3 div.sk-toggleable__content pre {margin: 0.2em;color: black;border-radius: 0.25em;background-color: #f0f8ff;}#sk-container-id-3 input.sk-toggleable__control:checked~div.sk-toggleable__content {max-height: 200px;max-width: 100%;overflow: auto;}#sk-container-id-3 input.sk-toggleable__control:checked~label.sk-toggleable__label-arrow:before {content: \"▾\";}#sk-container-id-3 div.sk-estimator input.sk-toggleable__control:checked~label.sk-toggleable__label {background-color: #d4ebff;}#sk-container-id-3 div.sk-label input.sk-toggleable__control:checked~label.sk-toggleable__label {background-color: #d4ebff;}#sk-container-id-3 input.sk-hidden--visually {border: 0;clip: rect(1px 1px 1px 1px);clip: rect(1px, 1px, 1px, 1px);height: 1px;margin: -1px;overflow: hidden;padding: 0;position: absolute;width: 1px;}#sk-container-id-3 div.sk-estimator {font-family: monospace;background-color: #f0f8ff;border: 1px dotted black;border-radius: 0.25em;box-sizing: border-box;margin-bottom: 0.5em;}#sk-container-id-3 div.sk-estimator:hover {background-color: #d4ebff;}#sk-container-id-3 div.sk-parallel-item::after {content: \"\";width: 100%;border-bottom: 1px solid gray;flex-grow: 1;}#sk-container-id-3 div.sk-label:hover label.sk-toggleable__label {background-color: #d4ebff;}#sk-container-id-3 div.sk-serial::before {content: \"\";position: absolute;border-left: 1px solid gray;box-sizing: border-box;top: 0;bottom: 0;left: 50%;z-index: 0;}#sk-container-id-3 div.sk-serial {display: flex;flex-direction: column;align-items: center;background-color: white;padding-right: 0.2em;padding-left: 0.2em;position: relative;}#sk-container-id-3 div.sk-item {position: relative;z-index: 1;}#sk-container-id-3 div.sk-parallel {display: flex;align-items: stretch;justify-content: center;background-color: white;position: relative;}#sk-container-id-3 div.sk-item::before, #sk-container-id-3 div.sk-parallel-item::before {content: \"\";position: absolute;border-left: 1px solid gray;box-sizing: border-box;top: 0;bottom: 0;left: 50%;z-index: -1;}#sk-container-id-3 div.sk-parallel-item {display: flex;flex-direction: column;z-index: 1;position: relative;background-color: white;}#sk-container-id-3 div.sk-parallel-item:first-child::after {align-self: flex-end;width: 50%;}#sk-container-id-3 div.sk-parallel-item:last-child::after {align-self: flex-start;width: 50%;}#sk-container-id-3 div.sk-parallel-item:only-child::after {width: 0;}#sk-container-id-3 div.sk-dashed-wrapped {border: 1px dashed gray;margin: 0 0.4em 0.5em 0.4em;box-sizing: border-box;padding-bottom: 0.4em;background-color: white;}#sk-container-id-3 div.sk-label label {font-family: monospace;font-weight: bold;display: inline-block;line-height: 1.2em;}#sk-container-id-3 div.sk-label-container {text-align: center;}#sk-container-id-3 div.sk-container {/* jupyter's `normalize.less` sets `[hidden] { display: none; }` but bootstrap.min.css set `[hidden] { display: none !important; }` so we also need the `!important` here to be able to override the default hidden behavior on the sphinx rendered scikit-learn.org. See: https://github.com/scikit-learn/scikit-learn/issues/21755 */display: inline-block !important;position: relative;}#sk-container-id-3 div.sk-text-repr-fallback {display: none;}</style><div id=\"sk-container-id-3\" class=\"sk-top-container\"><div class=\"sk-text-repr-fallback\"><pre>RandomForestClassifier()</pre><b>In a Jupyter environment, please rerun this cell to show the HTML representation or trust the notebook. <br />On GitHub, the HTML representation is unable to render, please try loading this page with nbviewer.org.</b></div><div class=\"sk-container\" hidden><div class=\"sk-item\"><div class=\"sk-estimator sk-toggleable\"><input class=\"sk-toggleable__control sk-hidden--visually\" id=\"sk-estimator-id-3\" type=\"checkbox\" checked><label for=\"sk-estimator-id-3\" class=\"sk-toggleable__label sk-toggleable__label-arrow\">RandomForestClassifier</label><div class=\"sk-toggleable__content\"><pre>RandomForestClassifier()</pre></div></div></div></div></div>"
      ],
      "text/plain": [
       "RandomForestClassifier()"
      ]
     },
     "execution_count": 49,
     "metadata": {},
     "output_type": "execute_result"
    }
   ],
   "source": [
    "rf = RandomForestClassifier()\n",
    "rf.fit(x_train,y_train)"
   ]
  },
  {
   "cell_type": "code",
   "execution_count": 50,
   "id": "4889a806",
   "metadata": {},
   "outputs": [],
   "source": [
    "y_pred_rf=rf.predict(x_test)"
   ]
  },
  {
   "cell_type": "code",
   "execution_count": 51,
   "id": "6a1fb4f1",
   "metadata": {},
   "outputs": [
    {
     "name": "stdout",
     "output_type": "stream",
     "text": [
      "0.9997854537652864\n"
     ]
    }
   ],
   "source": [
    "print(accuracy_score(y_test,y_pred_rf))"
   ]
  },
  {
   "cell_type": "code",
   "execution_count": 52,
   "id": "8fe04638",
   "metadata": {},
   "outputs": [
    {
     "name": "stdout",
     "output_type": "stream",
     "text": [
      "                precision    recall  f1-score   support\n",
      "\n",
      "   application       1.00      1.00      1.00      6639\n",
      "      computer       1.00      1.00      1.00       701\n",
      "      hardware       1.00      1.00      1.00       180\n",
      "      software       1.00      1.00      1.00        69\n",
      "       storage       1.00      0.99      1.00       187\n",
      "subapplication       1.00      1.00      1.00      1546\n",
      "\n",
      "      accuracy                           1.00      9322\n",
      "     macro avg       1.00      1.00      1.00      9322\n",
      "  weighted avg       1.00      1.00      1.00      9322\n",
      "\n"
     ]
    }
   ],
   "source": [
    "print(classification_report(y_test,y_pred_rf))"
   ]
  },
  {
   "cell_type": "markdown",
   "id": "0cbd7145",
   "metadata": {},
   "source": [
    "#### KNN:"
   ]
  },
  {
   "cell_type": "code",
   "execution_count": 53,
   "id": "c4b12b9b",
   "metadata": {},
   "outputs": [
    {
     "data": {
      "text/html": [
       "<style>#sk-container-id-4 {color: black;background-color: white;}#sk-container-id-4 pre{padding: 0;}#sk-container-id-4 div.sk-toggleable {background-color: white;}#sk-container-id-4 label.sk-toggleable__label {cursor: pointer;display: block;width: 100%;margin-bottom: 0;padding: 0.3em;box-sizing: border-box;text-align: center;}#sk-container-id-4 label.sk-toggleable__label-arrow:before {content: \"▸\";float: left;margin-right: 0.25em;color: #696969;}#sk-container-id-4 label.sk-toggleable__label-arrow:hover:before {color: black;}#sk-container-id-4 div.sk-estimator:hover label.sk-toggleable__label-arrow:before {color: black;}#sk-container-id-4 div.sk-toggleable__content {max-height: 0;max-width: 0;overflow: hidden;text-align: left;background-color: #f0f8ff;}#sk-container-id-4 div.sk-toggleable__content pre {margin: 0.2em;color: black;border-radius: 0.25em;background-color: #f0f8ff;}#sk-container-id-4 input.sk-toggleable__control:checked~div.sk-toggleable__content {max-height: 200px;max-width: 100%;overflow: auto;}#sk-container-id-4 input.sk-toggleable__control:checked~label.sk-toggleable__label-arrow:before {content: \"▾\";}#sk-container-id-4 div.sk-estimator input.sk-toggleable__control:checked~label.sk-toggleable__label {background-color: #d4ebff;}#sk-container-id-4 div.sk-label input.sk-toggleable__control:checked~label.sk-toggleable__label {background-color: #d4ebff;}#sk-container-id-4 input.sk-hidden--visually {border: 0;clip: rect(1px 1px 1px 1px);clip: rect(1px, 1px, 1px, 1px);height: 1px;margin: -1px;overflow: hidden;padding: 0;position: absolute;width: 1px;}#sk-container-id-4 div.sk-estimator {font-family: monospace;background-color: #f0f8ff;border: 1px dotted black;border-radius: 0.25em;box-sizing: border-box;margin-bottom: 0.5em;}#sk-container-id-4 div.sk-estimator:hover {background-color: #d4ebff;}#sk-container-id-4 div.sk-parallel-item::after {content: \"\";width: 100%;border-bottom: 1px solid gray;flex-grow: 1;}#sk-container-id-4 div.sk-label:hover label.sk-toggleable__label {background-color: #d4ebff;}#sk-container-id-4 div.sk-serial::before {content: \"\";position: absolute;border-left: 1px solid gray;box-sizing: border-box;top: 0;bottom: 0;left: 50%;z-index: 0;}#sk-container-id-4 div.sk-serial {display: flex;flex-direction: column;align-items: center;background-color: white;padding-right: 0.2em;padding-left: 0.2em;position: relative;}#sk-container-id-4 div.sk-item {position: relative;z-index: 1;}#sk-container-id-4 div.sk-parallel {display: flex;align-items: stretch;justify-content: center;background-color: white;position: relative;}#sk-container-id-4 div.sk-item::before, #sk-container-id-4 div.sk-parallel-item::before {content: \"\";position: absolute;border-left: 1px solid gray;box-sizing: border-box;top: 0;bottom: 0;left: 50%;z-index: -1;}#sk-container-id-4 div.sk-parallel-item {display: flex;flex-direction: column;z-index: 1;position: relative;background-color: white;}#sk-container-id-4 div.sk-parallel-item:first-child::after {align-self: flex-end;width: 50%;}#sk-container-id-4 div.sk-parallel-item:last-child::after {align-self: flex-start;width: 50%;}#sk-container-id-4 div.sk-parallel-item:only-child::after {width: 0;}#sk-container-id-4 div.sk-dashed-wrapped {border: 1px dashed gray;margin: 0 0.4em 0.5em 0.4em;box-sizing: border-box;padding-bottom: 0.4em;background-color: white;}#sk-container-id-4 div.sk-label label {font-family: monospace;font-weight: bold;display: inline-block;line-height: 1.2em;}#sk-container-id-4 div.sk-label-container {text-align: center;}#sk-container-id-4 div.sk-container {/* jupyter's `normalize.less` sets `[hidden] { display: none; }` but bootstrap.min.css set `[hidden] { display: none !important; }` so we also need the `!important` here to be able to override the default hidden behavior on the sphinx rendered scikit-learn.org. See: https://github.com/scikit-learn/scikit-learn/issues/21755 */display: inline-block !important;position: relative;}#sk-container-id-4 div.sk-text-repr-fallback {display: none;}</style><div id=\"sk-container-id-4\" class=\"sk-top-container\"><div class=\"sk-text-repr-fallback\"><pre>KNeighborsClassifier()</pre><b>In a Jupyter environment, please rerun this cell to show the HTML representation or trust the notebook. <br />On GitHub, the HTML representation is unable to render, please try loading this page with nbviewer.org.</b></div><div class=\"sk-container\" hidden><div class=\"sk-item\"><div class=\"sk-estimator sk-toggleable\"><input class=\"sk-toggleable__control sk-hidden--visually\" id=\"sk-estimator-id-4\" type=\"checkbox\" checked><label for=\"sk-estimator-id-4\" class=\"sk-toggleable__label sk-toggleable__label-arrow\">KNeighborsClassifier</label><div class=\"sk-toggleable__content\"><pre>KNeighborsClassifier()</pre></div></div></div></div></div>"
      ],
      "text/plain": [
       "KNeighborsClassifier()"
      ]
     },
     "execution_count": 53,
     "metadata": {},
     "output_type": "execute_result"
    }
   ],
   "source": [
    "knn = KNeighborsClassifier()\n",
    "knn.fit(x_train,y_train)"
   ]
  },
  {
   "cell_type": "code",
   "execution_count": 54,
   "id": "bd2efc27",
   "metadata": {},
   "outputs": [],
   "source": [
    "y_pred_knn=knn.predict(x_test)"
   ]
  },
  {
   "cell_type": "code",
   "execution_count": 55,
   "id": "a30b1957",
   "metadata": {},
   "outputs": [
    {
     "name": "stdout",
     "output_type": "stream",
     "text": [
      "0.9991418150611456\n"
     ]
    }
   ],
   "source": [
    "print(accuracy_score(y_test,y_pred_knn))"
   ]
  },
  {
   "cell_type": "markdown",
   "id": "59075897",
   "metadata": {},
   "source": [
    "#### ANN:"
   ]
  },
  {
   "cell_type": "code",
   "execution_count": 56,
   "id": "831b7e34",
   "metadata": {},
   "outputs": [
    {
     "data": {
      "text/html": [
       "<style>#sk-container-id-5 {color: black;background-color: white;}#sk-container-id-5 pre{padding: 0;}#sk-container-id-5 div.sk-toggleable {background-color: white;}#sk-container-id-5 label.sk-toggleable__label {cursor: pointer;display: block;width: 100%;margin-bottom: 0;padding: 0.3em;box-sizing: border-box;text-align: center;}#sk-container-id-5 label.sk-toggleable__label-arrow:before {content: \"▸\";float: left;margin-right: 0.25em;color: #696969;}#sk-container-id-5 label.sk-toggleable__label-arrow:hover:before {color: black;}#sk-container-id-5 div.sk-estimator:hover label.sk-toggleable__label-arrow:before {color: black;}#sk-container-id-5 div.sk-toggleable__content {max-height: 0;max-width: 0;overflow: hidden;text-align: left;background-color: #f0f8ff;}#sk-container-id-5 div.sk-toggleable__content pre {margin: 0.2em;color: black;border-radius: 0.25em;background-color: #f0f8ff;}#sk-container-id-5 input.sk-toggleable__control:checked~div.sk-toggleable__content {max-height: 200px;max-width: 100%;overflow: auto;}#sk-container-id-5 input.sk-toggleable__control:checked~label.sk-toggleable__label-arrow:before {content: \"▾\";}#sk-container-id-5 div.sk-estimator input.sk-toggleable__control:checked~label.sk-toggleable__label {background-color: #d4ebff;}#sk-container-id-5 div.sk-label input.sk-toggleable__control:checked~label.sk-toggleable__label {background-color: #d4ebff;}#sk-container-id-5 input.sk-hidden--visually {border: 0;clip: rect(1px 1px 1px 1px);clip: rect(1px, 1px, 1px, 1px);height: 1px;margin: -1px;overflow: hidden;padding: 0;position: absolute;width: 1px;}#sk-container-id-5 div.sk-estimator {font-family: monospace;background-color: #f0f8ff;border: 1px dotted black;border-radius: 0.25em;box-sizing: border-box;margin-bottom: 0.5em;}#sk-container-id-5 div.sk-estimator:hover {background-color: #d4ebff;}#sk-container-id-5 div.sk-parallel-item::after {content: \"\";width: 100%;border-bottom: 1px solid gray;flex-grow: 1;}#sk-container-id-5 div.sk-label:hover label.sk-toggleable__label {background-color: #d4ebff;}#sk-container-id-5 div.sk-serial::before {content: \"\";position: absolute;border-left: 1px solid gray;box-sizing: border-box;top: 0;bottom: 0;left: 50%;z-index: 0;}#sk-container-id-5 div.sk-serial {display: flex;flex-direction: column;align-items: center;background-color: white;padding-right: 0.2em;padding-left: 0.2em;position: relative;}#sk-container-id-5 div.sk-item {position: relative;z-index: 1;}#sk-container-id-5 div.sk-parallel {display: flex;align-items: stretch;justify-content: center;background-color: white;position: relative;}#sk-container-id-5 div.sk-item::before, #sk-container-id-5 div.sk-parallel-item::before {content: \"\";position: absolute;border-left: 1px solid gray;box-sizing: border-box;top: 0;bottom: 0;left: 50%;z-index: -1;}#sk-container-id-5 div.sk-parallel-item {display: flex;flex-direction: column;z-index: 1;position: relative;background-color: white;}#sk-container-id-5 div.sk-parallel-item:first-child::after {align-self: flex-end;width: 50%;}#sk-container-id-5 div.sk-parallel-item:last-child::after {align-self: flex-start;width: 50%;}#sk-container-id-5 div.sk-parallel-item:only-child::after {width: 0;}#sk-container-id-5 div.sk-dashed-wrapped {border: 1px dashed gray;margin: 0 0.4em 0.5em 0.4em;box-sizing: border-box;padding-bottom: 0.4em;background-color: white;}#sk-container-id-5 div.sk-label label {font-family: monospace;font-weight: bold;display: inline-block;line-height: 1.2em;}#sk-container-id-5 div.sk-label-container {text-align: center;}#sk-container-id-5 div.sk-container {/* jupyter's `normalize.less` sets `[hidden] { display: none; }` but bootstrap.min.css set `[hidden] { display: none !important; }` so we also need the `!important` here to be able to override the default hidden behavior on the sphinx rendered scikit-learn.org. See: https://github.com/scikit-learn/scikit-learn/issues/21755 */display: inline-block !important;position: relative;}#sk-container-id-5 div.sk-text-repr-fallback {display: none;}</style><div id=\"sk-container-id-5\" class=\"sk-top-container\"><div class=\"sk-text-repr-fallback\"><pre>MLPClassifier()</pre><b>In a Jupyter environment, please rerun this cell to show the HTML representation or trust the notebook. <br />On GitHub, the HTML representation is unable to render, please try loading this page with nbviewer.org.</b></div><div class=\"sk-container\" hidden><div class=\"sk-item\"><div class=\"sk-estimator sk-toggleable\"><input class=\"sk-toggleable__control sk-hidden--visually\" id=\"sk-estimator-id-5\" type=\"checkbox\" checked><label for=\"sk-estimator-id-5\" class=\"sk-toggleable__label sk-toggleable__label-arrow\">MLPClassifier</label><div class=\"sk-toggleable__content\"><pre>MLPClassifier()</pre></div></div></div></div></div>"
      ],
      "text/plain": [
       "MLPClassifier()"
      ]
     },
     "execution_count": 56,
     "metadata": {},
     "output_type": "execute_result"
    }
   ],
   "source": [
    "ann=MLPClassifier()\n",
    "ann.fit(x_train,y_train)"
   ]
  },
  {
   "cell_type": "code",
   "execution_count": 58,
   "id": "06cdd0e2",
   "metadata": {},
   "outputs": [],
   "source": [
    "y_pred_ann=ann.predict(x_test)"
   ]
  },
  {
   "cell_type": "code",
   "execution_count": 59,
   "id": "2a70ceca",
   "metadata": {},
   "outputs": [
    {
     "data": {
      "text/plain": [
       "0.7386826861188586"
      ]
     },
     "execution_count": 59,
     "metadata": {},
     "output_type": "execute_result"
    }
   ],
   "source": [
    "accuracy_score(y_test,y_pred_ann)"
   ]
  },
  {
   "cell_type": "code",
   "execution_count": 60,
   "id": "68b5d218",
   "metadata": {},
   "outputs": [
    {
     "name": "stdout",
     "output_type": "stream",
     "text": [
      "                precision    recall  f1-score   support\n",
      "\n",
      "   application       0.73      1.00      0.85      6639\n",
      "      computer       0.89      0.28      0.43       701\n",
      "      hardware       0.00      0.00      0.00       180\n",
      "      software       1.00      0.13      0.23        69\n",
      "       storage       1.00      0.22      0.37       187\n",
      "subapplication       0.00      0.00      0.00      1546\n",
      "\n",
      "      accuracy                           0.74      9322\n",
      "     macro avg       0.60      0.27      0.31      9322\n",
      "  weighted avg       0.62      0.74      0.64      9322\n",
      "\n"
     ]
    }
   ],
   "source": [
    "print(classification_report(y_test,y_pred_ann))"
   ]
  },
  {
   "cell_type": "code",
   "execution_count": 62,
   "id": "53a8d310",
   "metadata": {},
   "outputs": [
    {
     "name": "stdout",
     "output_type": "stream",
     "text": [
      "+-------+---------------------+----------+\n",
      "| Sr.No |        Model        | Accuracy |\n",
      "+-------+---------------------+----------+\n",
      "|   1   | Logistic Regression |   0.69   |\n",
      "|   2   |         SVM         |   0.99   |\n",
      "|   3   |         KNN         |   0.99   |\n",
      "|   4   |    Random Forest    |   0.99   |\n",
      "|   5   |         ANN         |   0.74   |\n",
      "+-------+---------------------+----------+\n"
     ]
    }
   ],
   "source": [
    "table=PrettyTable()\n",
    "table.field_names = ['Sr.No',\"Model\",\"Accuracy\"] \n",
    "table.add_row([1,\"Logistic Regression\",0.69 ])\n",
    "table.add_row([2,\"SVM\", 0.99])\n",
    "table.add_row([3,'KNN',0.99])\n",
    "table.add_row([4,'Random Forest',0.99])\n",
    "table.add_row([5,'ANN',0.74])\n",
    "print(table)"
   ]
  },
  {
   "cell_type": "markdown",
   "id": "9ff30be9",
   "metadata": {},
   "source": [
    "From above table,observed that SVM,KNN and RandomForest classifier algorithms give good accuracy."
   ]
  },
  {
   "cell_type": "markdown",
   "id": "6cd14a6b",
   "metadata": {},
   "source": [
    "### Task4: Predict RFC (Request for change) and possible failure /misconfiguration of ITSM assets."
   ]
  },
  {
   "cell_type": "code",
   "execution_count": 68,
   "id": "4649c8f8",
   "metadata": {},
   "outputs": [
    {
     "data": {
      "text/html": [
       "<div>\n",
       "<style scoped>\n",
       "    .dataframe tbody tr th:only-of-type {\n",
       "        vertical-align: middle;\n",
       "    }\n",
       "\n",
       "    .dataframe tbody tr th {\n",
       "        vertical-align: top;\n",
       "    }\n",
       "\n",
       "    .dataframe thead th {\n",
       "        text-align: right;\n",
       "    }\n",
       "</style>\n",
       "<table border=\"1\" class=\"dataframe\">\n",
       "  <thead>\n",
       "    <tr style=\"text-align: right;\">\n",
       "      <th></th>\n",
       "      <th>CI_Name</th>\n",
       "      <th>CI_Cat</th>\n",
       "      <th>CI_Subcat</th>\n",
       "      <th>WBS</th>\n",
       "      <th>Incident_ID</th>\n",
       "      <th>Status</th>\n",
       "      <th>Impact</th>\n",
       "      <th>Urgency</th>\n",
       "      <th>Priority</th>\n",
       "      <th>number_cnt</th>\n",
       "      <th>Category</th>\n",
       "      <th>KB_number</th>\n",
       "      <th>Alert_Status</th>\n",
       "      <th>No_of_Reassignments</th>\n",
       "      <th>Open_Time</th>\n",
       "      <th>Reopen_Time</th>\n",
       "      <th>Resolved_Time</th>\n",
       "      <th>Close_Time</th>\n",
       "      <th>Handle_Time_hrs</th>\n",
       "      <th>Closure_Code</th>\n",
       "      <th>No_of_Related_Interactions</th>\n",
       "      <th>Related_Interaction</th>\n",
       "      <th>No_of_Related_Incidents</th>\n",
       "      <th>No_of_Related_Changes</th>\n",
       "      <th>Related_Change</th>\n",
       "    </tr>\n",
       "  </thead>\n",
       "  <tbody>\n",
       "    <tr>\n",
       "      <th>0</th>\n",
       "      <td>SUB000508</td>\n",
       "      <td>subapplication</td>\n",
       "      <td>Web Based Application</td>\n",
       "      <td>WBS000162</td>\n",
       "      <td>IM0000004</td>\n",
       "      <td>Closed</td>\n",
       "      <td>4</td>\n",
       "      <td>4</td>\n",
       "      <td>4.0</td>\n",
       "      <td>0.601292</td>\n",
       "      <td>incident</td>\n",
       "      <td>KM0000553</td>\n",
       "      <td>closed</td>\n",
       "      <td>26.0</td>\n",
       "      <td>05-02-2012 13:32</td>\n",
       "      <td>NaN</td>\n",
       "      <td>04-11-2013 13:50</td>\n",
       "      <td>04-11-2013 13:51</td>\n",
       "      <td>3,87,16,91,111</td>\n",
       "      <td>Other</td>\n",
       "      <td>1.0</td>\n",
       "      <td>SD0000007</td>\n",
       "      <td>2.0</td>\n",
       "      <td>0.0</td>\n",
       "      <td>NaN</td>\n",
       "    </tr>\n",
       "    <tr>\n",
       "      <th>1</th>\n",
       "      <td>WBA000124</td>\n",
       "      <td>application</td>\n",
       "      <td>Web Based Application</td>\n",
       "      <td>WBS000088</td>\n",
       "      <td>IM0000005</td>\n",
       "      <td>Closed</td>\n",
       "      <td>3</td>\n",
       "      <td>3</td>\n",
       "      <td>3.0</td>\n",
       "      <td>0.415050</td>\n",
       "      <td>incident</td>\n",
       "      <td>KM0000611</td>\n",
       "      <td>closed</td>\n",
       "      <td>33.0</td>\n",
       "      <td>12-03-2012 15:44</td>\n",
       "      <td>02-12-2013 12:31</td>\n",
       "      <td>02-12-2013 12:36</td>\n",
       "      <td>02-12-2013 12:36</td>\n",
       "      <td>4,35,47,86,389</td>\n",
       "      <td>Software</td>\n",
       "      <td>1.0</td>\n",
       "      <td>SD0000011</td>\n",
       "      <td>1.0</td>\n",
       "      <td>0.0</td>\n",
       "      <td>NaN</td>\n",
       "    </tr>\n",
       "    <tr>\n",
       "      <th>2</th>\n",
       "      <td>DTA000024</td>\n",
       "      <td>application</td>\n",
       "      <td>Desktop Application</td>\n",
       "      <td>WBS000092</td>\n",
       "      <td>IM0000006</td>\n",
       "      <td>Closed</td>\n",
       "      <td>NS</td>\n",
       "      <td>3</td>\n",
       "      <td>4.0</td>\n",
       "      <td>0.517551</td>\n",
       "      <td>request for information</td>\n",
       "      <td>KM0000339</td>\n",
       "      <td>closed</td>\n",
       "      <td>3.0</td>\n",
       "      <td>29-03-2012 12:36</td>\n",
       "      <td>NaN</td>\n",
       "      <td>13-01-2014 15:12</td>\n",
       "      <td>13-01-2014 15:13</td>\n",
       "      <td>4,84,31,19,444</td>\n",
       "      <td>No error - works as designed</td>\n",
       "      <td>1.0</td>\n",
       "      <td>SD0000017</td>\n",
       "      <td>0.0</td>\n",
       "      <td>0.0</td>\n",
       "      <td>NaN</td>\n",
       "    </tr>\n",
       "    <tr>\n",
       "      <th>3</th>\n",
       "      <td>WBA000124</td>\n",
       "      <td>application</td>\n",
       "      <td>Web Based Application</td>\n",
       "      <td>WBS000088</td>\n",
       "      <td>IM0000011</td>\n",
       "      <td>Closed</td>\n",
       "      <td>4</td>\n",
       "      <td>4</td>\n",
       "      <td>4.0</td>\n",
       "      <td>0.642927</td>\n",
       "      <td>incident</td>\n",
       "      <td>KM0000611</td>\n",
       "      <td>closed</td>\n",
       "      <td>13.0</td>\n",
       "      <td>17-07-2012 11:49</td>\n",
       "      <td>NaN</td>\n",
       "      <td>14-11-2013 09:31</td>\n",
       "      <td>14-11-2013 09:31</td>\n",
       "      <td>4,32,18,33,333</td>\n",
       "      <td>Operator error</td>\n",
       "      <td>1.0</td>\n",
       "      <td>SD0000025</td>\n",
       "      <td>0.0</td>\n",
       "      <td>0.0</td>\n",
       "      <td>NaN</td>\n",
       "    </tr>\n",
       "    <tr>\n",
       "      <th>4</th>\n",
       "      <td>WBA000124</td>\n",
       "      <td>application</td>\n",
       "      <td>Web Based Application</td>\n",
       "      <td>WBS000088</td>\n",
       "      <td>IM0000012</td>\n",
       "      <td>Closed</td>\n",
       "      <td>4</td>\n",
       "      <td>4</td>\n",
       "      <td>4.0</td>\n",
       "      <td>0.345258</td>\n",
       "      <td>incident</td>\n",
       "      <td>KM0000611</td>\n",
       "      <td>closed</td>\n",
       "      <td>2.0</td>\n",
       "      <td>10-08-2012 11:01</td>\n",
       "      <td>NaN</td>\n",
       "      <td>08-11-2013 13:55</td>\n",
       "      <td>08-11-2013 13:55</td>\n",
       "      <td>3,38,39,03,333</td>\n",
       "      <td>Other</td>\n",
       "      <td>1.0</td>\n",
       "      <td>SD0000029</td>\n",
       "      <td>0.0</td>\n",
       "      <td>0.0</td>\n",
       "      <td>NaN</td>\n",
       "    </tr>\n",
       "  </tbody>\n",
       "</table>\n",
       "</div>"
      ],
      "text/plain": [
       "     CI_Name          CI_Cat              CI_Subcat        WBS Incident_ID  \\\n",
       "0  SUB000508  subapplication  Web Based Application  WBS000162   IM0000004   \n",
       "1  WBA000124     application  Web Based Application  WBS000088   IM0000005   \n",
       "2  DTA000024     application    Desktop Application  WBS000092   IM0000006   \n",
       "3  WBA000124     application  Web Based Application  WBS000088   IM0000011   \n",
       "4  WBA000124     application  Web Based Application  WBS000088   IM0000012   \n",
       "\n",
       "   Status Impact Urgency  Priority  number_cnt                 Category  \\\n",
       "0  Closed      4       4       4.0    0.601292                 incident   \n",
       "1  Closed      3       3       3.0    0.415050                 incident   \n",
       "2  Closed     NS       3       4.0    0.517551  request for information   \n",
       "3  Closed      4       4       4.0    0.642927                 incident   \n",
       "4  Closed      4       4       4.0    0.345258                 incident   \n",
       "\n",
       "   KB_number Alert_Status  No_of_Reassignments         Open_Time  \\\n",
       "0  KM0000553       closed                 26.0  05-02-2012 13:32   \n",
       "1  KM0000611       closed                 33.0  12-03-2012 15:44   \n",
       "2  KM0000339       closed                  3.0  29-03-2012 12:36   \n",
       "3  KM0000611       closed                 13.0  17-07-2012 11:49   \n",
       "4  KM0000611       closed                  2.0  10-08-2012 11:01   \n",
       "\n",
       "        Reopen_Time     Resolved_Time        Close_Time Handle_Time_hrs  \\\n",
       "0               NaN  04-11-2013 13:50  04-11-2013 13:51  3,87,16,91,111   \n",
       "1  02-12-2013 12:31  02-12-2013 12:36  02-12-2013 12:36  4,35,47,86,389   \n",
       "2               NaN  13-01-2014 15:12  13-01-2014 15:13  4,84,31,19,444   \n",
       "3               NaN  14-11-2013 09:31  14-11-2013 09:31  4,32,18,33,333   \n",
       "4               NaN  08-11-2013 13:55  08-11-2013 13:55  3,38,39,03,333   \n",
       "\n",
       "                   Closure_Code  No_of_Related_Interactions  \\\n",
       "0                         Other                         1.0   \n",
       "1                      Software                         1.0   \n",
       "2  No error - works as designed                         1.0   \n",
       "3                Operator error                         1.0   \n",
       "4                         Other                         1.0   \n",
       "\n",
       "  Related_Interaction  No_of_Related_Incidents  No_of_Related_Changes  \\\n",
       "0           SD0000007                      2.0                    0.0   \n",
       "1           SD0000011                      1.0                    0.0   \n",
       "2           SD0000017                      0.0                    0.0   \n",
       "3           SD0000025                      0.0                    0.0   \n",
       "4           SD0000029                      0.0                    0.0   \n",
       "\n",
       "  Related_Change  \n",
       "0            NaN  \n",
       "1            NaN  \n",
       "2            NaN  \n",
       "3            NaN  \n",
       "4            NaN  "
      ]
     },
     "execution_count": 68,
     "metadata": {},
     "output_type": "execute_result"
    }
   ],
   "source": [
    "data.head()"
   ]
  },
  {
   "cell_type": "code",
   "execution_count": 69,
   "id": "85477577",
   "metadata": {},
   "outputs": [
    {
     "name": "stdout",
     "output_type": "stream",
     "text": [
      "<class 'pandas.core.frame.DataFrame'>\n",
      "RangeIndex: 46606 entries, 0 to 46605\n",
      "Data columns (total 25 columns):\n",
      " #   Column                      Non-Null Count  Dtype  \n",
      "---  ------                      --------------  -----  \n",
      " 0   CI_Name                     46606 non-null  object \n",
      " 1   CI_Cat                      46606 non-null  object \n",
      " 2   CI_Subcat                   46606 non-null  object \n",
      " 3   WBS                         46606 non-null  object \n",
      " 4   Incident_ID                 46606 non-null  object \n",
      " 5   Status                      46606 non-null  object \n",
      " 6   Impact                      46606 non-null  object \n",
      " 7   Urgency                     46606 non-null  object \n",
      " 8   Priority                    46606 non-null  float64\n",
      " 9   number_cnt                  46606 non-null  float64\n",
      " 10  Category                    46606 non-null  object \n",
      " 11  KB_number                   46606 non-null  object \n",
      " 12  Alert_Status                46606 non-null  object \n",
      " 13  No_of_Reassignments         46605 non-null  float64\n",
      " 14  Open_Time                   46606 non-null  object \n",
      " 15  Reopen_Time                 2284 non-null   object \n",
      " 16  Resolved_Time               44826 non-null  object \n",
      " 17  Close_Time                  46606 non-null  object \n",
      " 18  Handle_Time_hrs             46605 non-null  object \n",
      " 19  Closure_Code                46146 non-null  object \n",
      " 20  No_of_Related_Interactions  46606 non-null  float64\n",
      " 21  Related_Interaction         46606 non-null  object \n",
      " 22  No_of_Related_Incidents     46606 non-null  float64\n",
      " 23  No_of_Related_Changes       46606 non-null  float64\n",
      " 24  Related_Change              560 non-null    object \n",
      "dtypes: float64(6), object(19)\n",
      "memory usage: 8.9+ MB\n"
     ]
    }
   ],
   "source": [
    "data.info()"
   ]
  },
  {
   "cell_type": "markdown",
   "id": "a77d7e3e",
   "metadata": {},
   "source": [
    "Data for this task is not sufficient so we can not solve these business case."
   ]
  }
 ],
 "metadata": {
  "kernelspec": {
   "display_name": "Python 3 (ipykernel)",
   "language": "python",
   "name": "python3"
  },
  "language_info": {
   "codemirror_mode": {
    "name": "ipython",
    "version": 3
   },
   "file_extension": ".py",
   "mimetype": "text/x-python",
   "name": "python",
   "nbconvert_exporter": "python",
   "pygments_lexer": "ipython3",
   "version": "3.10.9"
  }
 },
 "nbformat": 4,
 "nbformat_minor": 5
}
